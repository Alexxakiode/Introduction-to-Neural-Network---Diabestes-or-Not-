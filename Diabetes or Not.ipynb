{
  "nbformat": 4,
  "nbformat_minor": 0,
  "metadata": {
    "colab": {
      "provenance": [],
      "include_colab_link": true
    },
    "kernelspec": {
      "name": "python3",
      "display_name": "Python 3"
    },
    "accelerator": "GPU",
    "gpuClass": "standard"
  },
  "cells": [
    {
      "cell_type": "markdown",
      "metadata": {
        "id": "view-in-github",
        "colab_type": "text"
      },
      "source": [
        "<a href=\"https://colab.research.google.com/github/Alexxakiode/Introduction-to-Neural-Network---Diabestes-or-Not-/blob/main/Diabetes%20or%20Not.ipynb\" target=\"_parent\"><img src=\"https://colab.research.google.com/assets/colab-badge.svg\" alt=\"Open In Colab\"/></a>"
      ]
    },
    {
      "cell_type": "markdown",
      "metadata": {
        "id": "8etGIdHNvoqL"
      },
      "source": [
        "# Diabetes or Not using Neural Network\n",
        "\n",
        "0 = Diabetes (Negative)\n",
        "\n",
        "1= Diabetes (Positive) "
      ]
    },
    {
      "cell_type": "markdown",
      "source": [
        "This process is aimed at building and optimising neural network models targeted at finding out if a medical record can predict Diabetes status in a Patient."
      ],
      "metadata": {
        "id": "SMAPx6wTxKmE"
      }
    },
    {
      "cell_type": "code",
      "source": [
        "# import libraries\n",
        "import pandas as pd\n",
        "import seaborn as sns\n",
        "\n",
        "from sklearn.preprocessing import LabelEncoder\n",
        "from sklearn.model_selection import train_test_split\n",
        "\n",
        "import tensorflow as tf\n",
        "from tensorflow import keras\n",
        "from tensorflow.keras import layers\n",
        "\n",
        "from keras.layers import LeakyReLU\n",
        "from tensorflow.keras.layers import LeakyReLU\n",
        "\n",
        "from tensorflow.keras.optimizers import SGD\n",
        "from keras.optimizers import gradient_descent_v2\n",
        "\n",
        "\n",
        "from sklearn import metrics\n",
        "\n",
        "# set random seeds to get reproducible results\n",
        "import os\n",
        "seed = 100\n",
        "os.environ['PYTHONHASHSEED']=str(seed) \n",
        "keras.utils.set_random_seed(seed) # set all random seeds for the program (Python, NumPy, and TensorFlow) "
      ],
      "metadata": {
        "id": "uJ4yTHaBzMNP"
      },
      "execution_count": null,
      "outputs": []
    },
    {
      "cell_type": "code",
      "source": [
        "from google.colab import drive\n",
        "drive.mount('/content/drive')"
      ],
      "metadata": {
        "colab": {
          "base_uri": "https://localhost:8080/"
        },
        "id": "_x9bgAJD727x",
        "outputId": "5ece6229-0667-464d-bf02-c1886d2cce21"
      },
      "execution_count": null,
      "outputs": [
        {
          "output_type": "stream",
          "name": "stdout",
          "text": [
            "Drive already mounted at /content/drive; to attempt to forcibly remount, call drive.mount(\"/content/drive\", force_remount=True).\n"
          ]
        }
      ]
    },
    {
      "cell_type": "markdown",
      "source": [
        "## Understanding the problem and data set \n",
        "\n",
        "Given a data set that contains patient medical records of Pima Indians and whether they had an onset of diabetes within five years. \n",
        "\n",
        "Using these data you need to build and optimise a neural\n",
        "network to predict the possibility to have diabetes.<br>\n",
        "\n",
        "The diagnosed labels are 0 and 1:\n",
        "\n",
        "0 = tested negative for diabetes\n",
        "\n",
        "1= tested positive for diabetes  "
      ],
      "metadata": {
        "id": "zY4I5kYWxpCB"
      }
    },
    {
      "cell_type": "markdown",
      "metadata": {
        "id": "0DtsGMwFvZKu"
      },
      "source": [
        "### Load and analyse the data set"
      ]
    },
    {
      "cell_type": "code",
      "source": [
        "diabetes_datafolder = '/content/drive/MyDrive/AppliedAI/Assessment 4/diabetes_data'"
      ],
      "metadata": {
        "id": "BIOWBvH9UxRT"
      },
      "execution_count": null,
      "outputs": []
    },
    {
      "cell_type": "code",
      "source": [
        "# load training data\n",
        "diabetes_train = pd.read_csv(os.path.join(diabetes_datafolder, \"train.csv\"))\n",
        "\n",
        "# summarise the details\n",
        "print(f'Number of entries: {len(diabetes_train)}')\n",
        "diabetes_train.head()"
      ],
      "metadata": {
        "colab": {
          "base_uri": "https://localhost:8080/",
          "height": 223
        },
        "id": "BflRjyXmy7PF",
        "outputId": "0c0423c9-3261-4d8f-aeed-d3082bfe5d46"
      },
      "execution_count": null,
      "outputs": [
        {
          "output_type": "stream",
          "name": "stdout",
          "text": [
            "Number of entries: 668\n"
          ]
        },
        {
          "output_type": "execute_result",
          "data": {
            "text/plain": [
              "   id  A1   A2  A3  A4   A5    A6     A7  A8  class\n",
              "0   1   6  148  72  35    0  33.6  0.627  50      1\n",
              "1   2   1   85  66  29    0  26.6  0.351  31      0\n",
              "2   3   8  183  64   0    0  23.3  0.672  32      1\n",
              "3   4   1   89  66  23   94  28.1  0.167  21      0\n",
              "4   5   0  137  40  35  168  43.1  2.288  33      1"
            ],
            "text/html": [
              "\n",
              "  <div id=\"df-9db5a15c-1677-4062-bb27-050f07ad5da1\">\n",
              "    <div class=\"colab-df-container\">\n",
              "      <div>\n",
              "<style scoped>\n",
              "    .dataframe tbody tr th:only-of-type {\n",
              "        vertical-align: middle;\n",
              "    }\n",
              "\n",
              "    .dataframe tbody tr th {\n",
              "        vertical-align: top;\n",
              "    }\n",
              "\n",
              "    .dataframe thead th {\n",
              "        text-align: right;\n",
              "    }\n",
              "</style>\n",
              "<table border=\"1\" class=\"dataframe\">\n",
              "  <thead>\n",
              "    <tr style=\"text-align: right;\">\n",
              "      <th></th>\n",
              "      <th>id</th>\n",
              "      <th>A1</th>\n",
              "      <th>A2</th>\n",
              "      <th>A3</th>\n",
              "      <th>A4</th>\n",
              "      <th>A5</th>\n",
              "      <th>A6</th>\n",
              "      <th>A7</th>\n",
              "      <th>A8</th>\n",
              "      <th>class</th>\n",
              "    </tr>\n",
              "  </thead>\n",
              "  <tbody>\n",
              "    <tr>\n",
              "      <th>0</th>\n",
              "      <td>1</td>\n",
              "      <td>6</td>\n",
              "      <td>148</td>\n",
              "      <td>72</td>\n",
              "      <td>35</td>\n",
              "      <td>0</td>\n",
              "      <td>33.6</td>\n",
              "      <td>0.627</td>\n",
              "      <td>50</td>\n",
              "      <td>1</td>\n",
              "    </tr>\n",
              "    <tr>\n",
              "      <th>1</th>\n",
              "      <td>2</td>\n",
              "      <td>1</td>\n",
              "      <td>85</td>\n",
              "      <td>66</td>\n",
              "      <td>29</td>\n",
              "      <td>0</td>\n",
              "      <td>26.6</td>\n",
              "      <td>0.351</td>\n",
              "      <td>31</td>\n",
              "      <td>0</td>\n",
              "    </tr>\n",
              "    <tr>\n",
              "      <th>2</th>\n",
              "      <td>3</td>\n",
              "      <td>8</td>\n",
              "      <td>183</td>\n",
              "      <td>64</td>\n",
              "      <td>0</td>\n",
              "      <td>0</td>\n",
              "      <td>23.3</td>\n",
              "      <td>0.672</td>\n",
              "      <td>32</td>\n",
              "      <td>1</td>\n",
              "    </tr>\n",
              "    <tr>\n",
              "      <th>3</th>\n",
              "      <td>4</td>\n",
              "      <td>1</td>\n",
              "      <td>89</td>\n",
              "      <td>66</td>\n",
              "      <td>23</td>\n",
              "      <td>94</td>\n",
              "      <td>28.1</td>\n",
              "      <td>0.167</td>\n",
              "      <td>21</td>\n",
              "      <td>0</td>\n",
              "    </tr>\n",
              "    <tr>\n",
              "      <th>4</th>\n",
              "      <td>5</td>\n",
              "      <td>0</td>\n",
              "      <td>137</td>\n",
              "      <td>40</td>\n",
              "      <td>35</td>\n",
              "      <td>168</td>\n",
              "      <td>43.1</td>\n",
              "      <td>2.288</td>\n",
              "      <td>33</td>\n",
              "      <td>1</td>\n",
              "    </tr>\n",
              "  </tbody>\n",
              "</table>\n",
              "</div>\n",
              "      <button class=\"colab-df-convert\" onclick=\"convertToInteractive('df-9db5a15c-1677-4062-bb27-050f07ad5da1')\"\n",
              "              title=\"Convert this dataframe to an interactive table.\"\n",
              "              style=\"display:none;\">\n",
              "        \n",
              "  <svg xmlns=\"http://www.w3.org/2000/svg\" height=\"24px\"viewBox=\"0 0 24 24\"\n",
              "       width=\"24px\">\n",
              "    <path d=\"M0 0h24v24H0V0z\" fill=\"none\"/>\n",
              "    <path d=\"M18.56 5.44l.94 2.06.94-2.06 2.06-.94-2.06-.94-.94-2.06-.94 2.06-2.06.94zm-11 1L8.5 8.5l.94-2.06 2.06-.94-2.06-.94L8.5 2.5l-.94 2.06-2.06.94zm10 10l.94 2.06.94-2.06 2.06-.94-2.06-.94-.94-2.06-.94 2.06-2.06.94z\"/><path d=\"M17.41 7.96l-1.37-1.37c-.4-.4-.92-.59-1.43-.59-.52 0-1.04.2-1.43.59L10.3 9.45l-7.72 7.72c-.78.78-.78 2.05 0 2.83L4 21.41c.39.39.9.59 1.41.59.51 0 1.02-.2 1.41-.59l7.78-7.78 2.81-2.81c.8-.78.8-2.07 0-2.86zM5.41 20L4 18.59l7.72-7.72 1.47 1.35L5.41 20z\"/>\n",
              "  </svg>\n",
              "      </button>\n",
              "      \n",
              "  <style>\n",
              "    .colab-df-container {\n",
              "      display:flex;\n",
              "      flex-wrap:wrap;\n",
              "      gap: 12px;\n",
              "    }\n",
              "\n",
              "    .colab-df-convert {\n",
              "      background-color: #E8F0FE;\n",
              "      border: none;\n",
              "      border-radius: 50%;\n",
              "      cursor: pointer;\n",
              "      display: none;\n",
              "      fill: #1967D2;\n",
              "      height: 32px;\n",
              "      padding: 0 0 0 0;\n",
              "      width: 32px;\n",
              "    }\n",
              "\n",
              "    .colab-df-convert:hover {\n",
              "      background-color: #E2EBFA;\n",
              "      box-shadow: 0px 1px 2px rgba(60, 64, 67, 0.3), 0px 1px 3px 1px rgba(60, 64, 67, 0.15);\n",
              "      fill: #174EA6;\n",
              "    }\n",
              "\n",
              "    [theme=dark] .colab-df-convert {\n",
              "      background-color: #3B4455;\n",
              "      fill: #D2E3FC;\n",
              "    }\n",
              "\n",
              "    [theme=dark] .colab-df-convert:hover {\n",
              "      background-color: #434B5C;\n",
              "      box-shadow: 0px 1px 3px 1px rgba(0, 0, 0, 0.15);\n",
              "      filter: drop-shadow(0px 1px 2px rgba(0, 0, 0, 0.3));\n",
              "      fill: #FFFFFF;\n",
              "    }\n",
              "  </style>\n",
              "\n",
              "      <script>\n",
              "        const buttonEl =\n",
              "          document.querySelector('#df-9db5a15c-1677-4062-bb27-050f07ad5da1 button.colab-df-convert');\n",
              "        buttonEl.style.display =\n",
              "          google.colab.kernel.accessAllowed ? 'block' : 'none';\n",
              "\n",
              "        async function convertToInteractive(key) {\n",
              "          const element = document.querySelector('#df-9db5a15c-1677-4062-bb27-050f07ad5da1');\n",
              "          const dataTable =\n",
              "            await google.colab.kernel.invokeFunction('convertToInteractive',\n",
              "                                                     [key], {});\n",
              "          if (!dataTable) return;\n",
              "\n",
              "          const docLinkHtml = 'Like what you see? Visit the ' +\n",
              "            '<a target=\"_blank\" href=https://colab.research.google.com/notebooks/data_table.ipynb>data table notebook</a>'\n",
              "            + ' to learn more about interactive tables.';\n",
              "          element.innerHTML = '';\n",
              "          dataTable['output_type'] = 'display_data';\n",
              "          await google.colab.output.renderOutput(dataTable, element);\n",
              "          const docLink = document.createElement('div');\n",
              "          docLink.innerHTML = docLinkHtml;\n",
              "          element.appendChild(docLink);\n",
              "        }\n",
              "      </script>\n",
              "    </div>\n",
              "  </div>\n",
              "  "
            ]
          },
          "metadata": {},
          "execution_count": 4
        }
      ]
    },
    {
      "cell_type": "code",
      "source": [
        "# load testing data\n",
        "diabetes_test = pd.read_csv(os.path.join(diabetes_datafolder, \"test.csv\"))\n",
        "\n",
        "# summarise the details\n",
        "print(f'Number of entries: {len(diabetes_test)}')\n",
        "diabetes_test.head()"
      ],
      "metadata": {
        "colab": {
          "base_uri": "https://localhost:8080/",
          "height": 223
        },
        "id": "-VCF04rSYWqI",
        "outputId": "be532e22-2464-4150-82df-8ca961b2d5f6"
      },
      "execution_count": null,
      "outputs": [
        {
          "output_type": "stream",
          "name": "stdout",
          "text": [
            "Number of entries: 100\n"
          ]
        },
        {
          "output_type": "execute_result",
          "data": {
            "text/plain": [
              "   id  A1   A2   A3  A4   A5    A6     A7  A8\n",
              "0   1   6   98   58  33  190  34.0  0.430  43\n",
              "1   2   9  154   78  30  100  30.9  0.164  45\n",
              "2   3   6  165   68  26  168  33.6  0.631  49\n",
              "3   4   1   99   58  10    0  25.4  0.551  21\n",
              "4   5  10   68  106  23   49  35.5  0.285  47"
            ],
            "text/html": [
              "\n",
              "  <div id=\"df-d8cb0d00-a681-4395-bb47-381a79e9368c\">\n",
              "    <div class=\"colab-df-container\">\n",
              "      <div>\n",
              "<style scoped>\n",
              "    .dataframe tbody tr th:only-of-type {\n",
              "        vertical-align: middle;\n",
              "    }\n",
              "\n",
              "    .dataframe tbody tr th {\n",
              "        vertical-align: top;\n",
              "    }\n",
              "\n",
              "    .dataframe thead th {\n",
              "        text-align: right;\n",
              "    }\n",
              "</style>\n",
              "<table border=\"1\" class=\"dataframe\">\n",
              "  <thead>\n",
              "    <tr style=\"text-align: right;\">\n",
              "      <th></th>\n",
              "      <th>id</th>\n",
              "      <th>A1</th>\n",
              "      <th>A2</th>\n",
              "      <th>A3</th>\n",
              "      <th>A4</th>\n",
              "      <th>A5</th>\n",
              "      <th>A6</th>\n",
              "      <th>A7</th>\n",
              "      <th>A8</th>\n",
              "    </tr>\n",
              "  </thead>\n",
              "  <tbody>\n",
              "    <tr>\n",
              "      <th>0</th>\n",
              "      <td>1</td>\n",
              "      <td>6</td>\n",
              "      <td>98</td>\n",
              "      <td>58</td>\n",
              "      <td>33</td>\n",
              "      <td>190</td>\n",
              "      <td>34.0</td>\n",
              "      <td>0.430</td>\n",
              "      <td>43</td>\n",
              "    </tr>\n",
              "    <tr>\n",
              "      <th>1</th>\n",
              "      <td>2</td>\n",
              "      <td>9</td>\n",
              "      <td>154</td>\n",
              "      <td>78</td>\n",
              "      <td>30</td>\n",
              "      <td>100</td>\n",
              "      <td>30.9</td>\n",
              "      <td>0.164</td>\n",
              "      <td>45</td>\n",
              "    </tr>\n",
              "    <tr>\n",
              "      <th>2</th>\n",
              "      <td>3</td>\n",
              "      <td>6</td>\n",
              "      <td>165</td>\n",
              "      <td>68</td>\n",
              "      <td>26</td>\n",
              "      <td>168</td>\n",
              "      <td>33.6</td>\n",
              "      <td>0.631</td>\n",
              "      <td>49</td>\n",
              "    </tr>\n",
              "    <tr>\n",
              "      <th>3</th>\n",
              "      <td>4</td>\n",
              "      <td>1</td>\n",
              "      <td>99</td>\n",
              "      <td>58</td>\n",
              "      <td>10</td>\n",
              "      <td>0</td>\n",
              "      <td>25.4</td>\n",
              "      <td>0.551</td>\n",
              "      <td>21</td>\n",
              "    </tr>\n",
              "    <tr>\n",
              "      <th>4</th>\n",
              "      <td>5</td>\n",
              "      <td>10</td>\n",
              "      <td>68</td>\n",
              "      <td>106</td>\n",
              "      <td>23</td>\n",
              "      <td>49</td>\n",
              "      <td>35.5</td>\n",
              "      <td>0.285</td>\n",
              "      <td>47</td>\n",
              "    </tr>\n",
              "  </tbody>\n",
              "</table>\n",
              "</div>\n",
              "      <button class=\"colab-df-convert\" onclick=\"convertToInteractive('df-d8cb0d00-a681-4395-bb47-381a79e9368c')\"\n",
              "              title=\"Convert this dataframe to an interactive table.\"\n",
              "              style=\"display:none;\">\n",
              "        \n",
              "  <svg xmlns=\"http://www.w3.org/2000/svg\" height=\"24px\"viewBox=\"0 0 24 24\"\n",
              "       width=\"24px\">\n",
              "    <path d=\"M0 0h24v24H0V0z\" fill=\"none\"/>\n",
              "    <path d=\"M18.56 5.44l.94 2.06.94-2.06 2.06-.94-2.06-.94-.94-2.06-.94 2.06-2.06.94zm-11 1L8.5 8.5l.94-2.06 2.06-.94-2.06-.94L8.5 2.5l-.94 2.06-2.06.94zm10 10l.94 2.06.94-2.06 2.06-.94-2.06-.94-.94-2.06-.94 2.06-2.06.94z\"/><path d=\"M17.41 7.96l-1.37-1.37c-.4-.4-.92-.59-1.43-.59-.52 0-1.04.2-1.43.59L10.3 9.45l-7.72 7.72c-.78.78-.78 2.05 0 2.83L4 21.41c.39.39.9.59 1.41.59.51 0 1.02-.2 1.41-.59l7.78-7.78 2.81-2.81c.8-.78.8-2.07 0-2.86zM5.41 20L4 18.59l7.72-7.72 1.47 1.35L5.41 20z\"/>\n",
              "  </svg>\n",
              "      </button>\n",
              "      \n",
              "  <style>\n",
              "    .colab-df-container {\n",
              "      display:flex;\n",
              "      flex-wrap:wrap;\n",
              "      gap: 12px;\n",
              "    }\n",
              "\n",
              "    .colab-df-convert {\n",
              "      background-color: #E8F0FE;\n",
              "      border: none;\n",
              "      border-radius: 50%;\n",
              "      cursor: pointer;\n",
              "      display: none;\n",
              "      fill: #1967D2;\n",
              "      height: 32px;\n",
              "      padding: 0 0 0 0;\n",
              "      width: 32px;\n",
              "    }\n",
              "\n",
              "    .colab-df-convert:hover {\n",
              "      background-color: #E2EBFA;\n",
              "      box-shadow: 0px 1px 2px rgba(60, 64, 67, 0.3), 0px 1px 3px 1px rgba(60, 64, 67, 0.15);\n",
              "      fill: #174EA6;\n",
              "    }\n",
              "\n",
              "    [theme=dark] .colab-df-convert {\n",
              "      background-color: #3B4455;\n",
              "      fill: #D2E3FC;\n",
              "    }\n",
              "\n",
              "    [theme=dark] .colab-df-convert:hover {\n",
              "      background-color: #434B5C;\n",
              "      box-shadow: 0px 1px 3px 1px rgba(0, 0, 0, 0.15);\n",
              "      filter: drop-shadow(0px 1px 2px rgba(0, 0, 0, 0.3));\n",
              "      fill: #FFFFFF;\n",
              "    }\n",
              "  </style>\n",
              "\n",
              "      <script>\n",
              "        const buttonEl =\n",
              "          document.querySelector('#df-d8cb0d00-a681-4395-bb47-381a79e9368c button.colab-df-convert');\n",
              "        buttonEl.style.display =\n",
              "          google.colab.kernel.accessAllowed ? 'block' : 'none';\n",
              "\n",
              "        async function convertToInteractive(key) {\n",
              "          const element = document.querySelector('#df-d8cb0d00-a681-4395-bb47-381a79e9368c');\n",
              "          const dataTable =\n",
              "            await google.colab.kernel.invokeFunction('convertToInteractive',\n",
              "                                                     [key], {});\n",
              "          if (!dataTable) return;\n",
              "\n",
              "          const docLinkHtml = 'Like what you see? Visit the ' +\n",
              "            '<a target=\"_blank\" href=https://colab.research.google.com/notebooks/data_table.ipynb>data table notebook</a>'\n",
              "            + ' to learn more about interactive tables.';\n",
              "          element.innerHTML = '';\n",
              "          dataTable['output_type'] = 'display_data';\n",
              "          await google.colab.output.renderOutput(dataTable, element);\n",
              "          const docLink = document.createElement('div');\n",
              "          docLink.innerHTML = docLinkHtml;\n",
              "          element.appendChild(docLink);\n",
              "        }\n",
              "      </script>\n",
              "    </div>\n",
              "  </div>\n",
              "  "
            ]
          },
          "metadata": {},
          "execution_count": 5
        }
      ]
    },
    {
      "cell_type": "code",
      "metadata": {
        "colab": {
          "base_uri": "https://localhost:8080/"
        },
        "id": "Ij6zxxyqTINw",
        "outputId": "26a110a6-8380-4bd5-cec0-cd2ab23410ca"
      },
      "source": [
        "diabetes_train.info()"
      ],
      "execution_count": null,
      "outputs": [
        {
          "output_type": "stream",
          "name": "stdout",
          "text": [
            "<class 'pandas.core.frame.DataFrame'>\n",
            "RangeIndex: 668 entries, 0 to 667\n",
            "Data columns (total 10 columns):\n",
            " #   Column  Non-Null Count  Dtype  \n",
            "---  ------  --------------  -----  \n",
            " 0   id      668 non-null    int64  \n",
            " 1   A1      668 non-null    int64  \n",
            " 2   A2      668 non-null    int64  \n",
            " 3   A3      668 non-null    int64  \n",
            " 4   A4      668 non-null    int64  \n",
            " 5   A5      668 non-null    int64  \n",
            " 6   A6      668 non-null    float64\n",
            " 7   A7      668 non-null    float64\n",
            " 8   A8      668 non-null    int64  \n",
            " 9   class   668 non-null    int64  \n",
            "dtypes: float64(2), int64(8)\n",
            "memory usage: 52.3 KB\n"
          ]
        }
      ]
    },
    {
      "cell_type": "code",
      "metadata": {
        "colab": {
          "base_uri": "https://localhost:8080/",
          "height": 300
        },
        "id": "m3g17MJuTPmZ",
        "outputId": "0dcb1767-389c-4f14-9ebb-8a9db881fd11"
      },
      "source": [
        "diabetes_train.describe()"
      ],
      "execution_count": null,
      "outputs": [
        {
          "output_type": "execute_result",
          "data": {
            "text/plain": [
              "               id          A1          A2          A3          A4          A5  \\\n",
              "count  668.000000  668.000000  668.000000  668.000000  668.000000  668.000000   \n",
              "mean   334.500000    3.812874  120.405689   68.748503   20.567365   79.654192   \n",
              "std    192.979273    3.365672   32.291473   19.526392   16.020600  115.827750   \n",
              "min      1.000000    0.000000    0.000000    0.000000    0.000000    0.000000   \n",
              "25%    167.750000    1.000000   99.000000   64.000000    0.000000    0.000000   \n",
              "50%    334.500000    3.000000  116.000000   72.000000   23.000000   36.500000   \n",
              "75%    501.250000    6.000000  140.000000   80.000000   32.000000  126.000000   \n",
              "max    668.000000   17.000000  199.000000  122.000000   99.000000  846.000000   \n",
              "\n",
              "               A6          A7          A8       class  \n",
              "count  668.000000  668.000000  668.000000  668.000000  \n",
              "mean    31.860180    0.477329   33.091317    0.345808  \n",
              "std      7.827111    0.341398   11.711386    0.475988  \n",
              "min      0.000000    0.078000   21.000000    0.000000  \n",
              "25%     27.100000    0.238750   24.000000    0.000000  \n",
              "50%     32.000000    0.377000   29.000000    0.000000  \n",
              "75%     36.500000    0.641250   40.000000    1.000000  \n",
              "max     67.100000    2.420000   81.000000    1.000000  "
            ],
            "text/html": [
              "\n",
              "  <div id=\"df-ca17e029-4d95-4c0d-b38a-ba17517b5f9b\">\n",
              "    <div class=\"colab-df-container\">\n",
              "      <div>\n",
              "<style scoped>\n",
              "    .dataframe tbody tr th:only-of-type {\n",
              "        vertical-align: middle;\n",
              "    }\n",
              "\n",
              "    .dataframe tbody tr th {\n",
              "        vertical-align: top;\n",
              "    }\n",
              "\n",
              "    .dataframe thead th {\n",
              "        text-align: right;\n",
              "    }\n",
              "</style>\n",
              "<table border=\"1\" class=\"dataframe\">\n",
              "  <thead>\n",
              "    <tr style=\"text-align: right;\">\n",
              "      <th></th>\n",
              "      <th>id</th>\n",
              "      <th>A1</th>\n",
              "      <th>A2</th>\n",
              "      <th>A3</th>\n",
              "      <th>A4</th>\n",
              "      <th>A5</th>\n",
              "      <th>A6</th>\n",
              "      <th>A7</th>\n",
              "      <th>A8</th>\n",
              "      <th>class</th>\n",
              "    </tr>\n",
              "  </thead>\n",
              "  <tbody>\n",
              "    <tr>\n",
              "      <th>count</th>\n",
              "      <td>668.000000</td>\n",
              "      <td>668.000000</td>\n",
              "      <td>668.000000</td>\n",
              "      <td>668.000000</td>\n",
              "      <td>668.000000</td>\n",
              "      <td>668.000000</td>\n",
              "      <td>668.000000</td>\n",
              "      <td>668.000000</td>\n",
              "      <td>668.000000</td>\n",
              "      <td>668.000000</td>\n",
              "    </tr>\n",
              "    <tr>\n",
              "      <th>mean</th>\n",
              "      <td>334.500000</td>\n",
              "      <td>3.812874</td>\n",
              "      <td>120.405689</td>\n",
              "      <td>68.748503</td>\n",
              "      <td>20.567365</td>\n",
              "      <td>79.654192</td>\n",
              "      <td>31.860180</td>\n",
              "      <td>0.477329</td>\n",
              "      <td>33.091317</td>\n",
              "      <td>0.345808</td>\n",
              "    </tr>\n",
              "    <tr>\n",
              "      <th>std</th>\n",
              "      <td>192.979273</td>\n",
              "      <td>3.365672</td>\n",
              "      <td>32.291473</td>\n",
              "      <td>19.526392</td>\n",
              "      <td>16.020600</td>\n",
              "      <td>115.827750</td>\n",
              "      <td>7.827111</td>\n",
              "      <td>0.341398</td>\n",
              "      <td>11.711386</td>\n",
              "      <td>0.475988</td>\n",
              "    </tr>\n",
              "    <tr>\n",
              "      <th>min</th>\n",
              "      <td>1.000000</td>\n",
              "      <td>0.000000</td>\n",
              "      <td>0.000000</td>\n",
              "      <td>0.000000</td>\n",
              "      <td>0.000000</td>\n",
              "      <td>0.000000</td>\n",
              "      <td>0.000000</td>\n",
              "      <td>0.078000</td>\n",
              "      <td>21.000000</td>\n",
              "      <td>0.000000</td>\n",
              "    </tr>\n",
              "    <tr>\n",
              "      <th>25%</th>\n",
              "      <td>167.750000</td>\n",
              "      <td>1.000000</td>\n",
              "      <td>99.000000</td>\n",
              "      <td>64.000000</td>\n",
              "      <td>0.000000</td>\n",
              "      <td>0.000000</td>\n",
              "      <td>27.100000</td>\n",
              "      <td>0.238750</td>\n",
              "      <td>24.000000</td>\n",
              "      <td>0.000000</td>\n",
              "    </tr>\n",
              "    <tr>\n",
              "      <th>50%</th>\n",
              "      <td>334.500000</td>\n",
              "      <td>3.000000</td>\n",
              "      <td>116.000000</td>\n",
              "      <td>72.000000</td>\n",
              "      <td>23.000000</td>\n",
              "      <td>36.500000</td>\n",
              "      <td>32.000000</td>\n",
              "      <td>0.377000</td>\n",
              "      <td>29.000000</td>\n",
              "      <td>0.000000</td>\n",
              "    </tr>\n",
              "    <tr>\n",
              "      <th>75%</th>\n",
              "      <td>501.250000</td>\n",
              "      <td>6.000000</td>\n",
              "      <td>140.000000</td>\n",
              "      <td>80.000000</td>\n",
              "      <td>32.000000</td>\n",
              "      <td>126.000000</td>\n",
              "      <td>36.500000</td>\n",
              "      <td>0.641250</td>\n",
              "      <td>40.000000</td>\n",
              "      <td>1.000000</td>\n",
              "    </tr>\n",
              "    <tr>\n",
              "      <th>max</th>\n",
              "      <td>668.000000</td>\n",
              "      <td>17.000000</td>\n",
              "      <td>199.000000</td>\n",
              "      <td>122.000000</td>\n",
              "      <td>99.000000</td>\n",
              "      <td>846.000000</td>\n",
              "      <td>67.100000</td>\n",
              "      <td>2.420000</td>\n",
              "      <td>81.000000</td>\n",
              "      <td>1.000000</td>\n",
              "    </tr>\n",
              "  </tbody>\n",
              "</table>\n",
              "</div>\n",
              "      <button class=\"colab-df-convert\" onclick=\"convertToInteractive('df-ca17e029-4d95-4c0d-b38a-ba17517b5f9b')\"\n",
              "              title=\"Convert this dataframe to an interactive table.\"\n",
              "              style=\"display:none;\">\n",
              "        \n",
              "  <svg xmlns=\"http://www.w3.org/2000/svg\" height=\"24px\"viewBox=\"0 0 24 24\"\n",
              "       width=\"24px\">\n",
              "    <path d=\"M0 0h24v24H0V0z\" fill=\"none\"/>\n",
              "    <path d=\"M18.56 5.44l.94 2.06.94-2.06 2.06-.94-2.06-.94-.94-2.06-.94 2.06-2.06.94zm-11 1L8.5 8.5l.94-2.06 2.06-.94-2.06-.94L8.5 2.5l-.94 2.06-2.06.94zm10 10l.94 2.06.94-2.06 2.06-.94-2.06-.94-.94-2.06-.94 2.06-2.06.94z\"/><path d=\"M17.41 7.96l-1.37-1.37c-.4-.4-.92-.59-1.43-.59-.52 0-1.04.2-1.43.59L10.3 9.45l-7.72 7.72c-.78.78-.78 2.05 0 2.83L4 21.41c.39.39.9.59 1.41.59.51 0 1.02-.2 1.41-.59l7.78-7.78 2.81-2.81c.8-.78.8-2.07 0-2.86zM5.41 20L4 18.59l7.72-7.72 1.47 1.35L5.41 20z\"/>\n",
              "  </svg>\n",
              "      </button>\n",
              "      \n",
              "  <style>\n",
              "    .colab-df-container {\n",
              "      display:flex;\n",
              "      flex-wrap:wrap;\n",
              "      gap: 12px;\n",
              "    }\n",
              "\n",
              "    .colab-df-convert {\n",
              "      background-color: #E8F0FE;\n",
              "      border: none;\n",
              "      border-radius: 50%;\n",
              "      cursor: pointer;\n",
              "      display: none;\n",
              "      fill: #1967D2;\n",
              "      height: 32px;\n",
              "      padding: 0 0 0 0;\n",
              "      width: 32px;\n",
              "    }\n",
              "\n",
              "    .colab-df-convert:hover {\n",
              "      background-color: #E2EBFA;\n",
              "      box-shadow: 0px 1px 2px rgba(60, 64, 67, 0.3), 0px 1px 3px 1px rgba(60, 64, 67, 0.15);\n",
              "      fill: #174EA6;\n",
              "    }\n",
              "\n",
              "    [theme=dark] .colab-df-convert {\n",
              "      background-color: #3B4455;\n",
              "      fill: #D2E3FC;\n",
              "    }\n",
              "\n",
              "    [theme=dark] .colab-df-convert:hover {\n",
              "      background-color: #434B5C;\n",
              "      box-shadow: 0px 1px 3px 1px rgba(0, 0, 0, 0.15);\n",
              "      filter: drop-shadow(0px 1px 2px rgba(0, 0, 0, 0.3));\n",
              "      fill: #FFFFFF;\n",
              "    }\n",
              "  </style>\n",
              "\n",
              "      <script>\n",
              "        const buttonEl =\n",
              "          document.querySelector('#df-ca17e029-4d95-4c0d-b38a-ba17517b5f9b button.colab-df-convert');\n",
              "        buttonEl.style.display =\n",
              "          google.colab.kernel.accessAllowed ? 'block' : 'none';\n",
              "\n",
              "        async function convertToInteractive(key) {\n",
              "          const element = document.querySelector('#df-ca17e029-4d95-4c0d-b38a-ba17517b5f9b');\n",
              "          const dataTable =\n",
              "            await google.colab.kernel.invokeFunction('convertToInteractive',\n",
              "                                                     [key], {});\n",
              "          if (!dataTable) return;\n",
              "\n",
              "          const docLinkHtml = 'Like what you see? Visit the ' +\n",
              "            '<a target=\"_blank\" href=https://colab.research.google.com/notebooks/data_table.ipynb>data table notebook</a>'\n",
              "            + ' to learn more about interactive tables.';\n",
              "          element.innerHTML = '';\n",
              "          dataTable['output_type'] = 'display_data';\n",
              "          await google.colab.output.renderOutput(dataTable, element);\n",
              "          const docLink = document.createElement('div');\n",
              "          docLink.innerHTML = docLinkHtml;\n",
              "          element.appendChild(docLink);\n",
              "        }\n",
              "      </script>\n",
              "    </div>\n",
              "  </div>\n",
              "  "
            ]
          },
          "metadata": {},
          "execution_count": 7
        }
      ]
    },
    {
      "cell_type": "code",
      "metadata": {
        "colab": {
          "base_uri": "https://localhost:8080/",
          "height": 296
        },
        "id": "8Tl3eTGkIoUF",
        "outputId": "d246b2b3-e01c-4a94-f4ea-f2c3084bffb2"
      },
      "source": [
        "# Summarise class details\n",
        "sns.countplot(x=diabetes_train['class'])"
      ],
      "execution_count": null,
      "outputs": [
        {
          "output_type": "execute_result",
          "data": {
            "text/plain": [
              "<AxesSubplot:xlabel='class', ylabel='count'>"
            ]
          },
          "metadata": {},
          "execution_count": 8
        },
        {
          "output_type": "display_data",
          "data": {
            "text/plain": [
              "<Figure size 432x288 with 1 Axes>"
            ],
            "image/png": "[encoded data removed]"
          },
          "metadata": {
            "needs_background": "light"
          }
        }
      ]
    },
    {
      "cell_type": "markdown",
      "metadata": {
        "id": "obRIxYt5UeR8"
      },
      "source": [
        "## Extracting labels and features"
      ]
    },
    {
      "cell_type": "code",
      "source": [
        "# extract labels\n",
        "y = diabetes_train['class']\n",
        "\n",
        "print(y.value_counts())"
      ],
      "metadata": {
        "colab": {
          "base_uri": "https://localhost:8080/"
        },
        "id": "sI0Ya4q70DY5",
        "outputId": "f1abaf92-941c-4d3d-dae8-3dcdbb895de0"
      },
      "execution_count": null,
      "outputs": [
        {
          "output_type": "stream",
          "name": "stdout",
          "text": [
            "0    437\n",
            "1    231\n",
            "Name: class, dtype: int64\n"
          ]
        }
      ]
    },
    {
      "cell_type": "code",
      "source": [
        "# Drop the label and remove unnecessary columns\n",
        "X = diabetes_train.drop(['id', 'class'], axis=1)\n",
        "print(X.info())\n",
        "X.head()"
      ],
      "metadata": {
        "colab": {
          "base_uri": "https://localhost:8080/",
          "height": 484
        },
        "id": "IZYFBZX-0HxA",
        "outputId": "8442e4fa-2a31-491a-9b58-b26c951086ec"
      },
      "execution_count": null,
      "outputs": [
        {
          "output_type": "stream",
          "name": "stdout",
          "text": [
            "<class 'pandas.core.frame.DataFrame'>\n",
            "RangeIndex: 668 entries, 0 to 667\n",
            "Data columns (total 8 columns):\n",
            " #   Column  Non-Null Count  Dtype  \n",
            "---  ------  --------------  -----  \n",
            " 0   A1      668 non-null    int64  \n",
            " 1   A2      668 non-null    int64  \n",
            " 2   A3      668 non-null    int64  \n",
            " 3   A4      668 non-null    int64  \n",
            " 4   A5      668 non-null    int64  \n",
            " 5   A6      668 non-null    float64\n",
            " 6   A7      668 non-null    float64\n",
            " 7   A8      668 non-null    int64  \n",
            "dtypes: float64(2), int64(6)\n",
            "memory usage: 41.9 KB\n",
            "None\n"
          ]
        },
        {
          "output_type": "execute_result",
          "data": {
            "text/plain": [
              "   A1   A2  A3  A4   A5    A6     A7  A8\n",
              "0   6  148  72  35    0  33.6  0.627  50\n",
              "1   1   85  66  29    0  26.6  0.351  31\n",
              "2   8  183  64   0    0  23.3  0.672  32\n",
              "3   1   89  66  23   94  28.1  0.167  21\n",
              "4   0  137  40  35  168  43.1  2.288  33"
            ],
            "text/html": [
              "\n",
              "  <div id=\"df-00c3e5fd-ed76-4a24-803f-ef82088111ed\">\n",
              "    <div class=\"colab-df-container\">\n",
              "      <div>\n",
              "<style scoped>\n",
              "    .dataframe tbody tr th:only-of-type {\n",
              "        vertical-align: middle;\n",
              "    }\n",
              "\n",
              "    .dataframe tbody tr th {\n",
              "        vertical-align: top;\n",
              "    }\n",
              "\n",
              "    .dataframe thead th {\n",
              "        text-align: right;\n",
              "    }\n",
              "</style>\n",
              "<table border=\"1\" class=\"dataframe\">\n",
              "  <thead>\n",
              "    <tr style=\"text-align: right;\">\n",
              "      <th></th>\n",
              "      <th>A1</th>\n",
              "      <th>A2</th>\n",
              "      <th>A3</th>\n",
              "      <th>A4</th>\n",
              "      <th>A5</th>\n",
              "      <th>A6</th>\n",
              "      <th>A7</th>\n",
              "      <th>A8</th>\n",
              "    </tr>\n",
              "  </thead>\n",
              "  <tbody>\n",
              "    <tr>\n",
              "      <th>0</th>\n",
              "      <td>6</td>\n",
              "      <td>148</td>\n",
              "      <td>72</td>\n",
              "      <td>35</td>\n",
              "      <td>0</td>\n",
              "      <td>33.6</td>\n",
              "      <td>0.627</td>\n",
              "      <td>50</td>\n",
              "    </tr>\n",
              "    <tr>\n",
              "      <th>1</th>\n",
              "      <td>1</td>\n",
              "      <td>85</td>\n",
              "      <td>66</td>\n",
              "      <td>29</td>\n",
              "      <td>0</td>\n",
              "      <td>26.6</td>\n",
              "      <td>0.351</td>\n",
              "      <td>31</td>\n",
              "    </tr>\n",
              "    <tr>\n",
              "      <th>2</th>\n",
              "      <td>8</td>\n",
              "      <td>183</td>\n",
              "      <td>64</td>\n",
              "      <td>0</td>\n",
              "      <td>0</td>\n",
              "      <td>23.3</td>\n",
              "      <td>0.672</td>\n",
              "      <td>32</td>\n",
              "    </tr>\n",
              "    <tr>\n",
              "      <th>3</th>\n",
              "      <td>1</td>\n",
              "      <td>89</td>\n",
              "      <td>66</td>\n",
              "      <td>23</td>\n",
              "      <td>94</td>\n",
              "      <td>28.1</td>\n",
              "      <td>0.167</td>\n",
              "      <td>21</td>\n",
              "    </tr>\n",
              "    <tr>\n",
              "      <th>4</th>\n",
              "      <td>0</td>\n",
              "      <td>137</td>\n",
              "      <td>40</td>\n",
              "      <td>35</td>\n",
              "      <td>168</td>\n",
              "      <td>43.1</td>\n",
              "      <td>2.288</td>\n",
              "      <td>33</td>\n",
              "    </tr>\n",
              "  </tbody>\n",
              "</table>\n",
              "</div>\n",
              "      <button class=\"colab-df-convert\" onclick=\"convertToInteractive('df-00c3e5fd-ed76-4a24-803f-ef82088111ed')\"\n",
              "              title=\"Convert this dataframe to an interactive table.\"\n",
              "              style=\"display:none;\">\n",
              "        \n",
              "  <svg xmlns=\"http://www.w3.org/2000/svg\" height=\"24px\"viewBox=\"0 0 24 24\"\n",
              "       width=\"24px\">\n",
              "    <path d=\"M0 0h24v24H0V0z\" fill=\"none\"/>\n",
              "    <path d=\"M18.56 5.44l.94 2.06.94-2.06 2.06-.94-2.06-.94-.94-2.06-.94 2.06-2.06.94zm-11 1L8.5 8.5l.94-2.06 2.06-.94-2.06-.94L8.5 2.5l-.94 2.06-2.06.94zm10 10l.94 2.06.94-2.06 2.06-.94-2.06-.94-.94-2.06-.94 2.06-2.06.94z\"/><path d=\"M17.41 7.96l-1.37-1.37c-.4-.4-.92-.59-1.43-.59-.52 0-1.04.2-1.43.59L10.3 9.45l-7.72 7.72c-.78.78-.78 2.05 0 2.83L4 21.41c.39.39.9.59 1.41.59.51 0 1.02-.2 1.41-.59l7.78-7.78 2.81-2.81c.8-.78.8-2.07 0-2.86zM5.41 20L4 18.59l7.72-7.72 1.47 1.35L5.41 20z\"/>\n",
              "  </svg>\n",
              "      </button>\n",
              "      \n",
              "  <style>\n",
              "    .colab-df-container {\n",
              "      display:flex;\n",
              "      flex-wrap:wrap;\n",
              "      gap: 12px;\n",
              "    }\n",
              "\n",
              "    .colab-df-convert {\n",
              "      background-color: #E8F0FE;\n",
              "      border: none;\n",
              "      border-radius: 50%;\n",
              "      cursor: pointer;\n",
              "      display: none;\n",
              "      fill: #1967D2;\n",
              "      height: 32px;\n",
              "      padding: 0 0 0 0;\n",
              "      width: 32px;\n",
              "    }\n",
              "\n",
              "    .colab-df-convert:hover {\n",
              "      background-color: #E2EBFA;\n",
              "      box-shadow: 0px 1px 2px rgba(60, 64, 67, 0.3), 0px 1px 3px 1px rgba(60, 64, 67, 0.15);\n",
              "      fill: #174EA6;\n",
              "    }\n",
              "\n",
              "    [theme=dark] .colab-df-convert {\n",
              "      background-color: #3B4455;\n",
              "      fill: #D2E3FC;\n",
              "    }\n",
              "\n",
              "    [theme=dark] .colab-df-convert:hover {\n",
              "      background-color: #434B5C;\n",
              "      box-shadow: 0px 1px 3px 1px rgba(0, 0, 0, 0.15);\n",
              "      filter: drop-shadow(0px 1px 2px rgba(0, 0, 0, 0.3));\n",
              "      fill: #FFFFFF;\n",
              "    }\n",
              "  </style>\n",
              "\n",
              "      <script>\n",
              "        const buttonEl =\n",
              "          document.querySelector('#df-00c3e5fd-ed76-4a24-803f-ef82088111ed button.colab-df-convert');\n",
              "        buttonEl.style.display =\n",
              "          google.colab.kernel.accessAllowed ? 'block' : 'none';\n",
              "\n",
              "        async function convertToInteractive(key) {\n",
              "          const element = document.querySelector('#df-00c3e5fd-ed76-4a24-803f-ef82088111ed');\n",
              "          const dataTable =\n",
              "            await google.colab.kernel.invokeFunction('convertToInteractive',\n",
              "                                                     [key], {});\n",
              "          if (!dataTable) return;\n",
              "\n",
              "          const docLinkHtml = 'Like what you see? Visit the ' +\n",
              "            '<a target=\"_blank\" href=https://colab.research.google.com/notebooks/data_table.ipynb>data table notebook</a>'\n",
              "            + ' to learn more about interactive tables.';\n",
              "          element.innerHTML = '';\n",
              "          dataTable['output_type'] = 'display_data';\n",
              "          await google.colab.output.renderOutput(dataTable, element);\n",
              "          const docLink = document.createElement('div');\n",
              "          docLink.innerHTML = docLinkHtml;\n",
              "          element.appendChild(docLink);\n",
              "        }\n",
              "      </script>\n",
              "    </div>\n",
              "  </div>\n",
              "  "
            ]
          },
          "metadata": {},
          "execution_count": 10
        }
      ]
    },
    {
      "cell_type": "markdown",
      "metadata": {
        "id": "QOYE7tUczX9J"
      },
      "source": [
        "Our class label is already in numeric values ('0' and '1') <br>"
      ]
    },
    {
      "cell_type": "markdown",
      "source": [
        "## M1 Params\n",
        "\n",
        "No of features = first 6\n",
        "\n",
        "No of hidden layers = 1\n",
        "\n",
        "Classification type = Binary class\n",
        "\n",
        "Activations: relu, sigmoid"
      ],
      "metadata": {
        "id": "S69T153wiYdJ"
      }
    },
    {
      "cell_type": "markdown",
      "source": [
        "I am selecting the first 6 column features for model 1 trial"
      ],
      "metadata": {
        "id": "28gb942OjSFI"
      }
    },
    {
      "cell_type": "code",
      "source": [
        "X1 = X.iloc[:, 0:6]\n",
        "X1.head()"
      ],
      "metadata": {
        "colab": {
          "base_uri": "https://localhost:8080/",
          "height": 206
        },
        "id": "MYxPDgV7jLXz",
        "outputId": "85e441e9-bd5f-4a7d-b286-16b57c0c1f31"
      },
      "execution_count": null,
      "outputs": [
        {
          "output_type": "execute_result",
          "data": {
            "text/plain": [
              "   A1   A2  A3  A4   A5    A6\n",
              "0   6  148  72  35    0  33.6\n",
              "1   1   85  66  29    0  26.6\n",
              "2   8  183  64   0    0  23.3\n",
              "3   1   89  66  23   94  28.1\n",
              "4   0  137  40  35  168  43.1"
            ],
            "text/html": [
              "\n",
              "  <div id=\"df-1de5e8b5-6e58-46b0-9183-1588c53b53f5\">\n",
              "    <div class=\"colab-df-container\">\n",
              "      <div>\n",
              "<style scoped>\n",
              "    .dataframe tbody tr th:only-of-type {\n",
              "        vertical-align: middle;\n",
              "    }\n",
              "\n",
              "    .dataframe tbody tr th {\n",
              "        vertical-align: top;\n",
              "    }\n",
              "\n",
              "    .dataframe thead th {\n",
              "        text-align: right;\n",
              "    }\n",
              "</style>\n",
              "<table border=\"1\" class=\"dataframe\">\n",
              "  <thead>\n",
              "    <tr style=\"text-align: right;\">\n",
              "      <th></th>\n",
              "      <th>A1</th>\n",
              "      <th>A2</th>\n",
              "      <th>A3</th>\n",
              "      <th>A4</th>\n",
              "      <th>A5</th>\n",
              "      <th>A6</th>\n",
              "    </tr>\n",
              "  </thead>\n",
              "  <tbody>\n",
              "    <tr>\n",
              "      <th>0</th>\n",
              "      <td>6</td>\n",
              "      <td>148</td>\n",
              "      <td>72</td>\n",
              "      <td>35</td>\n",
              "      <td>0</td>\n",
              "      <td>33.6</td>\n",
              "    </tr>\n",
              "    <tr>\n",
              "      <th>1</th>\n",
              "      <td>1</td>\n",
              "      <td>85</td>\n",
              "      <td>66</td>\n",
              "      <td>29</td>\n",
              "      <td>0</td>\n",
              "      <td>26.6</td>\n",
              "    </tr>\n",
              "    <tr>\n",
              "      <th>2</th>\n",
              "      <td>8</td>\n",
              "      <td>183</td>\n",
              "      <td>64</td>\n",
              "      <td>0</td>\n",
              "      <td>0</td>\n",
              "      <td>23.3</td>\n",
              "    </tr>\n",
              "    <tr>\n",
              "      <th>3</th>\n",
              "      <td>1</td>\n",
              "      <td>89</td>\n",
              "      <td>66</td>\n",
              "      <td>23</td>\n",
              "      <td>94</td>\n",
              "      <td>28.1</td>\n",
              "    </tr>\n",
              "    <tr>\n",
              "      <th>4</th>\n",
              "      <td>0</td>\n",
              "      <td>137</td>\n",
              "      <td>40</td>\n",
              "      <td>35</td>\n",
              "      <td>168</td>\n",
              "      <td>43.1</td>\n",
              "    </tr>\n",
              "  </tbody>\n",
              "</table>\n",
              "</div>\n",
              "      <button class=\"colab-df-convert\" onclick=\"convertToInteractive('df-1de5e8b5-6e58-46b0-9183-1588c53b53f5')\"\n",
              "              title=\"Convert this dataframe to an interactive table.\"\n",
              "              style=\"display:none;\">\n",
              "        \n",
              "  <svg xmlns=\"http://www.w3.org/2000/svg\" height=\"24px\"viewBox=\"0 0 24 24\"\n",
              "       width=\"24px\">\n",
              "    <path d=\"M0 0h24v24H0V0z\" fill=\"none\"/>\n",
              "    <path d=\"M18.56 5.44l.94 2.06.94-2.06 2.06-.94-2.06-.94-.94-2.06-.94 2.06-2.06.94zm-11 1L8.5 8.5l.94-2.06 2.06-.94-2.06-.94L8.5 2.5l-.94 2.06-2.06.94zm10 10l.94 2.06.94-2.06 2.06-.94-2.06-.94-.94-2.06-.94 2.06-2.06.94z\"/><path d=\"M17.41 7.96l-1.37-1.37c-.4-.4-.92-.59-1.43-.59-.52 0-1.04.2-1.43.59L10.3 9.45l-7.72 7.72c-.78.78-.78 2.05 0 2.83L4 21.41c.39.39.9.59 1.41.59.51 0 1.02-.2 1.41-.59l7.78-7.78 2.81-2.81c.8-.78.8-2.07 0-2.86zM5.41 20L4 18.59l7.72-7.72 1.47 1.35L5.41 20z\"/>\n",
              "  </svg>\n",
              "      </button>\n",
              "      \n",
              "  <style>\n",
              "    .colab-df-container {\n",
              "      display:flex;\n",
              "      flex-wrap:wrap;\n",
              "      gap: 12px;\n",
              "    }\n",
              "\n",
              "    .colab-df-convert {\n",
              "      background-color: #E8F0FE;\n",
              "      border: none;\n",
              "      border-radius: 50%;\n",
              "      cursor: pointer;\n",
              "      display: none;\n",
              "      fill: #1967D2;\n",
              "      height: 32px;\n",
              "      padding: 0 0 0 0;\n",
              "      width: 32px;\n",
              "    }\n",
              "\n",
              "    .colab-df-convert:hover {\n",
              "      background-color: #E2EBFA;\n",
              "      box-shadow: 0px 1px 2px rgba(60, 64, 67, 0.3), 0px 1px 3px 1px rgba(60, 64, 67, 0.15);\n",
              "      fill: #174EA6;\n",
              "    }\n",
              "\n",
              "    [theme=dark] .colab-df-convert {\n",
              "      background-color: #3B4455;\n",
              "      fill: #D2E3FC;\n",
              "    }\n",
              "\n",
              "    [theme=dark] .colab-df-convert:hover {\n",
              "      background-color: #434B5C;\n",
              "      box-shadow: 0px 1px 3px 1px rgba(0, 0, 0, 0.15);\n",
              "      filter: drop-shadow(0px 1px 2px rgba(0, 0, 0, 0.3));\n",
              "      fill: #FFFFFF;\n",
              "    }\n",
              "  </style>\n",
              "\n",
              "      <script>\n",
              "        const buttonEl =\n",
              "          document.querySelector('#df-1de5e8b5-6e58-46b0-9183-1588c53b53f5 button.colab-df-convert');\n",
              "        buttonEl.style.display =\n",
              "          google.colab.kernel.accessAllowed ? 'block' : 'none';\n",
              "\n",
              "        async function convertToInteractive(key) {\n",
              "          const element = document.querySelector('#df-1de5e8b5-6e58-46b0-9183-1588c53b53f5');\n",
              "          const dataTable =\n",
              "            await google.colab.kernel.invokeFunction('convertToInteractive',\n",
              "                                                     [key], {});\n",
              "          if (!dataTable) return;\n",
              "\n",
              "          const docLinkHtml = 'Like what you see? Visit the ' +\n",
              "            '<a target=\"_blank\" href=https://colab.research.google.com/notebooks/data_table.ipynb>data table notebook</a>'\n",
              "            + ' to learn more about interactive tables.';\n",
              "          element.innerHTML = '';\n",
              "          dataTable['output_type'] = 'display_data';\n",
              "          await google.colab.output.renderOutput(dataTable, element);\n",
              "          const docLink = document.createElement('div');\n",
              "          docLink.innerHTML = docLinkHtml;\n",
              "          element.appendChild(docLink);\n",
              "        }\n",
              "      </script>\n",
              "    </div>\n",
              "  </div>\n",
              "  "
            ]
          },
          "metadata": {},
          "execution_count": 11
        }
      ]
    },
    {
      "cell_type": "markdown",
      "source": [
        "Training and splitting data"
      ],
      "metadata": {
        "id": "4qEPlJXXkxc3"
      }
    },
    {
      "cell_type": "code",
      "source": [
        "# split data to train and validation sets 70% train and 30% validation\n",
        "X_train1, X_val1, y_train1, y_val1 = train_test_split(X1, y, test_size=0.3, random_state=100)\n",
        "print(f'training data set size: {len(X_train1)}')\n",
        "print(f'validation data set size: {len(X_val1)}')"
      ],
      "metadata": {
        "colab": {
          "base_uri": "https://localhost:8080/"
        },
        "id": "rhZoEYqZkyMg",
        "outputId": "d08540d0-2a1a-4e1b-8333-7c77218aa1cc"
      },
      "execution_count": null,
      "outputs": [
        {
          "output_type": "stream",
          "name": "stdout",
          "text": [
            "training data set size: 467\n",
            "validation data set size: 201\n"
          ]
        }
      ]
    },
    {
      "cell_type": "markdown",
      "source": [
        "Building Model 1"
      ],
      "metadata": {
        "id": "pn8cGWj1lD4X"
      }
    },
    {
      "cell_type": "code",
      "source": [
        "# define the keras model\n",
        "model1 = keras.Sequential()\n",
        "model1.add(layers.Dense(12, input_dim=6, activation='relu'))\n",
        "model1.add(layers.Dense(1, activation='sigmoid'))\n",
        "\n",
        "model1.summary()"
      ],
      "metadata": {
        "colab": {
          "base_uri": "https://localhost:8080/"
        },
        "id": "rlkVim_ilDQK",
        "outputId": "fff5c649-ce74-4f81-ab4f-784c4de0b1bd"
      },
      "execution_count": null,
      "outputs": [
        {
          "output_type": "stream",
          "name": "stdout",
          "text": [
            "Model: \"sequential\"\n",
            "_________________________________________________________________\n",
            " Layer (type)                Output Shape              Param #   \n",
            "=================================================================\n",
            " dense (Dense)               (None, 12)                84        \n",
            "                                                                 \n",
            " dense_1 (Dense)             (None, 1)                 13        \n",
            "                                                                 \n",
            "=================================================================\n",
            "Total params: 97\n",
            "Trainable params: 97\n",
            "Non-trainable params: 0\n",
            "_________________________________________________________________\n"
          ]
        }
      ]
    },
    {
      "cell_type": "code",
      "source": [
        "# compile the keras model\n",
        "#sgd = gradient_descent_v2.SGD()\n",
        "model1.compile(loss='binary_crossentropy', optimizer='adam', metrics=['accuracy'])"
      ],
      "metadata": {
        "id": "IPtgk9FVlmLS"
      },
      "execution_count": null,
      "outputs": []
    },
    {
      "cell_type": "code",
      "source": [
        "# train model\n",
        "history = model1.fit (X_train1, y_train1, batch_size=50, epochs=60, validation_data=(X_val1, y_val1))"
      ],
      "metadata": {
        "colab": {
          "base_uri": "https://localhost:8080/"
        },
        "id": "LQtpwDteBcEx",
        "outputId": "871846db-a06a-4db5-b330-65444b843efa"
      },
      "execution_count": null,
      "outputs": [
        {
          "output_type": "stream",
          "name": "stdout",
          "text": [
            "Epoch 1/60\n",
            "10/10 [==============================] - 2s 54ms/step - loss: 11.6930 - accuracy: 0.6595 - val_loss: 11.1293 - val_accuracy: 0.6418\n",
            "Epoch 2/60\n",
            "10/10 [==============================] - 0s 9ms/step - loss: 9.6502 - accuracy: 0.6510 - val_loss: 8.9700 - val_accuracy: 0.6517\n",
            "Epoch 3/60\n",
            "10/10 [==============================] - 0s 11ms/step - loss: 7.9147 - accuracy: 0.6552 - val_loss: 7.2972 - val_accuracy: 0.6368\n",
            "Epoch 4/60\n",
            "10/10 [==============================] - 0s 14ms/step - loss: 6.4917 - accuracy: 0.6617 - val_loss: 6.0459 - val_accuracy: 0.6070\n",
            "Epoch 5/60\n",
            "10/10 [==============================] - 0s 20ms/step - loss: 5.4622 - accuracy: 0.6467 - val_loss: 5.1645 - val_accuracy: 0.5622\n",
            "Epoch 6/60\n",
            "10/10 [==============================] - 0s 12ms/step - loss: 4.7275 - accuracy: 0.6424 - val_loss: 4.5038 - val_accuracy: 0.5373\n",
            "Epoch 7/60\n",
            "10/10 [==============================] - 0s 15ms/step - loss: 4.1408 - accuracy: 0.6081 - val_loss: 3.8992 - val_accuracy: 0.5124\n",
            "Epoch 8/60\n",
            "10/10 [==============================] - 0s 20ms/step - loss: 3.5545 - accuracy: 0.5867 - val_loss: 3.2688 - val_accuracy: 0.4975\n",
            "Epoch 9/60\n",
            "10/10 [==============================] - 0s 18ms/step - loss: 2.9650 - accuracy: 0.5846 - val_loss: 2.6491 - val_accuracy: 0.4975\n",
            "Epoch 10/60\n",
            "10/10 [==============================] - 0s 16ms/step - loss: 2.4510 - accuracy: 0.5567 - val_loss: 2.1174 - val_accuracy: 0.4975\n",
            "Epoch 11/60\n",
            "10/10 [==============================] - 0s 15ms/step - loss: 2.0597 - accuracy: 0.5439 - val_loss: 1.7665 - val_accuracy: 0.4726\n",
            "Epoch 12/60\n",
            "10/10 [==============================] - 0s 19ms/step - loss: 1.8092 - accuracy: 0.5161 - val_loss: 1.5584 - val_accuracy: 0.4527\n",
            "Epoch 13/60\n",
            "10/10 [==============================] - 0s 13ms/step - loss: 1.6433 - accuracy: 0.5161 - val_loss: 1.4401 - val_accuracy: 0.5124\n",
            "Epoch 14/60\n",
            "10/10 [==============================] - 0s 14ms/step - loss: 1.5176 - accuracy: 0.5439 - val_loss: 1.3693 - val_accuracy: 0.5821\n",
            "Epoch 15/60\n",
            "10/10 [==============================] - 0s 11ms/step - loss: 1.4119 - accuracy: 0.5396 - val_loss: 1.2474 - val_accuracy: 0.5423\n",
            "Epoch 16/60\n",
            "10/10 [==============================] - 0s 10ms/step - loss: 1.3455 - accuracy: 0.5460 - val_loss: 1.1816 - val_accuracy: 0.5771\n",
            "Epoch 17/60\n",
            "10/10 [==============================] - 0s 11ms/step - loss: 1.2635 - accuracy: 0.5610 - val_loss: 1.1458 - val_accuracy: 0.5920\n",
            "Epoch 18/60\n",
            "10/10 [==============================] - 0s 10ms/step - loss: 1.2124 - accuracy: 0.5889 - val_loss: 1.0817 - val_accuracy: 0.5970\n",
            "Epoch 19/60\n",
            "10/10 [==============================] - 0s 12ms/step - loss: 1.1655 - accuracy: 0.5824 - val_loss: 1.0416 - val_accuracy: 0.5672\n",
            "Epoch 20/60\n",
            "10/10 [==============================] - 0s 14ms/step - loss: 1.1196 - accuracy: 0.5910 - val_loss: 1.0072 - val_accuracy: 0.5970\n",
            "Epoch 21/60\n",
            "10/10 [==============================] - 0s 15ms/step - loss: 1.0856 - accuracy: 0.6039 - val_loss: 0.9741 - val_accuracy: 0.6070\n",
            "Epoch 22/60\n",
            "10/10 [==============================] - 0s 12ms/step - loss: 1.0560 - accuracy: 0.5953 - val_loss: 0.9422 - val_accuracy: 0.5821\n",
            "Epoch 23/60\n",
            "10/10 [==============================] - 0s 13ms/step - loss: 1.0562 - accuracy: 0.6103 - val_loss: 0.9329 - val_accuracy: 0.6418\n",
            "Epoch 24/60\n",
            "10/10 [==============================] - 0s 10ms/step - loss: 0.9915 - accuracy: 0.6017 - val_loss: 0.9007 - val_accuracy: 0.5771\n",
            "Epoch 25/60\n",
            "10/10 [==============================] - 0s 13ms/step - loss: 0.9747 - accuracy: 0.6188 - val_loss: 0.8898 - val_accuracy: 0.6070\n",
            "Epoch 26/60\n",
            "10/10 [==============================] - 0s 18ms/step - loss: 0.9611 - accuracy: 0.6103 - val_loss: 0.8661 - val_accuracy: 0.5771\n",
            "Epoch 27/60\n",
            "10/10 [==============================] - 0s 11ms/step - loss: 0.9327 - accuracy: 0.6317 - val_loss: 0.8822 - val_accuracy: 0.6567\n",
            "Epoch 28/60\n",
            "10/10 [==============================] - 0s 11ms/step - loss: 0.9160 - accuracy: 0.6188 - val_loss: 0.8473 - val_accuracy: 0.6020\n",
            "Epoch 29/60\n",
            "10/10 [==============================] - 0s 21ms/step - loss: 0.9213 - accuracy: 0.6124 - val_loss: 0.8457 - val_accuracy: 0.6119\n",
            "Epoch 30/60\n",
            "10/10 [==============================] - 0s 15ms/step - loss: 0.8995 - accuracy: 0.6360 - val_loss: 0.8432 - val_accuracy: 0.6368\n",
            "Epoch 31/60\n",
            "10/10 [==============================] - 0s 12ms/step - loss: 0.8663 - accuracy: 0.6210 - val_loss: 0.8117 - val_accuracy: 0.6169\n",
            "Epoch 32/60\n",
            "10/10 [==============================] - 0s 16ms/step - loss: 0.8582 - accuracy: 0.6317 - val_loss: 0.8077 - val_accuracy: 0.6468\n",
            "Epoch 33/60\n",
            "10/10 [==============================] - 0s 28ms/step - loss: 0.8503 - accuracy: 0.6253 - val_loss: 0.7985 - val_accuracy: 0.6070\n",
            "Epoch 34/60\n",
            "10/10 [==============================] - 0s 24ms/step - loss: 0.8381 - accuracy: 0.6296 - val_loss: 0.7938 - val_accuracy: 0.6269\n",
            "Epoch 35/60\n",
            "10/10 [==============================] - 0s 31ms/step - loss: 0.8265 - accuracy: 0.6188 - val_loss: 0.7827 - val_accuracy: 0.6418\n",
            "Epoch 36/60\n",
            "10/10 [==============================] - 0s 45ms/step - loss: 0.8249 - accuracy: 0.6488 - val_loss: 0.7761 - val_accuracy: 0.6119\n",
            "Epoch 37/60\n",
            "10/10 [==============================] - 1s 58ms/step - loss: 0.8083 - accuracy: 0.6253 - val_loss: 0.7683 - val_accuracy: 0.6269\n",
            "Epoch 38/60\n",
            "10/10 [==============================] - 1s 55ms/step - loss: 0.8135 - accuracy: 0.6360 - val_loss: 0.7695 - val_accuracy: 0.6418\n",
            "Epoch 39/60\n",
            "10/10 [==============================] - 0s 48ms/step - loss: 0.8103 - accuracy: 0.6231 - val_loss: 0.7541 - val_accuracy: 0.6318\n",
            "Epoch 40/60\n",
            "10/10 [==============================] - 0s 25ms/step - loss: 0.7955 - accuracy: 0.6403 - val_loss: 0.7519 - val_accuracy: 0.6219\n",
            "Epoch 41/60\n",
            "10/10 [==============================] - 0s 23ms/step - loss: 0.7933 - accuracy: 0.6296 - val_loss: 0.7423 - val_accuracy: 0.6468\n",
            "Epoch 42/60\n",
            "10/10 [==============================] - 0s 27ms/step - loss: 0.7787 - accuracy: 0.6381 - val_loss: 0.7391 - val_accuracy: 0.6418\n",
            "Epoch 43/60\n",
            "10/10 [==============================] - 0s 36ms/step - loss: 0.7706 - accuracy: 0.6488 - val_loss: 0.7368 - val_accuracy: 0.6517\n",
            "Epoch 44/60\n",
            "10/10 [==============================] - 0s 41ms/step - loss: 0.7620 - accuracy: 0.6360 - val_loss: 0.7250 - val_accuracy: 0.6368\n",
            "Epoch 45/60\n",
            "10/10 [==============================] - 0s 15ms/step - loss: 0.7691 - accuracy: 0.6360 - val_loss: 0.7376 - val_accuracy: 0.6468\n",
            "Epoch 46/60\n",
            "10/10 [==============================] - 0s 25ms/step - loss: 0.7656 - accuracy: 0.6574 - val_loss: 0.7309 - val_accuracy: 0.6368\n",
            "Epoch 47/60\n",
            "10/10 [==============================] - 0s 33ms/step - loss: 0.7712 - accuracy: 0.6253 - val_loss: 0.7226 - val_accuracy: 0.6468\n",
            "Epoch 48/60\n",
            "10/10 [==============================] - 0s 29ms/step - loss: 0.7604 - accuracy: 0.6338 - val_loss: 0.7152 - val_accuracy: 0.6368\n",
            "Epoch 49/60\n",
            "10/10 [==============================] - 0s 40ms/step - loss: 0.7413 - accuracy: 0.6510 - val_loss: 0.7025 - val_accuracy: 0.6468\n",
            "Epoch 50/60\n",
            "10/10 [==============================] - 0s 18ms/step - loss: 0.7288 - accuracy: 0.6467 - val_loss: 0.7098 - val_accuracy: 0.6567\n",
            "Epoch 51/60\n",
            "10/10 [==============================] - 0s 27ms/step - loss: 0.7332 - accuracy: 0.6445 - val_loss: 0.7006 - val_accuracy: 0.6418\n",
            "Epoch 52/60\n",
            "10/10 [==============================] - 0s 24ms/step - loss: 0.7271 - accuracy: 0.6617 - val_loss: 0.6958 - val_accuracy: 0.6517\n",
            "Epoch 53/60\n",
            "10/10 [==============================] - 0s 40ms/step - loss: 0.7308 - accuracy: 0.6424 - val_loss: 0.6981 - val_accuracy: 0.6517\n",
            "Epoch 54/60\n",
            "10/10 [==============================] - 0s 25ms/step - loss: 0.7277 - accuracy: 0.6595 - val_loss: 0.6986 - val_accuracy: 0.6468\n",
            "Epoch 55/60\n",
            "10/10 [==============================] - 0s 26ms/step - loss: 0.7277 - accuracy: 0.6274 - val_loss: 0.7073 - val_accuracy: 0.6418\n",
            "Epoch 56/60\n",
            "10/10 [==============================] - 0s 27ms/step - loss: 0.7289 - accuracy: 0.6488 - val_loss: 0.6993 - val_accuracy: 0.6468\n",
            "Epoch 57/60\n",
            "10/10 [==============================] - 0s 27ms/step - loss: 0.7286 - accuracy: 0.6253 - val_loss: 0.7212 - val_accuracy: 0.6517\n",
            "Epoch 58/60\n",
            "10/10 [==============================] - 0s 23ms/step - loss: 0.7090 - accuracy: 0.6595 - val_loss: 0.6901 - val_accuracy: 0.6617\n",
            "Epoch 59/60\n",
            "10/10 [==============================] - 0s 26ms/step - loss: 0.7133 - accuracy: 0.6510 - val_loss: 0.7031 - val_accuracy: 0.6418\n",
            "Epoch 60/60\n",
            "10/10 [==============================] - 0s 24ms/step - loss: 0.7063 - accuracy: 0.6617 - val_loss: 0.6842 - val_accuracy: 0.6567\n"
          ]
        }
      ]
    },
    {
      "cell_type": "code",
      "source": [
        "# plot the history of the training\n",
        "import matplotlib.pyplot as plt\n",
        "\n",
        "# summarize the history for accuracy\n",
        "plt.plot(history.history['accuracy'])\n",
        "plt.plot(history.history['val_accuracy'])\n",
        "plt.title('model accuracy')\n",
        "plt.ylabel('accuracy')\n",
        "plt.xlabel('epoch')\n",
        "plt.legend(['train','test'], loc='upper left')\n",
        "plt.show()\n",
        "\n",
        "# summarize the history for loss\n",
        "plt.plot(history.history['loss'])\n",
        "plt.plot(history.history['val_loss'])\n",
        "plt.title('model loss')\n",
        "plt.ylabel('loss')\n",
        "plt.xlabel('epoch')\n",
        "plt.legend(['train','test'], loc='upper left')\n",
        "plt.show()"
      ],
      "metadata": {
        "colab": {
          "base_uri": "https://localhost:8080/",
          "height": 573
        },
        "id": "jdVk1ntgUJwK",
        "outputId": "ba3e3156-6e93-4b12-98c1-a22fac9fdba4"
      },
      "execution_count": null,
      "outputs": [
        {
          "output_type": "display_data",
          "data": {
            "text/plain": [
              "<Figure size 432x288 with 1 Axes>"
            ],
            "image/png": "[encoded data removed]"
          },
          "metadata": {
            "needs_background": "light"
          }
        },
        {
          "output_type": "display_data",
          "data": {
            "text/plain": [
              "<Figure size 432x288 with 1 Axes>"
            ],
            "image/png": "[encoded data removed]"
          },
          "metadata": {
            "needs_background": "light"
          }
        }
      ]
    },
    {
      "cell_type": "markdown",
      "source": [
        "Model Validation"
      ],
      "metadata": {
        "id": "FfTDhMCnByMA"
      }
    },
    {
      "cell_type": "code",
      "source": [
        "# get model predictions\n",
        "y_pred1 = model1.predict(X_val1)\n",
        "print(y_pred1[:5])\n",
        "\n",
        "y_pred_categorical1 = [1 if pred > 0.5 else 0 for pred in y_pred1]\n",
        "print(y_pred_categorical1[:5])\n",
        "     "
      ],
      "metadata": {
        "colab": {
          "base_uri": "https://localhost:8080/"
        },
        "id": "1sKnb-QqBjZp",
        "outputId": "3267987d-5be9-42d4-9338-fa0344581f30"
      },
      "execution_count": null,
      "outputs": [
        {
          "output_type": "stream",
          "name": "stdout",
          "text": [
            "7/7 [==============================] - 0s 11ms/step\n",
            "[[0.47999853]\n",
            " [0.61918795]\n",
            " [0.23138909]\n",
            " [0.36626345]\n",
            " [0.55357456]]\n",
            "[0, 1, 0, 0, 1]\n"
          ]
        }
      ]
    },
    {
      "cell_type": "code",
      "source": [
        "# measure accuracy\n",
        "accuracy1 = metrics.accuracy_score(y_val1, y_pred_categorical1)\n",
        "print(f'Accuracy: {accuracy1}')"
      ],
      "metadata": {
        "colab": {
          "base_uri": "https://localhost:8080/"
        },
        "id": "KPTnCDodCigv",
        "outputId": "a20ba627-e36a-4830-e121-2c6e0664a4f6"
      },
      "execution_count": null,
      "outputs": [
        {
          "output_type": "stream",
          "name": "stdout",
          "text": [
            "Accuracy: 0.6567164179104478\n"
          ]
        }
      ]
    },
    {
      "cell_type": "markdown",
      "source": [
        "# Test Prediction"
      ],
      "metadata": {
        "id": "AkRE73nkC2ip"
      }
    },
    {
      "cell_type": "code",
      "source": [
        "# summarise the details\n",
        "print(f'Number of entries: {len(diabetes_test)}')\n",
        "\n",
        "X_test = diabetes_test.drop(['id'], axis=1)\n",
        "print(X_test.info())"
      ],
      "metadata": {
        "colab": {
          "base_uri": "https://localhost:8080/"
        },
        "id": "JheBaip0CrUA",
        "outputId": "c4648482-8b6e-4f75-f39b-c20fb8048413"
      },
      "execution_count": null,
      "outputs": [
        {
          "output_type": "stream",
          "name": "stdout",
          "text": [
            "Number of entries: 100\n",
            "<class 'pandas.core.frame.DataFrame'>\n",
            "RangeIndex: 100 entries, 0 to 99\n",
            "Data columns (total 8 columns):\n",
            " #   Column  Non-Null Count  Dtype  \n",
            "---  ------  --------------  -----  \n",
            " 0   A1      100 non-null    int64  \n",
            " 1   A2      100 non-null    int64  \n",
            " 2   A3      100 non-null    int64  \n",
            " 3   A4      100 non-null    int64  \n",
            " 4   A5      100 non-null    int64  \n",
            " 5   A6      100 non-null    float64\n",
            " 6   A7      100 non-null    float64\n",
            " 7   A8      100 non-null    int64  \n",
            "dtypes: float64(2), int64(6)\n",
            "memory usage: 6.4 KB\n",
            "None\n"
          ]
        }
      ]
    },
    {
      "cell_type": "code",
      "source": [
        "X1_test = X_test.iloc[:, 0:6]\n",
        "X1_test.head()"
      ],
      "metadata": {
        "colab": {
          "base_uri": "https://localhost:8080/",
          "height": 206
        },
        "id": "n6b1nM30EaeX",
        "outputId": "3c8c8fce-6d7f-4684-a52b-3258e6b037dd"
      },
      "execution_count": null,
      "outputs": [
        {
          "output_type": "execute_result",
          "data": {
            "text/plain": [
              "   A1   A2   A3  A4   A5    A6\n",
              "0   6   98   58  33  190  34.0\n",
              "1   9  154   78  30  100  30.9\n",
              "2   6  165   68  26  168  33.6\n",
              "3   1   99   58  10    0  25.4\n",
              "4  10   68  106  23   49  35.5"
            ],
            "text/html": [
              "\n",
              "  <div id=\"df-d4d052dd-b4d9-4a92-820b-5c947f47a5a4\">\n",
              "    <div class=\"colab-df-container\">\n",
              "      <div>\n",
              "<style scoped>\n",
              "    .dataframe tbody tr th:only-of-type {\n",
              "        vertical-align: middle;\n",
              "    }\n",
              "\n",
              "    .dataframe tbody tr th {\n",
              "        vertical-align: top;\n",
              "    }\n",
              "\n",
              "    .dataframe thead th {\n",
              "        text-align: right;\n",
              "    }\n",
              "</style>\n",
              "<table border=\"1\" class=\"dataframe\">\n",
              "  <thead>\n",
              "    <tr style=\"text-align: right;\">\n",
              "      <th></th>\n",
              "      <th>A1</th>\n",
              "      <th>A2</th>\n",
              "      <th>A3</th>\n",
              "      <th>A4</th>\n",
              "      <th>A5</th>\n",
              "      <th>A6</th>\n",
              "    </tr>\n",
              "  </thead>\n",
              "  <tbody>\n",
              "    <tr>\n",
              "      <th>0</th>\n",
              "      <td>6</td>\n",
              "      <td>98</td>\n",
              "      <td>58</td>\n",
              "      <td>33</td>\n",
              "      <td>190</td>\n",
              "      <td>34.0</td>\n",
              "    </tr>\n",
              "    <tr>\n",
              "      <th>1</th>\n",
              "      <td>9</td>\n",
              "      <td>154</td>\n",
              "      <td>78</td>\n",
              "      <td>30</td>\n",
              "      <td>100</td>\n",
              "      <td>30.9</td>\n",
              "    </tr>\n",
              "    <tr>\n",
              "      <th>2</th>\n",
              "      <td>6</td>\n",
              "      <td>165</td>\n",
              "      <td>68</td>\n",
              "      <td>26</td>\n",
              "      <td>168</td>\n",
              "      <td>33.6</td>\n",
              "    </tr>\n",
              "    <tr>\n",
              "      <th>3</th>\n",
              "      <td>1</td>\n",
              "      <td>99</td>\n",
              "      <td>58</td>\n",
              "      <td>10</td>\n",
              "      <td>0</td>\n",
              "      <td>25.4</td>\n",
              "    </tr>\n",
              "    <tr>\n",
              "      <th>4</th>\n",
              "      <td>10</td>\n",
              "      <td>68</td>\n",
              "      <td>106</td>\n",
              "      <td>23</td>\n",
              "      <td>49</td>\n",
              "      <td>35.5</td>\n",
              "    </tr>\n",
              "  </tbody>\n",
              "</table>\n",
              "</div>\n",
              "      <button class=\"colab-df-convert\" onclick=\"convertToInteractive('df-d4d052dd-b4d9-4a92-820b-5c947f47a5a4')\"\n",
              "              title=\"Convert this dataframe to an interactive table.\"\n",
              "              style=\"display:none;\">\n",
              "        \n",
              "  <svg xmlns=\"http://www.w3.org/2000/svg\" height=\"24px\"viewBox=\"0 0 24 24\"\n",
              "       width=\"24px\">\n",
              "    <path d=\"M0 0h24v24H0V0z\" fill=\"none\"/>\n",
              "    <path d=\"M18.56 5.44l.94 2.06.94-2.06 2.06-.94-2.06-.94-.94-2.06-.94 2.06-2.06.94zm-11 1L8.5 8.5l.94-2.06 2.06-.94-2.06-.94L8.5 2.5l-.94 2.06-2.06.94zm10 10l.94 2.06.94-2.06 2.06-.94-2.06-.94-.94-2.06-.94 2.06-2.06.94z\"/><path d=\"M17.41 7.96l-1.37-1.37c-.4-.4-.92-.59-1.43-.59-.52 0-1.04.2-1.43.59L10.3 9.45l-7.72 7.72c-.78.78-.78 2.05 0 2.83L4 21.41c.39.39.9.59 1.41.59.51 0 1.02-.2 1.41-.59l7.78-7.78 2.81-2.81c.8-.78.8-2.07 0-2.86zM5.41 20L4 18.59l7.72-7.72 1.47 1.35L5.41 20z\"/>\n",
              "  </svg>\n",
              "      </button>\n",
              "      \n",
              "  <style>\n",
              "    .colab-df-container {\n",
              "      display:flex;\n",
              "      flex-wrap:wrap;\n",
              "      gap: 12px;\n",
              "    }\n",
              "\n",
              "    .colab-df-convert {\n",
              "      background-color: #E8F0FE;\n",
              "      border: none;\n",
              "      border-radius: 50%;\n",
              "      cursor: pointer;\n",
              "      display: none;\n",
              "      fill: #1967D2;\n",
              "      height: 32px;\n",
              "      padding: 0 0 0 0;\n",
              "      width: 32px;\n",
              "    }\n",
              "\n",
              "    .colab-df-convert:hover {\n",
              "      background-color: #E2EBFA;\n",
              "      box-shadow: 0px 1px 2px rgba(60, 64, 67, 0.3), 0px 1px 3px 1px rgba(60, 64, 67, 0.15);\n",
              "      fill: #174EA6;\n",
              "    }\n",
              "\n",
              "    [theme=dark] .colab-df-convert {\n",
              "      background-color: #3B4455;\n",
              "      fill: #D2E3FC;\n",
              "    }\n",
              "\n",
              "    [theme=dark] .colab-df-convert:hover {\n",
              "      background-color: #434B5C;\n",
              "      box-shadow: 0px 1px 3px 1px rgba(0, 0, 0, 0.15);\n",
              "      filter: drop-shadow(0px 1px 2px rgba(0, 0, 0, 0.3));\n",
              "      fill: #FFFFFF;\n",
              "    }\n",
              "  </style>\n",
              "\n",
              "      <script>\n",
              "        const buttonEl =\n",
              "          document.querySelector('#df-d4d052dd-b4d9-4a92-820b-5c947f47a5a4 button.colab-df-convert');\n",
              "        buttonEl.style.display =\n",
              "          google.colab.kernel.accessAllowed ? 'block' : 'none';\n",
              "\n",
              "        async function convertToInteractive(key) {\n",
              "          const element = document.querySelector('#df-d4d052dd-b4d9-4a92-820b-5c947f47a5a4');\n",
              "          const dataTable =\n",
              "            await google.colab.kernel.invokeFunction('convertToInteractive',\n",
              "                                                     [key], {});\n",
              "          if (!dataTable) return;\n",
              "\n",
              "          const docLinkHtml = 'Like what you see? Visit the ' +\n",
              "            '<a target=\"_blank\" href=https://colab.research.google.com/notebooks/data_table.ipynb>data table notebook</a>'\n",
              "            + ' to learn more about interactive tables.';\n",
              "          element.innerHTML = '';\n",
              "          dataTable['output_type'] = 'display_data';\n",
              "          await google.colab.output.renderOutput(dataTable, element);\n",
              "          const docLink = document.createElement('div');\n",
              "          docLink.innerHTML = docLinkHtml;\n",
              "          element.appendChild(docLink);\n",
              "        }\n",
              "      </script>\n",
              "    </div>\n",
              "  </div>\n",
              "  "
            ]
          },
          "metadata": {},
          "execution_count": 20
        }
      ]
    },
    {
      "cell_type": "code",
      "source": [
        "test_pred1 = model1.predict(X1_test)\n",
        "print(test_pred1[:5])\n",
        "\n",
        "test_pred_categorical1 = [1 if pred > 0.5 else 0 for pred in test_pred1]\n",
        "print(test_pred_categorical1[:5])"
      ],
      "metadata": {
        "colab": {
          "base_uri": "https://localhost:8080/"
        },
        "id": "5PxXTfv5FeKb",
        "outputId": "c10585ca-6bf3-456e-84ad-bbfc7efe0f45"
      },
      "execution_count": null,
      "outputs": [
        {
          "output_type": "stream",
          "name": "stdout",
          "text": [
            "4/4 [==============================] - 0s 4ms/step\n",
            "[[0.5957333 ]\n",
            " [0.33605283]\n",
            " [0.33745295]\n",
            " [0.31401917]\n",
            " [0.31977737]]\n",
            "[1, 0, 0, 0, 0]\n"
          ]
        }
      ]
    },
    {
      "cell_type": "markdown",
      "metadata": {
        "id": "fMqu-oFyzOn9"
      },
      "source": [
        "## M2\n",
        "\n",
        "<!-- As the initial model, let's think about a simple model using 8 features and 2 hidden layers. -->\n",
        "\n",
        "<!-- ![](https://github.com/HHansi/Applied-AI-Course/blob/main/DL/images/Simple_neural_network.png?raw=true) -->\n"
      ]
    },
    {
      "cell_type": "markdown",
      "source": [
        "## M2 Params\n",
        "\n",
        "No of features = last 4\n",
        "\n",
        "No of hidden layers = 2\n",
        "\n",
        "Classification type = Binary class\n",
        "\n",
        "Activations: relu, relu, sigmoid"
      ],
      "metadata": {
        "id": "qL1H6aTdh2-H"
      }
    },
    {
      "cell_type": "markdown",
      "source": [
        "I am selecting the last 4 column features for model trial"
      ],
      "metadata": {
        "id": "LYn0aVodcXHm"
      }
    },
    {
      "cell_type": "code",
      "source": [
        "X2 = X.iloc[:, 3:7]\n",
        "X2.head()"
      ],
      "metadata": {
        "colab": {
          "base_uri": "https://localhost:8080/",
          "height": 206
        },
        "id": "8H5hOXaXcsKs",
        "outputId": "b17520b0-df5c-42da-d3c2-abc684ce38ee"
      },
      "execution_count": null,
      "outputs": [
        {
          "output_type": "execute_result",
          "data": {
            "text/plain": [
              "   A4   A5    A6     A7\n",
              "0  35    0  33.6  0.627\n",
              "1  29    0  26.6  0.351\n",
              "2   0    0  23.3  0.672\n",
              "3  23   94  28.1  0.167\n",
              "4  35  168  43.1  2.288"
            ],
            "text/html": [
              "\n",
              "  <div id=\"df-01d7207c-79b0-4b4f-a00b-a82c5a0b4a63\">\n",
              "    <div class=\"colab-df-container\">\n",
              "      <div>\n",
              "<style scoped>\n",
              "    .dataframe tbody tr th:only-of-type {\n",
              "        vertical-align: middle;\n",
              "    }\n",
              "\n",
              "    .dataframe tbody tr th {\n",
              "        vertical-align: top;\n",
              "    }\n",
              "\n",
              "    .dataframe thead th {\n",
              "        text-align: right;\n",
              "    }\n",
              "</style>\n",
              "<table border=\"1\" class=\"dataframe\">\n",
              "  <thead>\n",
              "    <tr style=\"text-align: right;\">\n",
              "      <th></th>\n",
              "      <th>A4</th>\n",
              "      <th>A5</th>\n",
              "      <th>A6</th>\n",
              "      <th>A7</th>\n",
              "    </tr>\n",
              "  </thead>\n",
              "  <tbody>\n",
              "    <tr>\n",
              "      <th>0</th>\n",
              "      <td>35</td>\n",
              "      <td>0</td>\n",
              "      <td>33.6</td>\n",
              "      <td>0.627</td>\n",
              "    </tr>\n",
              "    <tr>\n",
              "      <th>1</th>\n",
              "      <td>29</td>\n",
              "      <td>0</td>\n",
              "      <td>26.6</td>\n",
              "      <td>0.351</td>\n",
              "    </tr>\n",
              "    <tr>\n",
              "      <th>2</th>\n",
              "      <td>0</td>\n",
              "      <td>0</td>\n",
              "      <td>23.3</td>\n",
              "      <td>0.672</td>\n",
              "    </tr>\n",
              "    <tr>\n",
              "      <th>3</th>\n",
              "      <td>23</td>\n",
              "      <td>94</td>\n",
              "      <td>28.1</td>\n",
              "      <td>0.167</td>\n",
              "    </tr>\n",
              "    <tr>\n",
              "      <th>4</th>\n",
              "      <td>35</td>\n",
              "      <td>168</td>\n",
              "      <td>43.1</td>\n",
              "      <td>2.288</td>\n",
              "    </tr>\n",
              "  </tbody>\n",
              "</table>\n",
              "</div>\n",
              "      <button class=\"colab-df-convert\" onclick=\"convertToInteractive('df-01d7207c-79b0-4b4f-a00b-a82c5a0b4a63')\"\n",
              "              title=\"Convert this dataframe to an interactive table.\"\n",
              "              style=\"display:none;\">\n",
              "        \n",
              "  <svg xmlns=\"http://www.w3.org/2000/svg\" height=\"24px\"viewBox=\"0 0 24 24\"\n",
              "       width=\"24px\">\n",
              "    <path d=\"M0 0h24v24H0V0z\" fill=\"none\"/>\n",
              "    <path d=\"M18.56 5.44l.94 2.06.94-2.06 2.06-.94-2.06-.94-.94-2.06-.94 2.06-2.06.94zm-11 1L8.5 8.5l.94-2.06 2.06-.94-2.06-.94L8.5 2.5l-.94 2.06-2.06.94zm10 10l.94 2.06.94-2.06 2.06-.94-2.06-.94-.94-2.06-.94 2.06-2.06.94z\"/><path d=\"M17.41 7.96l-1.37-1.37c-.4-.4-.92-.59-1.43-.59-.52 0-1.04.2-1.43.59L10.3 9.45l-7.72 7.72c-.78.78-.78 2.05 0 2.83L4 21.41c.39.39.9.59 1.41.59.51 0 1.02-.2 1.41-.59l7.78-7.78 2.81-2.81c.8-.78.8-2.07 0-2.86zM5.41 20L4 18.59l7.72-7.72 1.47 1.35L5.41 20z\"/>\n",
              "  </svg>\n",
              "      </button>\n",
              "      \n",
              "  <style>\n",
              "    .colab-df-container {\n",
              "      display:flex;\n",
              "      flex-wrap:wrap;\n",
              "      gap: 12px;\n",
              "    }\n",
              "\n",
              "    .colab-df-convert {\n",
              "      background-color: #E8F0FE;\n",
              "      border: none;\n",
              "      border-radius: 50%;\n",
              "      cursor: pointer;\n",
              "      display: none;\n",
              "      fill: #1967D2;\n",
              "      height: 32px;\n",
              "      padding: 0 0 0 0;\n",
              "      width: 32px;\n",
              "    }\n",
              "\n",
              "    .colab-df-convert:hover {\n",
              "      background-color: #E2EBFA;\n",
              "      box-shadow: 0px 1px 2px rgba(60, 64, 67, 0.3), 0px 1px 3px 1px rgba(60, 64, 67, 0.15);\n",
              "      fill: #174EA6;\n",
              "    }\n",
              "\n",
              "    [theme=dark] .colab-df-convert {\n",
              "      background-color: #3B4455;\n",
              "      fill: #D2E3FC;\n",
              "    }\n",
              "\n",
              "    [theme=dark] .colab-df-convert:hover {\n",
              "      background-color: #434B5C;\n",
              "      box-shadow: 0px 1px 3px 1px rgba(0, 0, 0, 0.15);\n",
              "      filter: drop-shadow(0px 1px 2px rgba(0, 0, 0, 0.3));\n",
              "      fill: #FFFFFF;\n",
              "    }\n",
              "  </style>\n",
              "\n",
              "      <script>\n",
              "        const buttonEl =\n",
              "          document.querySelector('#df-01d7207c-79b0-4b4f-a00b-a82c5a0b4a63 button.colab-df-convert');\n",
              "        buttonEl.style.display =\n",
              "          google.colab.kernel.accessAllowed ? 'block' : 'none';\n",
              "\n",
              "        async function convertToInteractive(key) {\n",
              "          const element = document.querySelector('#df-01d7207c-79b0-4b4f-a00b-a82c5a0b4a63');\n",
              "          const dataTable =\n",
              "            await google.colab.kernel.invokeFunction('convertToInteractive',\n",
              "                                                     [key], {});\n",
              "          if (!dataTable) return;\n",
              "\n",
              "          const docLinkHtml = 'Like what you see? Visit the ' +\n",
              "            '<a target=\"_blank\" href=https://colab.research.google.com/notebooks/data_table.ipynb>data table notebook</a>'\n",
              "            + ' to learn more about interactive tables.';\n",
              "          element.innerHTML = '';\n",
              "          dataTable['output_type'] = 'display_data';\n",
              "          await google.colab.output.renderOutput(dataTable, element);\n",
              "          const docLink = document.createElement('div');\n",
              "          docLink.innerHTML = docLinkHtml;\n",
              "          element.appendChild(docLink);\n",
              "        }\n",
              "      </script>\n",
              "    </div>\n",
              "  </div>\n",
              "  "
            ]
          },
          "metadata": {},
          "execution_count": 22
        }
      ]
    },
    {
      "cell_type": "markdown",
      "metadata": {
        "id": "hrdSUHyDTSKY"
      },
      "source": [
        "### Training and splitting data"
      ]
    },
    {
      "cell_type": "code",
      "metadata": {
        "colab": {
          "base_uri": "https://localhost:8080/"
        },
        "id": "E2lWjlFSXNmE",
        "outputId": "2b33ffa3-5743-42b4-d01d-0cdf14390a4f"
      },
      "source": [
        "# split data to train and validation sets 70% train and 30% validation\n",
        "X_train2, X_val2, y_train2, y_val2 = train_test_split(X2, y, test_size=0.3, random_state=100)\n",
        "print(f'training data set size: {len(X_train2)}')\n",
        "print(f'validation data set size: {len(X_val2)}')"
      ],
      "execution_count": null,
      "outputs": [
        {
          "output_type": "stream",
          "name": "stdout",
          "text": [
            "training data set size: 467\n",
            "validation data set size: 201\n"
          ]
        }
      ]
    },
    {
      "cell_type": "markdown",
      "metadata": {
        "id": "4uS4W0TvTXRY"
      },
      "source": [
        "### Build Model"
      ]
    },
    {
      "cell_type": "code",
      "source": [
        "# define the keras model\n",
        "model2 = keras.Sequential()\n",
        "model2.add(layers.Dense(16, input_dim=4, activation='relu'))\n",
        "model2.add(layers.Dense(8, activation='relu'))\n",
        "model2.add(layers.Dense(1, activation='sigmoid'))\n",
        "\n",
        "model2.summary()"
      ],
      "metadata": {
        "colab": {
          "base_uri": "https://localhost:8080/"
        },
        "id": "2bklQ5aQ3L6c",
        "outputId": "2d4f6e05-c014-4c7e-a233-a187b2c54b30"
      },
      "execution_count": null,
      "outputs": [
        {
          "output_type": "stream",
          "name": "stdout",
          "text": [
            "Model: \"sequential_1\"\n",
            "_________________________________________________________________\n",
            " Layer (type)                Output Shape              Param #   \n",
            "=================================================================\n",
            " dense_2 (Dense)             (None, 16)                80        \n",
            "                                                                 \n",
            " dense_3 (Dense)             (None, 8)                 136       \n",
            "                                                                 \n",
            " dense_4 (Dense)             (None, 1)                 9         \n",
            "                                                                 \n",
            "=================================================================\n",
            "Total params: 225\n",
            "Trainable params: 225\n",
            "Non-trainable params: 0\n",
            "_________________________________________________________________\n"
          ]
        }
      ]
    },
    {
      "cell_type": "code",
      "metadata": {
        "id": "fQDmKvcY03gL"
      },
      "source": [
        "# compile the keras model\n",
        "model2.compile(loss='binary_crossentropy', optimizer='adam', metrics=['accuracy'])"
      ],
      "execution_count": null,
      "outputs": []
    },
    {
      "cell_type": "code",
      "metadata": {
        "colab": {
          "base_uri": "https://localhost:8080/"
        },
        "id": "BgtZv9ia0_P4",
        "outputId": "ef10dd17-6107-4012-9c6c-9b85ac0ca2e8"
      },
      "source": [
        "# train model\n",
        "history = model2.fit(X_train2, y_train2, batch_size=50, epochs=60, validation_data=(X_val2, y_val2))"
      ],
      "execution_count": null,
      "outputs": [
        {
          "output_type": "stream",
          "name": "stdout",
          "text": [
            "Epoch 1/60\n",
            "10/10 [==============================] - 1s 27ms/step - loss: 9.4779 - accuracy: 0.3490 - val_loss: 7.7905 - val_accuracy: 0.3433\n",
            "Epoch 2/60\n",
            "10/10 [==============================] - 0s 8ms/step - loss: 5.5484 - accuracy: 0.4261 - val_loss: 3.9488 - val_accuracy: 0.3930\n",
            "Epoch 3/60\n",
            "10/10 [==============================] - 0s 6ms/step - loss: 2.2654 - accuracy: 0.4540 - val_loss: 0.8841 - val_accuracy: 0.4925\n",
            "Epoch 4/60\n",
            "10/10 [==============================] - 0s 8ms/step - loss: 1.2358 - accuracy: 0.5910 - val_loss: 1.2462 - val_accuracy: 0.6468\n",
            "Epoch 5/60\n",
            "10/10 [==============================] - 0s 7ms/step - loss: 1.1604 - accuracy: 0.6210 - val_loss: 0.7921 - val_accuracy: 0.5174\n",
            "Epoch 6/60\n",
            "10/10 [==============================] - 0s 6ms/step - loss: 0.8229 - accuracy: 0.5139 - val_loss: 0.8154 - val_accuracy: 0.4677\n",
            "Epoch 7/60\n",
            "10/10 [==============================] - 0s 8ms/step - loss: 0.7460 - accuracy: 0.5996 - val_loss: 0.7242 - val_accuracy: 0.6517\n",
            "Epoch 8/60\n",
            "10/10 [==============================] - 0s 8ms/step - loss: 0.7214 - accuracy: 0.6317 - val_loss: 0.7077 - val_accuracy: 0.6418\n",
            "Epoch 9/60\n",
            "10/10 [==============================] - 0s 7ms/step - loss: 0.6958 - accuracy: 0.6424 - val_loss: 0.6867 - val_accuracy: 0.6517\n",
            "Epoch 10/60\n",
            "10/10 [==============================] - 0s 6ms/step - loss: 0.6935 - accuracy: 0.6317 - val_loss: 0.6808 - val_accuracy: 0.6418\n",
            "Epoch 11/60\n",
            "10/10 [==============================] - 0s 7ms/step - loss: 0.6861 - accuracy: 0.6445 - val_loss: 0.6768 - val_accuracy: 0.6368\n",
            "Epoch 12/60\n",
            "10/10 [==============================] - 0s 7ms/step - loss: 0.6820 - accuracy: 0.6360 - val_loss: 0.6709 - val_accuracy: 0.6418\n",
            "Epoch 13/60\n",
            "10/10 [==============================] - 0s 7ms/step - loss: 0.6811 - accuracy: 0.6274 - val_loss: 0.6729 - val_accuracy: 0.6418\n",
            "Epoch 14/60\n",
            "10/10 [==============================] - 0s 6ms/step - loss: 0.6807 - accuracy: 0.6317 - val_loss: 0.6666 - val_accuracy: 0.6567\n",
            "Epoch 15/60\n",
            "10/10 [==============================] - 0s 6ms/step - loss: 0.6785 - accuracy: 0.6381 - val_loss: 0.6591 - val_accuracy: 0.6269\n",
            "Epoch 16/60\n",
            "10/10 [==============================] - 0s 6ms/step - loss: 0.6685 - accuracy: 0.6467 - val_loss: 0.6549 - val_accuracy: 0.6318\n",
            "Epoch 17/60\n",
            "10/10 [==============================] - 0s 6ms/step - loss: 0.6727 - accuracy: 0.6424 - val_loss: 0.6517 - val_accuracy: 0.6567\n",
            "Epoch 18/60\n",
            "10/10 [==============================] - 0s 9ms/step - loss: 0.6694 - accuracy: 0.6467 - val_loss: 0.6586 - val_accuracy: 0.6468\n",
            "Epoch 19/60\n",
            "10/10 [==============================] - 0s 6ms/step - loss: 0.6703 - accuracy: 0.6510 - val_loss: 0.6540 - val_accuracy: 0.6567\n",
            "Epoch 20/60\n",
            "10/10 [==============================] - 0s 6ms/step - loss: 0.6677 - accuracy: 0.6574 - val_loss: 0.6513 - val_accuracy: 0.6418\n",
            "Epoch 21/60\n",
            "10/10 [==============================] - 0s 6ms/step - loss: 0.6626 - accuracy: 0.6552 - val_loss: 0.6486 - val_accuracy: 0.6517\n",
            "Epoch 22/60\n",
            "10/10 [==============================] - 0s 6ms/step - loss: 0.6637 - accuracy: 0.6510 - val_loss: 0.6477 - val_accuracy: 0.6567\n",
            "Epoch 23/60\n",
            "10/10 [==============================] - 0s 9ms/step - loss: 0.6903 - accuracy: 0.6552 - val_loss: 0.6801 - val_accuracy: 0.6418\n",
            "Epoch 24/60\n",
            "10/10 [==============================] - 0s 6ms/step - loss: 0.6811 - accuracy: 0.6445 - val_loss: 0.6515 - val_accuracy: 0.6567\n",
            "Epoch 25/60\n",
            "10/10 [==============================] - 0s 7ms/step - loss: 0.6637 - accuracy: 0.6424 - val_loss: 0.6649 - val_accuracy: 0.6617\n",
            "Epoch 26/60\n",
            "10/10 [==============================] - 0s 7ms/step - loss: 0.6686 - accuracy: 0.6681 - val_loss: 0.6448 - val_accuracy: 0.6517\n",
            "Epoch 27/60\n",
            "10/10 [==============================] - 0s 8ms/step - loss: 0.6588 - accuracy: 0.6574 - val_loss: 0.6435 - val_accuracy: 0.6468\n",
            "Epoch 28/60\n",
            "10/10 [==============================] - 0s 6ms/step - loss: 0.6583 - accuracy: 0.6574 - val_loss: 0.6726 - val_accuracy: 0.6468\n",
            "Epoch 29/60\n",
            "10/10 [==============================] - 0s 8ms/step - loss: 0.6729 - accuracy: 0.6531 - val_loss: 0.6566 - val_accuracy: 0.6567\n",
            "Epoch 30/60\n",
            "10/10 [==============================] - 0s 6ms/step - loss: 0.6666 - accuracy: 0.6467 - val_loss: 0.6688 - val_accuracy: 0.6517\n",
            "Epoch 31/60\n",
            "10/10 [==============================] - 0s 6ms/step - loss: 0.6692 - accuracy: 0.6552 - val_loss: 0.6422 - val_accuracy: 0.6418\n",
            "Epoch 32/60\n",
            "10/10 [==============================] - 0s 7ms/step - loss: 0.6525 - accuracy: 0.6660 - val_loss: 0.6459 - val_accuracy: 0.6567\n",
            "Epoch 33/60\n",
            "10/10 [==============================] - 0s 7ms/step - loss: 0.6549 - accuracy: 0.6531 - val_loss: 0.6434 - val_accuracy: 0.6468\n",
            "Epoch 34/60\n",
            "10/10 [==============================] - 0s 8ms/step - loss: 0.6546 - accuracy: 0.6531 - val_loss: 0.6407 - val_accuracy: 0.6418\n",
            "Epoch 35/60\n",
            "10/10 [==============================] - 0s 6ms/step - loss: 0.6542 - accuracy: 0.6595 - val_loss: 0.6452 - val_accuracy: 0.6468\n",
            "Epoch 36/60\n",
            "10/10 [==============================] - 0s 6ms/step - loss: 0.6606 - accuracy: 0.6531 - val_loss: 0.6453 - val_accuracy: 0.6667\n",
            "Epoch 37/60\n",
            "10/10 [==============================] - 0s 6ms/step - loss: 0.6549 - accuracy: 0.6552 - val_loss: 0.6518 - val_accuracy: 0.6617\n",
            "Epoch 38/60\n",
            "10/10 [==============================] - 0s 6ms/step - loss: 0.6548 - accuracy: 0.6552 - val_loss: 0.6440 - val_accuracy: 0.6517\n",
            "Epoch 39/60\n",
            "10/10 [==============================] - 0s 6ms/step - loss: 0.6625 - accuracy: 0.6702 - val_loss: 0.6417 - val_accuracy: 0.6567\n",
            "Epoch 40/60\n",
            "10/10 [==============================] - 0s 6ms/step - loss: 0.6658 - accuracy: 0.6552 - val_loss: 0.6548 - val_accuracy: 0.6617\n",
            "Epoch 41/60\n",
            "10/10 [==============================] - 0s 6ms/step - loss: 0.6570 - accuracy: 0.6424 - val_loss: 0.6380 - val_accuracy: 0.6418\n",
            "Epoch 42/60\n",
            "10/10 [==============================] - 0s 6ms/step - loss: 0.6664 - accuracy: 0.6724 - val_loss: 0.6536 - val_accuracy: 0.6567\n",
            "Epoch 43/60\n",
            "10/10 [==============================] - 0s 7ms/step - loss: 0.6732 - accuracy: 0.6552 - val_loss: 0.6454 - val_accuracy: 0.6617\n",
            "Epoch 44/60\n",
            "10/10 [==============================] - 0s 7ms/step - loss: 0.6506 - accuracy: 0.6574 - val_loss: 0.6358 - val_accuracy: 0.6418\n",
            "Epoch 45/60\n",
            "10/10 [==============================] - 0s 8ms/step - loss: 0.6687 - accuracy: 0.6617 - val_loss: 0.6478 - val_accuracy: 0.6567\n",
            "Epoch 46/60\n",
            "10/10 [==============================] - 0s 7ms/step - loss: 0.6600 - accuracy: 0.6595 - val_loss: 0.6804 - val_accuracy: 0.6418\n",
            "Epoch 47/60\n",
            "10/10 [==============================] - 0s 6ms/step - loss: 0.6659 - accuracy: 0.6510 - val_loss: 0.6359 - val_accuracy: 0.6517\n",
            "Epoch 48/60\n",
            "10/10 [==============================] - 0s 7ms/step - loss: 0.6872 - accuracy: 0.6445 - val_loss: 0.6492 - val_accuracy: 0.6567\n",
            "Epoch 49/60\n",
            "10/10 [==============================] - 0s 8ms/step - loss: 0.6754 - accuracy: 0.6488 - val_loss: 0.6713 - val_accuracy: 0.6517\n",
            "Epoch 50/60\n",
            "10/10 [==============================] - 0s 6ms/step - loss: 0.6484 - accuracy: 0.6531 - val_loss: 0.6447 - val_accuracy: 0.6567\n",
            "Epoch 51/60\n",
            "10/10 [==============================] - 0s 7ms/step - loss: 0.6620 - accuracy: 0.6531 - val_loss: 0.6376 - val_accuracy: 0.6567\n",
            "Epoch 52/60\n",
            "10/10 [==============================] - 0s 6ms/step - loss: 0.6577 - accuracy: 0.6574 - val_loss: 0.6410 - val_accuracy: 0.6517\n",
            "Epoch 53/60\n",
            "10/10 [==============================] - 0s 6ms/step - loss: 0.6454 - accuracy: 0.6745 - val_loss: 0.6363 - val_accuracy: 0.6517\n",
            "Epoch 54/60\n",
            "10/10 [==============================] - 0s 6ms/step - loss: 0.6438 - accuracy: 0.6574 - val_loss: 0.6632 - val_accuracy: 0.6318\n",
            "Epoch 55/60\n",
            "10/10 [==============================] - 0s 6ms/step - loss: 0.6550 - accuracy: 0.6767 - val_loss: 0.6532 - val_accuracy: 0.6567\n",
            "Epoch 56/60\n",
            "10/10 [==============================] - 0s 6ms/step - loss: 0.6526 - accuracy: 0.6552 - val_loss: 0.6660 - val_accuracy: 0.6368\n",
            "Epoch 57/60\n",
            "10/10 [==============================] - 0s 7ms/step - loss: 0.6491 - accuracy: 0.6745 - val_loss: 0.6478 - val_accuracy: 0.6567\n",
            "Epoch 58/60\n",
            "10/10 [==============================] - 0s 6ms/step - loss: 0.6587 - accuracy: 0.6510 - val_loss: 0.6350 - val_accuracy: 0.6567\n",
            "Epoch 59/60\n",
            "10/10 [==============================] - 0s 8ms/step - loss: 0.6458 - accuracy: 0.6724 - val_loss: 0.6392 - val_accuracy: 0.6567\n",
            "Epoch 60/60\n",
            "10/10 [==============================] - 0s 7ms/step - loss: 0.6435 - accuracy: 0.6638 - val_loss: 0.6383 - val_accuracy: 0.6567\n"
          ]
        }
      ]
    },
    {
      "cell_type": "code",
      "source": [
        "# plot the history of the training\n",
        "\n",
        "# summarize the history for accuracy\n",
        "plt.plot(history.history['accuracy'])\n",
        "plt.plot(history.history['val_accuracy'])\n",
        "plt.title('model accuracy')\n",
        "plt.ylabel('accuracy')\n",
        "plt.xlabel('epoch')\n",
        "plt.legend(['train','test'], loc='upper left')\n",
        "plt.show()\n",
        "\n",
        "# summarize the history for loss\n",
        "plt.plot(history.history['loss'])\n",
        "plt.plot(history.history['val_loss'])\n",
        "plt.title('model loss')\n",
        "plt.ylabel('loss')\n",
        "plt.xlabel('epoch')\n",
        "plt.legend(['train','test'], loc='upper left')\n",
        "plt.show()"
      ],
      "metadata": {
        "colab": {
          "base_uri": "https://localhost:8080/",
          "height": 573
        },
        "id": "ZdUT6ddjB5Ey",
        "outputId": "f2f8578c-358f-4647-d733-06d7e2853cf2"
      },
      "execution_count": null,
      "outputs": [
        {
          "output_type": "display_data",
          "data": {
            "text/plain": [
              "<Figure size 432x288 with 1 Axes>"
            ],
            "image/png": "[encoded data removed]"
          },
          "metadata": {
            "needs_background": "light"
          }
        },
        {
          "output_type": "display_data",
          "data": {
            "text/plain": [
              "<Figure size 432x288 with 1 Axes>"
            ],
            "image/png": "[encoded data removed]"
          },
          "metadata": {
            "needs_background": "light"
          }
        }
      ]
    },
    {
      "cell_type": "markdown",
      "metadata": {
        "id": "MCJxLR9HTpQI"
      },
      "source": [
        "### Validate Model\n",
        "\n",
        "Validation accuracy is measured in the previous step too. But let's see how to do it separately."
      ]
    },
    {
      "cell_type": "code",
      "metadata": {
        "colab": {
          "base_uri": "https://localhost:8080/"
        },
        "id": "PNT8NgNwTFqh",
        "outputId": "26d807ad-4d7c-49eb-81fb-e36381885f29"
      },
      "source": [
        "# get model predictions\n",
        "y_pred2 = model2.predict(X_val2)\n",
        "print(y_pred2[:10])"
      ],
      "execution_count": null,
      "outputs": [
        {
          "output_type": "stream",
          "name": "stdout",
          "text": [
            "7/7 [==============================] - 0s 2ms/step\n",
            "[[0.35036653]\n",
            " [0.61221695]\n",
            " [0.2979998 ]\n",
            " [0.35448337]\n",
            " [0.48319262]\n",
            " [0.40121698]\n",
            " [0.37424555]\n",
            " [0.37504795]\n",
            " [0.35813475]\n",
            " [0.39409372]]\n"
          ]
        }
      ]
    },
    {
      "cell_type": "code",
      "metadata": {
        "colab": {
          "base_uri": "https://localhost:8080/"
        },
        "id": "dMrjL18pUhIV",
        "outputId": "b6667045-8dbf-4c7c-c1ff-15a4499f5f2a"
      },
      "source": [
        "# convert to categorical predictions\n",
        "y_pred_categorical2 = [1 if pred > 0.5 else 0 for pred in y_pred2]\n",
        "print(y_pred_categorical2[:10])"
      ],
      "execution_count": null,
      "outputs": [
        {
          "output_type": "stream",
          "name": "stdout",
          "text": [
            "[0, 1, 0, 0, 0, 0, 0, 0, 0, 0]\n"
          ]
        }
      ]
    },
    {
      "cell_type": "code",
      "metadata": {
        "colab": {
          "base_uri": "https://localhost:8080/"
        },
        "id": "VRLVDsFaUt50",
        "outputId": "63f70db4-5a42-4a0d-922e-1d5af419601e"
      },
      "source": [
        "# measure accuracy\n",
        "accuracy2 = metrics.accuracy_score(y_val2, y_pred_categorical2)\n",
        "print(f'Accuracy: {accuracy2}')"
      ],
      "execution_count": null,
      "outputs": [
        {
          "output_type": "stream",
          "name": "stdout",
          "text": [
            "Accuracy: 0.6567164179104478\n"
          ]
        }
      ]
    },
    {
      "cell_type": "markdown",
      "metadata": {
        "id": "oCfjgcgdU-fH"
      },
      "source": [
        "### Test Predictions"
      ]
    },
    {
      "cell_type": "code",
      "metadata": {
        "colab": {
          "base_uri": "https://localhost:8080/"
        },
        "id": "vw11cj3wVwoG",
        "outputId": "50584a4b-9858-4065-85f9-c3d9622cd503"
      },
      "source": [
        "# summarise the details\n",
        "print(f'Number of entries: {len(diabetes_test)}')\n",
        "\n",
        "X_test = diabetes_test.drop(['id'], axis=1)\n",
        "print(X_test.info())"
      ],
      "execution_count": null,
      "outputs": [
        {
          "output_type": "stream",
          "name": "stdout",
          "text": [
            "Number of entries: 100\n",
            "<class 'pandas.core.frame.DataFrame'>\n",
            "RangeIndex: 100 entries, 0 to 99\n",
            "Data columns (total 8 columns):\n",
            " #   Column  Non-Null Count  Dtype  \n",
            "---  ------  --------------  -----  \n",
            " 0   A1      100 non-null    int64  \n",
            " 1   A2      100 non-null    int64  \n",
            " 2   A3      100 non-null    int64  \n",
            " 3   A4      100 non-null    int64  \n",
            " 4   A5      100 non-null    int64  \n",
            " 5   A6      100 non-null    float64\n",
            " 6   A7      100 non-null    float64\n",
            " 7   A8      100 non-null    int64  \n",
            "dtypes: float64(2), int64(6)\n",
            "memory usage: 6.4 KB\n",
            "None\n"
          ]
        }
      ]
    },
    {
      "cell_type": "code",
      "metadata": {
        "colab": {
          "base_uri": "https://localhost:8080/",
          "height": 206
        },
        "id": "cai6IPo2WEBH",
        "outputId": "d2e964c8-3d57-4282-b97c-b2ee205204be"
      },
      "source": [
        "X_test2 = X_test.iloc[:, 3:7]\n",
        "X_test2.head()"
      ],
      "execution_count": null,
      "outputs": [
        {
          "output_type": "execute_result",
          "data": {
            "text/plain": [
              "   A4   A5    A6     A7\n",
              "0  33  190  34.0  0.430\n",
              "1  30  100  30.9  0.164\n",
              "2  26  168  33.6  0.631\n",
              "3  10    0  25.4  0.551\n",
              "4  23   49  35.5  0.285"
            ],
            "text/html": [
              "\n",
              "  <div id=\"df-b3f5109f-c82c-4bcb-a15a-d59fccf474a2\">\n",
              "    <div class=\"colab-df-container\">\n",
              "      <div>\n",
              "<style scoped>\n",
              "    .dataframe tbody tr th:only-of-type {\n",
              "        vertical-align: middle;\n",
              "    }\n",
              "\n",
              "    .dataframe tbody tr th {\n",
              "        vertical-align: top;\n",
              "    }\n",
              "\n",
              "    .dataframe thead th {\n",
              "        text-align: right;\n",
              "    }\n",
              "</style>\n",
              "<table border=\"1\" class=\"dataframe\">\n",
              "  <thead>\n",
              "    <tr style=\"text-align: right;\">\n",
              "      <th></th>\n",
              "      <th>A4</th>\n",
              "      <th>A5</th>\n",
              "      <th>A6</th>\n",
              "      <th>A7</th>\n",
              "    </tr>\n",
              "  </thead>\n",
              "  <tbody>\n",
              "    <tr>\n",
              "      <th>0</th>\n",
              "      <td>33</td>\n",
              "      <td>190</td>\n",
              "      <td>34.0</td>\n",
              "      <td>0.430</td>\n",
              "    </tr>\n",
              "    <tr>\n",
              "      <th>1</th>\n",
              "      <td>30</td>\n",
              "      <td>100</td>\n",
              "      <td>30.9</td>\n",
              "      <td>0.164</td>\n",
              "    </tr>\n",
              "    <tr>\n",
              "      <th>2</th>\n",
              "      <td>26</td>\n",
              "      <td>168</td>\n",
              "      <td>33.6</td>\n",
              "      <td>0.631</td>\n",
              "    </tr>\n",
              "    <tr>\n",
              "      <th>3</th>\n",
              "      <td>10</td>\n",
              "      <td>0</td>\n",
              "      <td>25.4</td>\n",
              "      <td>0.551</td>\n",
              "    </tr>\n",
              "    <tr>\n",
              "      <th>4</th>\n",
              "      <td>23</td>\n",
              "      <td>49</td>\n",
              "      <td>35.5</td>\n",
              "      <td>0.285</td>\n",
              "    </tr>\n",
              "  </tbody>\n",
              "</table>\n",
              "</div>\n",
              "      <button class=\"colab-df-convert\" onclick=\"convertToInteractive('df-b3f5109f-c82c-4bcb-a15a-d59fccf474a2')\"\n",
              "              title=\"Convert this dataframe to an interactive table.\"\n",
              "              style=\"display:none;\">\n",
              "        \n",
              "  <svg xmlns=\"http://www.w3.org/2000/svg\" height=\"24px\"viewBox=\"0 0 24 24\"\n",
              "       width=\"24px\">\n",
              "    <path d=\"M0 0h24v24H0V0z\" fill=\"none\"/>\n",
              "    <path d=\"M18.56 5.44l.94 2.06.94-2.06 2.06-.94-2.06-.94-.94-2.06-.94 2.06-2.06.94zm-11 1L8.5 8.5l.94-2.06 2.06-.94-2.06-.94L8.5 2.5l-.94 2.06-2.06.94zm10 10l.94 2.06.94-2.06 2.06-.94-2.06-.94-.94-2.06-.94 2.06-2.06.94z\"/><path d=\"M17.41 7.96l-1.37-1.37c-.4-.4-.92-.59-1.43-.59-.52 0-1.04.2-1.43.59L10.3 9.45l-7.72 7.72c-.78.78-.78 2.05 0 2.83L4 21.41c.39.39.9.59 1.41.59.51 0 1.02-.2 1.41-.59l7.78-7.78 2.81-2.81c.8-.78.8-2.07 0-2.86zM5.41 20L4 18.59l7.72-7.72 1.47 1.35L5.41 20z\"/>\n",
              "  </svg>\n",
              "      </button>\n",
              "      \n",
              "  <style>\n",
              "    .colab-df-container {\n",
              "      display:flex;\n",
              "      flex-wrap:wrap;\n",
              "      gap: 12px;\n",
              "    }\n",
              "\n",
              "    .colab-df-convert {\n",
              "      background-color: #E8F0FE;\n",
              "      border: none;\n",
              "      border-radius: 50%;\n",
              "      cursor: pointer;\n",
              "      display: none;\n",
              "      fill: #1967D2;\n",
              "      height: 32px;\n",
              "      padding: 0 0 0 0;\n",
              "      width: 32px;\n",
              "    }\n",
              "\n",
              "    .colab-df-convert:hover {\n",
              "      background-color: #E2EBFA;\n",
              "      box-shadow: 0px 1px 2px rgba(60, 64, 67, 0.3), 0px 1px 3px 1px rgba(60, 64, 67, 0.15);\n",
              "      fill: #174EA6;\n",
              "    }\n",
              "\n",
              "    [theme=dark] .colab-df-convert {\n",
              "      background-color: #3B4455;\n",
              "      fill: #D2E3FC;\n",
              "    }\n",
              "\n",
              "    [theme=dark] .colab-df-convert:hover {\n",
              "      background-color: #434B5C;\n",
              "      box-shadow: 0px 1px 3px 1px rgba(0, 0, 0, 0.15);\n",
              "      filter: drop-shadow(0px 1px 2px rgba(0, 0, 0, 0.3));\n",
              "      fill: #FFFFFF;\n",
              "    }\n",
              "  </style>\n",
              "\n",
              "      <script>\n",
              "        const buttonEl =\n",
              "          document.querySelector('#df-b3f5109f-c82c-4bcb-a15a-d59fccf474a2 button.colab-df-convert');\n",
              "        buttonEl.style.display =\n",
              "          google.colab.kernel.accessAllowed ? 'block' : 'none';\n",
              "\n",
              "        async function convertToInteractive(key) {\n",
              "          const element = document.querySelector('#df-b3f5109f-c82c-4bcb-a15a-d59fccf474a2');\n",
              "          const dataTable =\n",
              "            await google.colab.kernel.invokeFunction('convertToInteractive',\n",
              "                                                     [key], {});\n",
              "          if (!dataTable) return;\n",
              "\n",
              "          const docLinkHtml = 'Like what you see? Visit the ' +\n",
              "            '<a target=\"_blank\" href=https://colab.research.google.com/notebooks/data_table.ipynb>data table notebook</a>'\n",
              "            + ' to learn more about interactive tables.';\n",
              "          element.innerHTML = '';\n",
              "          dataTable['output_type'] = 'display_data';\n",
              "          await google.colab.output.renderOutput(dataTable, element);\n",
              "          const docLink = document.createElement('div');\n",
              "          docLink.innerHTML = docLinkHtml;\n",
              "          element.appendChild(docLink);\n",
              "        }\n",
              "      </script>\n",
              "    </div>\n",
              "  </div>\n",
              "  "
            ]
          },
          "metadata": {},
          "execution_count": 32
        }
      ]
    },
    {
      "cell_type": "code",
      "metadata": {
        "colab": {
          "base_uri": "https://localhost:8080/"
        },
        "id": "sqmiCC_JWSHa",
        "outputId": "1e39c933-c35d-43e2-9b1d-17797d9580d8"
      },
      "source": [
        "test_pred2 = model2.predict(X_test2)\n",
        "print(test_pred2[:5])\n",
        "\n",
        "test_pred_categorical2 = [1 if pred > 0.5 else 0 for pred in test_pred2]\n",
        "print(test_pred_categorical2[:5])\n"
      ],
      "execution_count": null,
      "outputs": [
        {
          "output_type": "stream",
          "name": "stdout",
          "text": [
            "4/4 [==============================] - 0s 3ms/step\n",
            "[[0.465673  ]\n",
            " [0.37473622]\n",
            " [0.40551776]\n",
            " [0.34709924]\n",
            " [0.25295517]]\n",
            "[0, 0, 0, 0, 0]\n"
          ]
        }
      ]
    },
    {
      "cell_type": "markdown",
      "metadata": {
        "id": "KVmeZC_0WaSi"
      },
      "source": [
        "## M3\n",
        "\n",
        "## M3 Params\n",
        "\n",
        "No of features = all\n",
        "\n",
        "No of hidden layers = 3\n",
        "\n",
        "Classification type = Binary class\n",
        "\n",
        "Activations: relu, relu, relu, sigmoid"
      ]
    },
    {
      "cell_type": "markdown",
      "source": [
        "Let's build a more complex model with all the 8 major features and more neurons"
      ],
      "metadata": {
        "id": "2fzV54UtZARE"
      }
    },
    {
      "cell_type": "code",
      "metadata": {
        "colab": {
          "base_uri": "https://localhost:8080/",
          "height": 206
        },
        "id": "AVqr2n_XXA5-",
        "outputId": "27cf46a5-c7d0-4d80-e748-e56c6bb29b1a"
      },
      "source": [
        "X3 = X.iloc[:, 0:8]\n",
        "X3.head()"
      ],
      "execution_count": null,
      "outputs": [
        {
          "output_type": "execute_result",
          "data": {
            "text/plain": [
              "   A1   A2  A3  A4   A5    A6     A7  A8\n",
              "0   6  148  72  35    0  33.6  0.627  50\n",
              "1   1   85  66  29    0  26.6  0.351  31\n",
              "2   8  183  64   0    0  23.3  0.672  32\n",
              "3   1   89  66  23   94  28.1  0.167  21\n",
              "4   0  137  40  35  168  43.1  2.288  33"
            ],
            "text/html": [
              "\n",
              "  <div id=\"df-56115183-a08f-4b2b-a2e2-11106bda9cd7\">\n",
              "    <div class=\"colab-df-container\">\n",
              "      <div>\n",
              "<style scoped>\n",
              "    .dataframe tbody tr th:only-of-type {\n",
              "        vertical-align: middle;\n",
              "    }\n",
              "\n",
              "    .dataframe tbody tr th {\n",
              "        vertical-align: top;\n",
              "    }\n",
              "\n",
              "    .dataframe thead th {\n",
              "        text-align: right;\n",
              "    }\n",
              "</style>\n",
              "<table border=\"1\" class=\"dataframe\">\n",
              "  <thead>\n",
              "    <tr style=\"text-align: right;\">\n",
              "      <th></th>\n",
              "      <th>A1</th>\n",
              "      <th>A2</th>\n",
              "      <th>A3</th>\n",
              "      <th>A4</th>\n",
              "      <th>A5</th>\n",
              "      <th>A6</th>\n",
              "      <th>A7</th>\n",
              "      <th>A8</th>\n",
              "    </tr>\n",
              "  </thead>\n",
              "  <tbody>\n",
              "    <tr>\n",
              "      <th>0</th>\n",
              "      <td>6</td>\n",
              "      <td>148</td>\n",
              "      <td>72</td>\n",
              "      <td>35</td>\n",
              "      <td>0</td>\n",
              "      <td>33.6</td>\n",
              "      <td>0.627</td>\n",
              "      <td>50</td>\n",
              "    </tr>\n",
              "    <tr>\n",
              "      <th>1</th>\n",
              "      <td>1</td>\n",
              "      <td>85</td>\n",
              "      <td>66</td>\n",
              "      <td>29</td>\n",
              "      <td>0</td>\n",
              "      <td>26.6</td>\n",
              "      <td>0.351</td>\n",
              "      <td>31</td>\n",
              "    </tr>\n",
              "    <tr>\n",
              "      <th>2</th>\n",
              "      <td>8</td>\n",
              "      <td>183</td>\n",
              "      <td>64</td>\n",
              "      <td>0</td>\n",
              "      <td>0</td>\n",
              "      <td>23.3</td>\n",
              "      <td>0.672</td>\n",
              "      <td>32</td>\n",
              "    </tr>\n",
              "    <tr>\n",
              "      <th>3</th>\n",
              "      <td>1</td>\n",
              "      <td>89</td>\n",
              "      <td>66</td>\n",
              "      <td>23</td>\n",
              "      <td>94</td>\n",
              "      <td>28.1</td>\n",
              "      <td>0.167</td>\n",
              "      <td>21</td>\n",
              "    </tr>\n",
              "    <tr>\n",
              "      <th>4</th>\n",
              "      <td>0</td>\n",
              "      <td>137</td>\n",
              "      <td>40</td>\n",
              "      <td>35</td>\n",
              "      <td>168</td>\n",
              "      <td>43.1</td>\n",
              "      <td>2.288</td>\n",
              "      <td>33</td>\n",
              "    </tr>\n",
              "  </tbody>\n",
              "</table>\n",
              "</div>\n",
              "      <button class=\"colab-df-convert\" onclick=\"convertToInteractive('df-56115183-a08f-4b2b-a2e2-11106bda9cd7')\"\n",
              "              title=\"Convert this dataframe to an interactive table.\"\n",
              "              style=\"display:none;\">\n",
              "        \n",
              "  <svg xmlns=\"http://www.w3.org/2000/svg\" height=\"24px\"viewBox=\"0 0 24 24\"\n",
              "       width=\"24px\">\n",
              "    <path d=\"M0 0h24v24H0V0z\" fill=\"none\"/>\n",
              "    <path d=\"M18.56 5.44l.94 2.06.94-2.06 2.06-.94-2.06-.94-.94-2.06-.94 2.06-2.06.94zm-11 1L8.5 8.5l.94-2.06 2.06-.94-2.06-.94L8.5 2.5l-.94 2.06-2.06.94zm10 10l.94 2.06.94-2.06 2.06-.94-2.06-.94-.94-2.06-.94 2.06-2.06.94z\"/><path d=\"M17.41 7.96l-1.37-1.37c-.4-.4-.92-.59-1.43-.59-.52 0-1.04.2-1.43.59L10.3 9.45l-7.72 7.72c-.78.78-.78 2.05 0 2.83L4 21.41c.39.39.9.59 1.41.59.51 0 1.02-.2 1.41-.59l7.78-7.78 2.81-2.81c.8-.78.8-2.07 0-2.86zM5.41 20L4 18.59l7.72-7.72 1.47 1.35L5.41 20z\"/>\n",
              "  </svg>\n",
              "      </button>\n",
              "      \n",
              "  <style>\n",
              "    .colab-df-container {\n",
              "      display:flex;\n",
              "      flex-wrap:wrap;\n",
              "      gap: 12px;\n",
              "    }\n",
              "\n",
              "    .colab-df-convert {\n",
              "      background-color: #E8F0FE;\n",
              "      border: none;\n",
              "      border-radius: 50%;\n",
              "      cursor: pointer;\n",
              "      display: none;\n",
              "      fill: #1967D2;\n",
              "      height: 32px;\n",
              "      padding: 0 0 0 0;\n",
              "      width: 32px;\n",
              "    }\n",
              "\n",
              "    .colab-df-convert:hover {\n",
              "      background-color: #E2EBFA;\n",
              "      box-shadow: 0px 1px 2px rgba(60, 64, 67, 0.3), 0px 1px 3px 1px rgba(60, 64, 67, 0.15);\n",
              "      fill: #174EA6;\n",
              "    }\n",
              "\n",
              "    [theme=dark] .colab-df-convert {\n",
              "      background-color: #3B4455;\n",
              "      fill: #D2E3FC;\n",
              "    }\n",
              "\n",
              "    [theme=dark] .colab-df-convert:hover {\n",
              "      background-color: #434B5C;\n",
              "      box-shadow: 0px 1px 3px 1px rgba(0, 0, 0, 0.15);\n",
              "      filter: drop-shadow(0px 1px 2px rgba(0, 0, 0, 0.3));\n",
              "      fill: #FFFFFF;\n",
              "    }\n",
              "  </style>\n",
              "\n",
              "      <script>\n",
              "        const buttonEl =\n",
              "          document.querySelector('#df-56115183-a08f-4b2b-a2e2-11106bda9cd7 button.colab-df-convert');\n",
              "        buttonEl.style.display =\n",
              "          google.colab.kernel.accessAllowed ? 'block' : 'none';\n",
              "\n",
              "        async function convertToInteractive(key) {\n",
              "          const element = document.querySelector('#df-56115183-a08f-4b2b-a2e2-11106bda9cd7');\n",
              "          const dataTable =\n",
              "            await google.colab.kernel.invokeFunction('convertToInteractive',\n",
              "                                                     [key], {});\n",
              "          if (!dataTable) return;\n",
              "\n",
              "          const docLinkHtml = 'Like what you see? Visit the ' +\n",
              "            '<a target=\"_blank\" href=https://colab.research.google.com/notebooks/data_table.ipynb>data table notebook</a>'\n",
              "            + ' to learn more about interactive tables.';\n",
              "          element.innerHTML = '';\n",
              "          dataTable['output_type'] = 'display_data';\n",
              "          await google.colab.output.renderOutput(dataTable, element);\n",
              "          const docLink = document.createElement('div');\n",
              "          docLink.innerHTML = docLinkHtml;\n",
              "          element.appendChild(docLink);\n",
              "        }\n",
              "      </script>\n",
              "    </div>\n",
              "  </div>\n",
              "  "
            ]
          },
          "metadata": {},
          "execution_count": 34
        }
      ]
    },
    {
      "cell_type": "markdown",
      "metadata": {
        "id": "_D7T971GW30P"
      },
      "source": [
        "### Split Data"
      ]
    },
    {
      "cell_type": "code",
      "metadata": {
        "colab": {
          "base_uri": "https://localhost:8080/"
        },
        "id": "NAjQ_pImW6dX",
        "outputId": "be337143-816e-48c5-bb4d-583c24d01040"
      },
      "source": [
        "# split data to train and validation sets\n",
        "X_train3, X_val3, y_train3, y_val3 = train_test_split(X3, y, test_size=0.3, random_state=100)\n",
        "print(f'training data set size: {len(X_train3)}')\n",
        "print(f'validation data set size: {len(X_val3)}')"
      ],
      "execution_count": null,
      "outputs": [
        {
          "output_type": "stream",
          "name": "stdout",
          "text": [
            "training data set size: 467\n",
            "validation data set size: 201\n"
          ]
        }
      ]
    },
    {
      "cell_type": "markdown",
      "metadata": {
        "id": "HVyoUtRgXIId"
      },
      "source": [
        "### Build Model"
      ]
    },
    {
      "cell_type": "code",
      "metadata": {
        "colab": {
          "base_uri": "https://localhost:8080/"
        },
        "id": "z-N_SGGRXrTO",
        "outputId": "a69a0d42-2648-4d9f-a8f5-12021d764829"
      },
      "source": [
        "# define the keras model\n",
        "model3 = keras.Sequential()\n",
        "model3.add(layers.Dense(32, input_dim=8, activation='relu'))\n",
        "model3.add(layers.Dense(16, activation='relu'))\n",
        "model3.add(layers.Dense(8, activation='relu'))\n",
        "model3.add(layers.Dense(1, activation='sigmoid'))\n",
        "\n",
        "model3.summary()"
      ],
      "execution_count": null,
      "outputs": [
        {
          "output_type": "stream",
          "name": "stdout",
          "text": [
            "Model: \"sequential_2\"\n",
            "_________________________________________________________________\n",
            " Layer (type)                Output Shape              Param #   \n",
            "=================================================================\n",
            " dense_5 (Dense)             (None, 32)                288       \n",
            "                                                                 \n",
            " dense_6 (Dense)             (None, 16)                528       \n",
            "                                                                 \n",
            " dense_7 (Dense)             (None, 8)                 136       \n",
            "                                                                 \n",
            " dense_8 (Dense)             (None, 1)                 9         \n",
            "                                                                 \n",
            "=================================================================\n",
            "Total params: 961\n",
            "Trainable params: 961\n",
            "Non-trainable params: 0\n",
            "_________________________________________________________________\n"
          ]
        }
      ]
    },
    {
      "cell_type": "code",
      "metadata": {
        "id": "AtdUabBbaQTd",
        "colab": {
          "base_uri": "https://localhost:8080/"
        },
        "outputId": "764870bc-8fa8-4224-86d8-290c75c68259"
      },
      "source": [
        "# compile the keras model\n",
        "model3.compile(loss='binary_crossentropy', optimizer='adam', metrics=['accuracy'])\n",
        "\n",
        "# train model\n",
        "history = model3.fit(X_train3, y_train3, batch_size=50, epochs=60, validation_data=(X_val3, y_val3))"
      ],
      "execution_count": null,
      "outputs": [
        {
          "output_type": "stream",
          "name": "stdout",
          "text": [
            "Epoch 1/60\n",
            "10/10 [==============================] - 2s 36ms/step - loss: 2.8427 - accuracy: 0.3876 - val_loss: 0.8805 - val_accuracy: 0.5622\n",
            "Epoch 2/60\n",
            "10/10 [==============================] - 0s 9ms/step - loss: 0.8120 - accuracy: 0.5824 - val_loss: 0.6882 - val_accuracy: 0.6567\n",
            "Epoch 3/60\n",
            "10/10 [==============================] - 0s 9ms/step - loss: 0.6900 - accuracy: 0.6381 - val_loss: 0.6701 - val_accuracy: 0.6567\n",
            "Epoch 4/60\n",
            "10/10 [==============================] - 0s 11ms/step - loss: 0.6834 - accuracy: 0.6424 - val_loss: 0.6638 - val_accuracy: 0.6667\n",
            "Epoch 5/60\n",
            "10/10 [==============================] - 0s 10ms/step - loss: 0.6755 - accuracy: 0.6445 - val_loss: 0.6637 - val_accuracy: 0.6667\n",
            "Epoch 6/60\n",
            "10/10 [==============================] - 0s 11ms/step - loss: 0.6708 - accuracy: 0.6445 - val_loss: 0.6580 - val_accuracy: 0.6617\n",
            "Epoch 7/60\n",
            "10/10 [==============================] - 0s 9ms/step - loss: 0.6597 - accuracy: 0.6595 - val_loss: 0.6555 - val_accuracy: 0.6567\n",
            "Epoch 8/60\n",
            "10/10 [==============================] - 0s 9ms/step - loss: 0.6510 - accuracy: 0.6660 - val_loss: 0.6531 - val_accuracy: 0.6716\n",
            "Epoch 9/60\n",
            "10/10 [==============================] - 0s 10ms/step - loss: 0.6481 - accuracy: 0.6745 - val_loss: 0.6523 - val_accuracy: 0.6667\n",
            "Epoch 10/60\n",
            "10/10 [==============================] - 0s 11ms/step - loss: 0.6456 - accuracy: 0.6745 - val_loss: 0.6517 - val_accuracy: 0.6667\n",
            "Epoch 11/60\n",
            "10/10 [==============================] - 0s 10ms/step - loss: 0.6442 - accuracy: 0.6702 - val_loss: 0.6503 - val_accuracy: 0.6667\n",
            "Epoch 12/60\n",
            "10/10 [==============================] - 0s 10ms/step - loss: 0.6472 - accuracy: 0.6702 - val_loss: 0.6491 - val_accuracy: 0.6766\n",
            "Epoch 13/60\n",
            "10/10 [==============================] - 0s 9ms/step - loss: 0.6481 - accuracy: 0.6767 - val_loss: 0.6494 - val_accuracy: 0.6716\n",
            "Epoch 14/60\n",
            "10/10 [==============================] - 0s 9ms/step - loss: 0.6396 - accuracy: 0.6724 - val_loss: 0.6501 - val_accuracy: 0.6716\n",
            "Epoch 15/60\n",
            "10/10 [==============================] - 0s 9ms/step - loss: 0.6484 - accuracy: 0.6702 - val_loss: 0.6473 - val_accuracy: 0.6766\n",
            "Epoch 16/60\n",
            "10/10 [==============================] - 0s 9ms/step - loss: 0.6445 - accuracy: 0.6745 - val_loss: 0.6473 - val_accuracy: 0.6766\n",
            "Epoch 17/60\n",
            "10/10 [==============================] - 0s 11ms/step - loss: 0.6437 - accuracy: 0.6745 - val_loss: 0.6468 - val_accuracy: 0.6716\n",
            "Epoch 18/60\n",
            "10/10 [==============================] - 0s 9ms/step - loss: 0.6436 - accuracy: 0.6660 - val_loss: 0.6467 - val_accuracy: 0.6766\n",
            "Epoch 19/60\n",
            "10/10 [==============================] - 0s 9ms/step - loss: 0.6415 - accuracy: 0.6702 - val_loss: 0.6460 - val_accuracy: 0.6766\n",
            "Epoch 20/60\n",
            "10/10 [==============================] - 0s 10ms/step - loss: 0.6396 - accuracy: 0.6831 - val_loss: 0.6448 - val_accuracy: 0.6766\n",
            "Epoch 21/60\n",
            "10/10 [==============================] - 0s 9ms/step - loss: 0.6396 - accuracy: 0.6745 - val_loss: 0.6452 - val_accuracy: 0.6816\n",
            "Epoch 22/60\n",
            "10/10 [==============================] - 0s 9ms/step - loss: 0.6378 - accuracy: 0.6809 - val_loss: 0.6453 - val_accuracy: 0.6766\n",
            "Epoch 23/60\n",
            "10/10 [==============================] - 0s 9ms/step - loss: 0.6358 - accuracy: 0.6788 - val_loss: 0.6442 - val_accuracy: 0.6766\n",
            "Epoch 24/60\n",
            "10/10 [==============================] - 0s 9ms/step - loss: 0.6349 - accuracy: 0.6809 - val_loss: 0.6437 - val_accuracy: 0.6766\n",
            "Epoch 25/60\n",
            "10/10 [==============================] - 0s 9ms/step - loss: 0.6344 - accuracy: 0.6809 - val_loss: 0.6426 - val_accuracy: 0.6766\n",
            "Epoch 26/60\n",
            "10/10 [==============================] - 0s 9ms/step - loss: 0.6333 - accuracy: 0.6724 - val_loss: 0.6422 - val_accuracy: 0.6716\n",
            "Epoch 27/60\n",
            "10/10 [==============================] - 0s 11ms/step - loss: 0.6332 - accuracy: 0.6745 - val_loss: 0.6413 - val_accuracy: 0.6766\n",
            "Epoch 28/60\n",
            "10/10 [==============================] - 0s 11ms/step - loss: 0.6301 - accuracy: 0.6767 - val_loss: 0.6405 - val_accuracy: 0.6766\n",
            "Epoch 29/60\n",
            "10/10 [==============================] - 0s 9ms/step - loss: 0.6288 - accuracy: 0.6788 - val_loss: 0.6403 - val_accuracy: 0.6766\n",
            "Epoch 30/60\n",
            "10/10 [==============================] - 0s 10ms/step - loss: 0.6281 - accuracy: 0.6767 - val_loss: 0.6386 - val_accuracy: 0.6816\n",
            "Epoch 31/60\n",
            "10/10 [==============================] - 0s 10ms/step - loss: 0.6269 - accuracy: 0.6809 - val_loss: 0.6355 - val_accuracy: 0.6766\n",
            "Epoch 32/60\n",
            "10/10 [==============================] - 0s 9ms/step - loss: 0.6269 - accuracy: 0.6831 - val_loss: 0.6354 - val_accuracy: 0.6766\n",
            "Epoch 33/60\n",
            "10/10 [==============================] - 0s 10ms/step - loss: 0.6227 - accuracy: 0.6874 - val_loss: 0.6359 - val_accuracy: 0.6816\n",
            "Epoch 34/60\n",
            "10/10 [==============================] - 0s 8ms/step - loss: 0.6216 - accuracy: 0.6809 - val_loss: 0.6371 - val_accuracy: 0.6716\n",
            "Epoch 35/60\n",
            "10/10 [==============================] - 0s 6ms/step - loss: 0.6221 - accuracy: 0.6660 - val_loss: 0.6351 - val_accuracy: 0.6816\n",
            "Epoch 36/60\n",
            "10/10 [==============================] - 0s 6ms/step - loss: 0.6160 - accuracy: 0.6745 - val_loss: 0.6394 - val_accuracy: 0.6766\n",
            "Epoch 37/60\n",
            "10/10 [==============================] - 0s 8ms/step - loss: 0.6182 - accuracy: 0.6702 - val_loss: 0.6336 - val_accuracy: 0.6866\n",
            "Epoch 38/60\n",
            "10/10 [==============================] - 0s 8ms/step - loss: 0.6137 - accuracy: 0.6809 - val_loss: 0.6340 - val_accuracy: 0.6866\n",
            "Epoch 39/60\n",
            "10/10 [==============================] - 0s 8ms/step - loss: 0.6155 - accuracy: 0.6874 - val_loss: 0.6301 - val_accuracy: 0.6866\n",
            "Epoch 40/60\n",
            "10/10 [==============================] - 0s 9ms/step - loss: 0.6090 - accuracy: 0.6788 - val_loss: 0.6314 - val_accuracy: 0.6816\n",
            "Epoch 41/60\n",
            "10/10 [==============================] - 0s 8ms/step - loss: 0.6066 - accuracy: 0.6852 - val_loss: 0.6289 - val_accuracy: 0.6816\n",
            "Epoch 42/60\n",
            "10/10 [==============================] - 0s 7ms/step - loss: 0.6262 - accuracy: 0.6895 - val_loss: 0.6291 - val_accuracy: 0.6766\n",
            "Epoch 43/60\n",
            "10/10 [==============================] - 0s 6ms/step - loss: 0.6107 - accuracy: 0.6745 - val_loss: 0.6270 - val_accuracy: 0.6716\n",
            "Epoch 44/60\n",
            "10/10 [==============================] - 0s 6ms/step - loss: 0.6103 - accuracy: 0.6831 - val_loss: 0.6260 - val_accuracy: 0.6816\n",
            "Epoch 45/60\n",
            "10/10 [==============================] - 0s 9ms/step - loss: 0.6079 - accuracy: 0.6809 - val_loss: 0.6270 - val_accuracy: 0.6866\n",
            "Epoch 46/60\n",
            "10/10 [==============================] - 0s 7ms/step - loss: 0.6060 - accuracy: 0.6788 - val_loss: 0.6238 - val_accuracy: 0.6716\n",
            "Epoch 47/60\n",
            "10/10 [==============================] - 0s 6ms/step - loss: 0.6067 - accuracy: 0.6745 - val_loss: 0.6248 - val_accuracy: 0.6766\n",
            "Epoch 48/60\n",
            "10/10 [==============================] - 0s 6ms/step - loss: 0.6072 - accuracy: 0.6788 - val_loss: 0.6285 - val_accuracy: 0.6766\n",
            "Epoch 49/60\n",
            "10/10 [==============================] - 0s 7ms/step - loss: 0.6037 - accuracy: 0.6788 - val_loss: 0.6238 - val_accuracy: 0.6716\n",
            "Epoch 50/60\n",
            "10/10 [==============================] - 0s 8ms/step - loss: 0.6022 - accuracy: 0.6852 - val_loss: 0.6232 - val_accuracy: 0.6816\n",
            "Epoch 51/60\n",
            "10/10 [==============================] - 0s 6ms/step - loss: 0.6021 - accuracy: 0.6809 - val_loss: 0.6232 - val_accuracy: 0.6816\n",
            "Epoch 52/60\n",
            "10/10 [==============================] - 0s 6ms/step - loss: 0.6007 - accuracy: 0.6809 - val_loss: 0.6219 - val_accuracy: 0.6816\n",
            "Epoch 53/60\n",
            "10/10 [==============================] - 0s 8ms/step - loss: 0.6006 - accuracy: 0.6916 - val_loss: 0.6207 - val_accuracy: 0.6866\n",
            "Epoch 54/60\n",
            "10/10 [==============================] - 0s 6ms/step - loss: 0.6002 - accuracy: 0.6788 - val_loss: 0.6207 - val_accuracy: 0.6816\n",
            "Epoch 55/60\n",
            "10/10 [==============================] - 0s 6ms/step - loss: 0.6014 - accuracy: 0.6809 - val_loss: 0.6200 - val_accuracy: 0.6816\n",
            "Epoch 56/60\n",
            "10/10 [==============================] - 0s 8ms/step - loss: 0.5996 - accuracy: 0.6809 - val_loss: 0.6182 - val_accuracy: 0.6816\n",
            "Epoch 57/60\n",
            "10/10 [==============================] - 0s 8ms/step - loss: 0.5981 - accuracy: 0.6831 - val_loss: 0.6195 - val_accuracy: 0.6816\n",
            "Epoch 58/60\n",
            "10/10 [==============================] - 0s 6ms/step - loss: 0.6010 - accuracy: 0.6767 - val_loss: 0.6198 - val_accuracy: 0.6816\n",
            "Epoch 59/60\n",
            "10/10 [==============================] - 0s 8ms/step - loss: 0.6000 - accuracy: 0.6638 - val_loss: 0.6162 - val_accuracy: 0.6866\n",
            "Epoch 60/60\n",
            "10/10 [==============================] - 0s 6ms/step - loss: 0.5965 - accuracy: 0.6788 - val_loss: 0.6195 - val_accuracy: 0.6816\n"
          ]
        }
      ]
    },
    {
      "cell_type": "code",
      "source": [
        "# plot the history of the training\n",
        "\n",
        "# summarize the history for accuracy\n",
        "plt.plot(history.history['accuracy'])\n",
        "plt.plot(history.history['val_accuracy'])\n",
        "plt.title('model accuracy')\n",
        "plt.ylabel('accuracy')\n",
        "plt.xlabel('epoch')\n",
        "plt.legend(['train','test'], loc='upper left')\n",
        "plt.show()\n",
        "\n",
        "# summarize the history for loss\n",
        "plt.plot(history.history['loss'])\n",
        "plt.plot(history.history['val_loss'])\n",
        "plt.title('model loss')\n",
        "plt.ylabel('loss')\n",
        "plt.xlabel('epoch')\n",
        "plt.legend(['train','test'], loc='upper left')\n",
        "plt.show()"
      ],
      "metadata": {
        "colab": {
          "base_uri": "https://localhost:8080/",
          "height": 573
        },
        "id": "UjNlFJb9CccX",
        "outputId": "1955ea1d-e0d8-498e-dd87-6c948c881beb"
      },
      "execution_count": null,
      "outputs": [
        {
          "output_type": "display_data",
          "data": {
            "text/plain": [
              "<Figure size 432x288 with 1 Axes>"
            ],
            "image/png": "[encoded data removed]"
          },
          "metadata": {
            "needs_background": "light"
          }
        },
        {
          "output_type": "display_data",
          "data": {
            "text/plain": [
              "<Figure size 432x288 with 1 Axes>"
            ],
            "image/png": "[encoded data removed]"
          },
          "metadata": {
            "needs_background": "light"
          }
        }
      ]
    },
    {
      "cell_type": "markdown",
      "source": [
        "## Model Validation"
      ],
      "metadata": {
        "id": "6cprA50Gc1kn"
      }
    },
    {
      "cell_type": "code",
      "source": [
        "# get model predictions\n",
        "y_pred3 = model3.predict(X_val3)\n",
        "print(y_pred3[:5])"
      ],
      "metadata": {
        "colab": {
          "base_uri": "https://localhost:8080/"
        },
        "id": "GUix5UrVc_ad",
        "outputId": "25d9f2e4-27fe-4d87-db24-1e6ee23199c2"
      },
      "execution_count": null,
      "outputs": [
        {
          "output_type": "stream",
          "name": "stdout",
          "text": [
            "7/7 [==============================] - 0s 2ms/step\n",
            "[[0.2473242 ]\n",
            " [0.3157959 ]\n",
            " [0.4328227 ]\n",
            " [0.3124152 ]\n",
            " [0.47082695]]\n"
          ]
        }
      ]
    },
    {
      "cell_type": "code",
      "source": [
        "# convert to categorical predictions\n",
        "y_pred_categorical3 = [1 if pred > 0.5 else 0 for pred in y_pred3]\n",
        "print(y_pred_categorical3[:5])"
      ],
      "metadata": {
        "colab": {
          "base_uri": "https://localhost:8080/"
        },
        "id": "ysm4C6RZdWm0",
        "outputId": "9803040c-e87f-412b-e5b6-a5e6b1ac56bf"
      },
      "execution_count": null,
      "outputs": [
        {
          "output_type": "stream",
          "name": "stdout",
          "text": [
            "[0, 0, 0, 0, 0]\n"
          ]
        }
      ]
    },
    {
      "cell_type": "code",
      "source": [
        "# measure accuracy\n",
        "accuracy3 = metrics.accuracy_score(y_val3, y_pred_categorical3)\n",
        "print(f'Accuracy: {accuracy3}')"
      ],
      "metadata": {
        "colab": {
          "base_uri": "https://localhost:8080/"
        },
        "id": "oH4nHFIJdjgU",
        "outputId": "31cbf351-d782-49dc-a7dd-d74d31faa091"
      },
      "execution_count": null,
      "outputs": [
        {
          "output_type": "stream",
          "name": "stdout",
          "text": [
            "Accuracy: 0.681592039800995\n"
          ]
        }
      ]
    },
    {
      "cell_type": "markdown",
      "metadata": {
        "id": "aGKq3EwPZJC2"
      },
      "source": [
        "### Test Predictions"
      ]
    },
    {
      "cell_type": "code",
      "metadata": {
        "colab": {
          "base_uri": "https://localhost:8080/"
        },
        "id": "6eRBbWtaZVsn",
        "outputId": "b9bee3d3-7328-4496-dd9f-edddd945399b"
      },
      "source": [
        "# summarise the details\n",
        "print(f'Number of entries: {len(diabetes_test)}')\n",
        "\n",
        "X_test = diabetes_test.drop(['id'], axis=1)\n",
        "print(X_test.info())"
      ],
      "execution_count": null,
      "outputs": [
        {
          "output_type": "stream",
          "name": "stdout",
          "text": [
            "Number of entries: 100\n",
            "<class 'pandas.core.frame.DataFrame'>\n",
            "RangeIndex: 100 entries, 0 to 99\n",
            "Data columns (total 8 columns):\n",
            " #   Column  Non-Null Count  Dtype  \n",
            "---  ------  --------------  -----  \n",
            " 0   A1      100 non-null    int64  \n",
            " 1   A2      100 non-null    int64  \n",
            " 2   A3      100 non-null    int64  \n",
            " 3   A4      100 non-null    int64  \n",
            " 4   A5      100 non-null    int64  \n",
            " 5   A6      100 non-null    float64\n",
            " 6   A7      100 non-null    float64\n",
            " 7   A8      100 non-null    int64  \n",
            "dtypes: float64(2), int64(6)\n",
            "memory usage: 6.4 KB\n",
            "None\n"
          ]
        }
      ]
    },
    {
      "cell_type": "code",
      "source": [
        "X_test3 = X_test.iloc[:, 0:8]\n",
        "X_test3.head()"
      ],
      "metadata": {
        "colab": {
          "base_uri": "https://localhost:8080/",
          "height": 206
        },
        "id": "mCUaeRLGa3GW",
        "outputId": "bad7dad3-7f0a-4ae5-af27-1662a3baf484"
      },
      "execution_count": null,
      "outputs": [
        {
          "output_type": "execute_result",
          "data": {
            "text/plain": [
              "   A1   A2   A3  A4   A5    A6     A7  A8\n",
              "0   6   98   58  33  190  34.0  0.430  43\n",
              "1   9  154   78  30  100  30.9  0.164  45\n",
              "2   6  165   68  26  168  33.6  0.631  49\n",
              "3   1   99   58  10    0  25.4  0.551  21\n",
              "4  10   68  106  23   49  35.5  0.285  47"
            ],
            "text/html": [
              "\n",
              "  <div id=\"df-878cff19-5669-4d1f-94fc-ab68d761cd70\">\n",
              "    <div class=\"colab-df-container\">\n",
              "      <div>\n",
              "<style scoped>\n",
              "    .dataframe tbody tr th:only-of-type {\n",
              "        vertical-align: middle;\n",
              "    }\n",
              "\n",
              "    .dataframe tbody tr th {\n",
              "        vertical-align: top;\n",
              "    }\n",
              "\n",
              "    .dataframe thead th {\n",
              "        text-align: right;\n",
              "    }\n",
              "</style>\n",
              "<table border=\"1\" class=\"dataframe\">\n",
              "  <thead>\n",
              "    <tr style=\"text-align: right;\">\n",
              "      <th></th>\n",
              "      <th>A1</th>\n",
              "      <th>A2</th>\n",
              "      <th>A3</th>\n",
              "      <th>A4</th>\n",
              "      <th>A5</th>\n",
              "      <th>A6</th>\n",
              "      <th>A7</th>\n",
              "      <th>A8</th>\n",
              "    </tr>\n",
              "  </thead>\n",
              "  <tbody>\n",
              "    <tr>\n",
              "      <th>0</th>\n",
              "      <td>6</td>\n",
              "      <td>98</td>\n",
              "      <td>58</td>\n",
              "      <td>33</td>\n",
              "      <td>190</td>\n",
              "      <td>34.0</td>\n",
              "      <td>0.430</td>\n",
              "      <td>43</td>\n",
              "    </tr>\n",
              "    <tr>\n",
              "      <th>1</th>\n",
              "      <td>9</td>\n",
              "      <td>154</td>\n",
              "      <td>78</td>\n",
              "      <td>30</td>\n",
              "      <td>100</td>\n",
              "      <td>30.9</td>\n",
              "      <td>0.164</td>\n",
              "      <td>45</td>\n",
              "    </tr>\n",
              "    <tr>\n",
              "      <th>2</th>\n",
              "      <td>6</td>\n",
              "      <td>165</td>\n",
              "      <td>68</td>\n",
              "      <td>26</td>\n",
              "      <td>168</td>\n",
              "      <td>33.6</td>\n",
              "      <td>0.631</td>\n",
              "      <td>49</td>\n",
              "    </tr>\n",
              "    <tr>\n",
              "      <th>3</th>\n",
              "      <td>1</td>\n",
              "      <td>99</td>\n",
              "      <td>58</td>\n",
              "      <td>10</td>\n",
              "      <td>0</td>\n",
              "      <td>25.4</td>\n",
              "      <td>0.551</td>\n",
              "      <td>21</td>\n",
              "    </tr>\n",
              "    <tr>\n",
              "      <th>4</th>\n",
              "      <td>10</td>\n",
              "      <td>68</td>\n",
              "      <td>106</td>\n",
              "      <td>23</td>\n",
              "      <td>49</td>\n",
              "      <td>35.5</td>\n",
              "      <td>0.285</td>\n",
              "      <td>47</td>\n",
              "    </tr>\n",
              "  </tbody>\n",
              "</table>\n",
              "</div>\n",
              "      <button class=\"colab-df-convert\" onclick=\"convertToInteractive('df-878cff19-5669-4d1f-94fc-ab68d761cd70')\"\n",
              "              title=\"Convert this dataframe to an interactive table.\"\n",
              "              style=\"display:none;\">\n",
              "        \n",
              "  <svg xmlns=\"http://www.w3.org/2000/svg\" height=\"24px\"viewBox=\"0 0 24 24\"\n",
              "       width=\"24px\">\n",
              "    <path d=\"M0 0h24v24H0V0z\" fill=\"none\"/>\n",
              "    <path d=\"M18.56 5.44l.94 2.06.94-2.06 2.06-.94-2.06-.94-.94-2.06-.94 2.06-2.06.94zm-11 1L8.5 8.5l.94-2.06 2.06-.94-2.06-.94L8.5 2.5l-.94 2.06-2.06.94zm10 10l.94 2.06.94-2.06 2.06-.94-2.06-.94-.94-2.06-.94 2.06-2.06.94z\"/><path d=\"M17.41 7.96l-1.37-1.37c-.4-.4-.92-.59-1.43-.59-.52 0-1.04.2-1.43.59L10.3 9.45l-7.72 7.72c-.78.78-.78 2.05 0 2.83L4 21.41c.39.39.9.59 1.41.59.51 0 1.02-.2 1.41-.59l7.78-7.78 2.81-2.81c.8-.78.8-2.07 0-2.86zM5.41 20L4 18.59l7.72-7.72 1.47 1.35L5.41 20z\"/>\n",
              "  </svg>\n",
              "      </button>\n",
              "      \n",
              "  <style>\n",
              "    .colab-df-container {\n",
              "      display:flex;\n",
              "      flex-wrap:wrap;\n",
              "      gap: 12px;\n",
              "    }\n",
              "\n",
              "    .colab-df-convert {\n",
              "      background-color: #E8F0FE;\n",
              "      border: none;\n",
              "      border-radius: 50%;\n",
              "      cursor: pointer;\n",
              "      display: none;\n",
              "      fill: #1967D2;\n",
              "      height: 32px;\n",
              "      padding: 0 0 0 0;\n",
              "      width: 32px;\n",
              "    }\n",
              "\n",
              "    .colab-df-convert:hover {\n",
              "      background-color: #E2EBFA;\n",
              "      box-shadow: 0px 1px 2px rgba(60, 64, 67, 0.3), 0px 1px 3px 1px rgba(60, 64, 67, 0.15);\n",
              "      fill: #174EA6;\n",
              "    }\n",
              "\n",
              "    [theme=dark] .colab-df-convert {\n",
              "      background-color: #3B4455;\n",
              "      fill: #D2E3FC;\n",
              "    }\n",
              "\n",
              "    [theme=dark] .colab-df-convert:hover {\n",
              "      background-color: #434B5C;\n",
              "      box-shadow: 0px 1px 3px 1px rgba(0, 0, 0, 0.15);\n",
              "      filter: drop-shadow(0px 1px 2px rgba(0, 0, 0, 0.3));\n",
              "      fill: #FFFFFF;\n",
              "    }\n",
              "  </style>\n",
              "\n",
              "      <script>\n",
              "        const buttonEl =\n",
              "          document.querySelector('#df-878cff19-5669-4d1f-94fc-ab68d761cd70 button.colab-df-convert');\n",
              "        buttonEl.style.display =\n",
              "          google.colab.kernel.accessAllowed ? 'block' : 'none';\n",
              "\n",
              "        async function convertToInteractive(key) {\n",
              "          const element = document.querySelector('#df-878cff19-5669-4d1f-94fc-ab68d761cd70');\n",
              "          const dataTable =\n",
              "            await google.colab.kernel.invokeFunction('convertToInteractive',\n",
              "                                                     [key], {});\n",
              "          if (!dataTable) return;\n",
              "\n",
              "          const docLinkHtml = 'Like what you see? Visit the ' +\n",
              "            '<a target=\"_blank\" href=https://colab.research.google.com/notebooks/data_table.ipynb>data table notebook</a>'\n",
              "            + ' to learn more about interactive tables.';\n",
              "          element.innerHTML = '';\n",
              "          dataTable['output_type'] = 'display_data';\n",
              "          await google.colab.output.renderOutput(dataTable, element);\n",
              "          const docLink = document.createElement('div');\n",
              "          docLink.innerHTML = docLinkHtml;\n",
              "          element.appendChild(docLink);\n",
              "        }\n",
              "      </script>\n",
              "    </div>\n",
              "  </div>\n",
              "  "
            ]
          },
          "metadata": {},
          "execution_count": 43
        }
      ]
    },
    {
      "cell_type": "code",
      "metadata": {
        "colab": {
          "base_uri": "https://localhost:8080/"
        },
        "id": "Fz0mBIJ3Zd7Y",
        "outputId": "4785773d-b01d-4c2b-e168-b36a346e9095"
      },
      "source": [
        "test_pred3 = model3.predict(X_test)\n",
        "print(test_pred3[:5])\n",
        "\n",
        "test_pred_categorical3 = [1 if pred > 0.5 else 0 for pred in test_pred3]\n",
        "print(test_pred_categorical3[:5])"
      ],
      "execution_count": null,
      "outputs": [
        {
          "output_type": "stream",
          "name": "stdout",
          "text": [
            "4/4 [==============================] - 0s 3ms/step\n",
            "[[0.47082695]\n",
            " [0.29233196]\n",
            " [0.43576875]\n",
            " [0.36172488]\n",
            " [0.13189626]]\n",
            "[0, 0, 0, 0, 0]\n"
          ]
        }
      ]
    },
    {
      "cell_type": "markdown",
      "source": [
        "## M4\n",
        "\n",
        "## M4 Params\n",
        "\n",
        "No of features = all\n",
        "\n",
        "No of hidden layers = 5\n",
        "\n",
        "Classification type = Binary class\n",
        "\n",
        "Activations: relu, relu, relu, sigmoid"
      ],
      "metadata": {
        "id": "rY4_HfDjhALC"
      }
    },
    {
      "cell_type": "markdown",
      "source": [
        "Let's build another model with the 8 features but with more hidden layers"
      ],
      "metadata": {
        "id": "5Yorxkyzh2wU"
      }
    },
    {
      "cell_type": "code",
      "source": [
        "X4 = X.iloc[:, 0:8]\n",
        "X4.head()"
      ],
      "metadata": {
        "colab": {
          "base_uri": "https://localhost:8080/",
          "height": 206
        },
        "id": "SxHPIMUsh0_L",
        "outputId": "ff1b97a7-9f06-4f36-e91f-041497e1c691"
      },
      "execution_count": null,
      "outputs": [
        {
          "output_type": "execute_result",
          "data": {
            "text/plain": [
              "   A1   A2  A3  A4   A5    A6     A7  A8\n",
              "0   6  148  72  35    0  33.6  0.627  50\n",
              "1   1   85  66  29    0  26.6  0.351  31\n",
              "2   8  183  64   0    0  23.3  0.672  32\n",
              "3   1   89  66  23   94  28.1  0.167  21\n",
              "4   0  137  40  35  168  43.1  2.288  33"
            ],
            "text/html": [
              "\n",
              "  <div id=\"df-f19f78e7-2b1b-44ab-ad1b-961c143bbe9b\">\n",
              "    <div class=\"colab-df-container\">\n",
              "      <div>\n",
              "<style scoped>\n",
              "    .dataframe tbody tr th:only-of-type {\n",
              "        vertical-align: middle;\n",
              "    }\n",
              "\n",
              "    .dataframe tbody tr th {\n",
              "        vertical-align: top;\n",
              "    }\n",
              "\n",
              "    .dataframe thead th {\n",
              "        text-align: right;\n",
              "    }\n",
              "</style>\n",
              "<table border=\"1\" class=\"dataframe\">\n",
              "  <thead>\n",
              "    <tr style=\"text-align: right;\">\n",
              "      <th></th>\n",
              "      <th>A1</th>\n",
              "      <th>A2</th>\n",
              "      <th>A3</th>\n",
              "      <th>A4</th>\n",
              "      <th>A5</th>\n",
              "      <th>A6</th>\n",
              "      <th>A7</th>\n",
              "      <th>A8</th>\n",
              "    </tr>\n",
              "  </thead>\n",
              "  <tbody>\n",
              "    <tr>\n",
              "      <th>0</th>\n",
              "      <td>6</td>\n",
              "      <td>148</td>\n",
              "      <td>72</td>\n",
              "      <td>35</td>\n",
              "      <td>0</td>\n",
              "      <td>33.6</td>\n",
              "      <td>0.627</td>\n",
              "      <td>50</td>\n",
              "    </tr>\n",
              "    <tr>\n",
              "      <th>1</th>\n",
              "      <td>1</td>\n",
              "      <td>85</td>\n",
              "      <td>66</td>\n",
              "      <td>29</td>\n",
              "      <td>0</td>\n",
              "      <td>26.6</td>\n",
              "      <td>0.351</td>\n",
              "      <td>31</td>\n",
              "    </tr>\n",
              "    <tr>\n",
              "      <th>2</th>\n",
              "      <td>8</td>\n",
              "      <td>183</td>\n",
              "      <td>64</td>\n",
              "      <td>0</td>\n",
              "      <td>0</td>\n",
              "      <td>23.3</td>\n",
              "      <td>0.672</td>\n",
              "      <td>32</td>\n",
              "    </tr>\n",
              "    <tr>\n",
              "      <th>3</th>\n",
              "      <td>1</td>\n",
              "      <td>89</td>\n",
              "      <td>66</td>\n",
              "      <td>23</td>\n",
              "      <td>94</td>\n",
              "      <td>28.1</td>\n",
              "      <td>0.167</td>\n",
              "      <td>21</td>\n",
              "    </tr>\n",
              "    <tr>\n",
              "      <th>4</th>\n",
              "      <td>0</td>\n",
              "      <td>137</td>\n",
              "      <td>40</td>\n",
              "      <td>35</td>\n",
              "      <td>168</td>\n",
              "      <td>43.1</td>\n",
              "      <td>2.288</td>\n",
              "      <td>33</td>\n",
              "    </tr>\n",
              "  </tbody>\n",
              "</table>\n",
              "</div>\n",
              "      <button class=\"colab-df-convert\" onclick=\"convertToInteractive('df-f19f78e7-2b1b-44ab-ad1b-961c143bbe9b')\"\n",
              "              title=\"Convert this dataframe to an interactive table.\"\n",
              "              style=\"display:none;\">\n",
              "        \n",
              "  <svg xmlns=\"http://www.w3.org/2000/svg\" height=\"24px\"viewBox=\"0 0 24 24\"\n",
              "       width=\"24px\">\n",
              "    <path d=\"M0 0h24v24H0V0z\" fill=\"none\"/>\n",
              "    <path d=\"M18.56 5.44l.94 2.06.94-2.06 2.06-.94-2.06-.94-.94-2.06-.94 2.06-2.06.94zm-11 1L8.5 8.5l.94-2.06 2.06-.94-2.06-.94L8.5 2.5l-.94 2.06-2.06.94zm10 10l.94 2.06.94-2.06 2.06-.94-2.06-.94-.94-2.06-.94 2.06-2.06.94z\"/><path d=\"M17.41 7.96l-1.37-1.37c-.4-.4-.92-.59-1.43-.59-.52 0-1.04.2-1.43.59L10.3 9.45l-7.72 7.72c-.78.78-.78 2.05 0 2.83L4 21.41c.39.39.9.59 1.41.59.51 0 1.02-.2 1.41-.59l7.78-7.78 2.81-2.81c.8-.78.8-2.07 0-2.86zM5.41 20L4 18.59l7.72-7.72 1.47 1.35L5.41 20z\"/>\n",
              "  </svg>\n",
              "      </button>\n",
              "      \n",
              "  <style>\n",
              "    .colab-df-container {\n",
              "      display:flex;\n",
              "      flex-wrap:wrap;\n",
              "      gap: 12px;\n",
              "    }\n",
              "\n",
              "    .colab-df-convert {\n",
              "      background-color: #E8F0FE;\n",
              "      border: none;\n",
              "      border-radius: 50%;\n",
              "      cursor: pointer;\n",
              "      display: none;\n",
              "      fill: #1967D2;\n",
              "      height: 32px;\n",
              "      padding: 0 0 0 0;\n",
              "      width: 32px;\n",
              "    }\n",
              "\n",
              "    .colab-df-convert:hover {\n",
              "      background-color: #E2EBFA;\n",
              "      box-shadow: 0px 1px 2px rgba(60, 64, 67, 0.3), 0px 1px 3px 1px rgba(60, 64, 67, 0.15);\n",
              "      fill: #174EA6;\n",
              "    }\n",
              "\n",
              "    [theme=dark] .colab-df-convert {\n",
              "      background-color: #3B4455;\n",
              "      fill: #D2E3FC;\n",
              "    }\n",
              "\n",
              "    [theme=dark] .colab-df-convert:hover {\n",
              "      background-color: #434B5C;\n",
              "      box-shadow: 0px 1px 3px 1px rgba(0, 0, 0, 0.15);\n",
              "      filter: drop-shadow(0px 1px 2px rgba(0, 0, 0, 0.3));\n",
              "      fill: #FFFFFF;\n",
              "    }\n",
              "  </style>\n",
              "\n",
              "      <script>\n",
              "        const buttonEl =\n",
              "          document.querySelector('#df-f19f78e7-2b1b-44ab-ad1b-961c143bbe9b button.colab-df-convert');\n",
              "        buttonEl.style.display =\n",
              "          google.colab.kernel.accessAllowed ? 'block' : 'none';\n",
              "\n",
              "        async function convertToInteractive(key) {\n",
              "          const element = document.querySelector('#df-f19f78e7-2b1b-44ab-ad1b-961c143bbe9b');\n",
              "          const dataTable =\n",
              "            await google.colab.kernel.invokeFunction('convertToInteractive',\n",
              "                                                     [key], {});\n",
              "          if (!dataTable) return;\n",
              "\n",
              "          const docLinkHtml = 'Like what you see? Visit the ' +\n",
              "            '<a target=\"_blank\" href=https://colab.research.google.com/notebooks/data_table.ipynb>data table notebook</a>'\n",
              "            + ' to learn more about interactive tables.';\n",
              "          element.innerHTML = '';\n",
              "          dataTable['output_type'] = 'display_data';\n",
              "          await google.colab.output.renderOutput(dataTable, element);\n",
              "          const docLink = document.createElement('div');\n",
              "          docLink.innerHTML = docLinkHtml;\n",
              "          element.appendChild(docLink);\n",
              "        }\n",
              "      </script>\n",
              "    </div>\n",
              "  </div>\n",
              "  "
            ]
          },
          "metadata": {},
          "execution_count": 45
        }
      ]
    },
    {
      "cell_type": "markdown",
      "source": [
        "Training and splitting data"
      ],
      "metadata": {
        "id": "s_I7CVl4kdeO"
      }
    },
    {
      "cell_type": "code",
      "source": [
        "# split data to train and validation sets\n",
        "X_train4, X_val4, y_train4, y_val4 = train_test_split(X4, y, test_size=0.3, random_state=100)\n",
        "print(f'training data set size: {len(X_train4)}')\n",
        "print(f'validation data set size: {len(X_val4)}')"
      ],
      "metadata": {
        "colab": {
          "base_uri": "https://localhost:8080/"
        },
        "id": "LhhaK7pviBx1",
        "outputId": "9d9f7fd5-11d7-4a31-fa69-a247b23a3edc"
      },
      "execution_count": null,
      "outputs": [
        {
          "output_type": "stream",
          "name": "stdout",
          "text": [
            "training data set size: 467\n",
            "validation data set size: 201\n"
          ]
        }
      ]
    },
    {
      "cell_type": "markdown",
      "source": [
        "Building model 4"
      ],
      "metadata": {
        "id": "pXHG4zTokibt"
      }
    },
    {
      "cell_type": "code",
      "source": [
        "# define the keras model\n",
        "model4 = keras.Sequential()\n",
        "model4.add(layers.Dense(64, input_dim=8, activation='relu'))\n",
        "model4.add(layers.Dense(32, activation='relu'))\n",
        "model4.add(layers.Dense(16, activation='relu'))\n",
        "model4.add(layers.Dense(8, activation='relu'))\n",
        "model4.add(layers.Dense(4, activation='relu'))\n",
        "model4.add(layers.Dense(1, activation='sigmoid'))\n",
        "\n",
        "model4.summary()"
      ],
      "metadata": {
        "colab": {
          "base_uri": "https://localhost:8080/"
        },
        "id": "lunMy6vYie8w",
        "outputId": "38f2ebca-1543-4a86-a5aa-c1a2dc797dfe"
      },
      "execution_count": null,
      "outputs": [
        {
          "output_type": "stream",
          "name": "stdout",
          "text": [
            "Model: \"sequential_3\"\n",
            "_________________________________________________________________\n",
            " Layer (type)                Output Shape              Param #   \n",
            "=================================================================\n",
            " dense_9 (Dense)             (None, 64)                576       \n",
            "                                                                 \n",
            " dense_10 (Dense)            (None, 32)                2080      \n",
            "                                                                 \n",
            " dense_11 (Dense)            (None, 16)                528       \n",
            "                                                                 \n",
            " dense_12 (Dense)            (None, 8)                 136       \n",
            "                                                                 \n",
            " dense_13 (Dense)            (None, 4)                 36        \n",
            "                                                                 \n",
            " dense_14 (Dense)            (None, 1)                 5         \n",
            "                                                                 \n",
            "=================================================================\n",
            "Total params: 3,361\n",
            "Trainable params: 3,361\n",
            "Non-trainable params: 0\n",
            "_________________________________________________________________\n"
          ]
        }
      ]
    },
    {
      "cell_type": "code",
      "source": [
        "# compile the keras model\n",
        "model4.compile(loss='binary_crossentropy', optimizer='adam', metrics=['accuracy'])\n",
        "\n",
        "# train model\n",
        "history = model4.fit(X_train4, y_train4, batch_size=50, epochs=60, validation_data=(X_val4, y_val4))"
      ],
      "metadata": {
        "colab": {
          "base_uri": "https://localhost:8080/"
        },
        "id": "PmKYwU7yijdh",
        "outputId": "b6e9eb66-c5b1-4a40-f244-ace8d5862ff8"
      },
      "execution_count": null,
      "outputs": [
        {
          "output_type": "stream",
          "name": "stdout",
          "text": [
            "Epoch 1/60\n",
            "10/10 [==============================] - 2s 28ms/step - loss: 0.8283 - accuracy: 0.4839 - val_loss: 0.8135 - val_accuracy: 0.5423\n",
            "Epoch 2/60\n",
            "10/10 [==============================] - 0s 6ms/step - loss: 0.7122 - accuracy: 0.6403 - val_loss: 0.6485 - val_accuracy: 0.6468\n",
            "Epoch 3/60\n",
            "10/10 [==============================] - 0s 9ms/step - loss: 0.6829 - accuracy: 0.5846 - val_loss: 0.6565 - val_accuracy: 0.6269\n",
            "Epoch 4/60\n",
            "10/10 [==============================] - 0s 7ms/step - loss: 0.6350 - accuracy: 0.6338 - val_loss: 0.6168 - val_accuracy: 0.6866\n",
            "Epoch 5/60\n",
            "10/10 [==============================] - 0s 6ms/step - loss: 0.6161 - accuracy: 0.6574 - val_loss: 0.6053 - val_accuracy: 0.7164\n",
            "Epoch 6/60\n",
            "10/10 [==============================] - 0s 8ms/step - loss: 0.6340 - accuracy: 0.6852 - val_loss: 0.6629 - val_accuracy: 0.6517\n",
            "Epoch 7/60\n",
            "10/10 [==============================] - 0s 11ms/step - loss: 0.6170 - accuracy: 0.6531 - val_loss: 0.6072 - val_accuracy: 0.6716\n",
            "Epoch 8/60\n",
            "10/10 [==============================] - 0s 11ms/step - loss: 0.6033 - accuracy: 0.6617 - val_loss: 0.6047 - val_accuracy: 0.6766\n",
            "Epoch 9/60\n",
            "10/10 [==============================] - 0s 12ms/step - loss: 0.5931 - accuracy: 0.6831 - val_loss: 0.5851 - val_accuracy: 0.6617\n",
            "Epoch 10/60\n",
            "10/10 [==============================] - 0s 10ms/step - loss: 0.5852 - accuracy: 0.6874 - val_loss: 0.6220 - val_accuracy: 0.6716\n",
            "Epoch 11/60\n",
            "10/10 [==============================] - 0s 10ms/step - loss: 0.5895 - accuracy: 0.6852 - val_loss: 0.5842 - val_accuracy: 0.6667\n",
            "Epoch 12/60\n",
            "10/10 [==============================] - 0s 9ms/step - loss: 0.5954 - accuracy: 0.6788 - val_loss: 0.6111 - val_accuracy: 0.6766\n",
            "Epoch 13/60\n",
            "10/10 [==============================] - 0s 13ms/step - loss: 0.5825 - accuracy: 0.6916 - val_loss: 0.5954 - val_accuracy: 0.6716\n",
            "Epoch 14/60\n",
            "10/10 [==============================] - 0s 9ms/step - loss: 0.5954 - accuracy: 0.6916 - val_loss: 0.5864 - val_accuracy: 0.7015\n",
            "Epoch 15/60\n",
            "10/10 [==============================] - 0s 10ms/step - loss: 0.5831 - accuracy: 0.6916 - val_loss: 0.5778 - val_accuracy: 0.6816\n",
            "Epoch 16/60\n",
            "10/10 [==============================] - 0s 11ms/step - loss: 0.5736 - accuracy: 0.6895 - val_loss: 0.5955 - val_accuracy: 0.6915\n",
            "Epoch 17/60\n",
            "10/10 [==============================] - 0s 10ms/step - loss: 0.5649 - accuracy: 0.6831 - val_loss: 0.5705 - val_accuracy: 0.6816\n",
            "Epoch 18/60\n",
            "10/10 [==============================] - 0s 12ms/step - loss: 0.5622 - accuracy: 0.6959 - val_loss: 0.5724 - val_accuracy: 0.6816\n",
            "Epoch 19/60\n",
            "10/10 [==============================] - 0s 10ms/step - loss: 0.5634 - accuracy: 0.6938 - val_loss: 0.5750 - val_accuracy: 0.6816\n",
            "Epoch 20/60\n",
            "10/10 [==============================] - 0s 10ms/step - loss: 0.5583 - accuracy: 0.7024 - val_loss: 0.5810 - val_accuracy: 0.6667\n",
            "Epoch 21/60\n",
            "10/10 [==============================] - 0s 11ms/step - loss: 0.5623 - accuracy: 0.7173 - val_loss: 0.5691 - val_accuracy: 0.6816\n",
            "Epoch 22/60\n",
            "10/10 [==============================] - 0s 10ms/step - loss: 0.5615 - accuracy: 0.7024 - val_loss: 0.5908 - val_accuracy: 0.6667\n",
            "Epoch 23/60\n",
            "10/10 [==============================] - 0s 13ms/step - loss: 0.6136 - accuracy: 0.6724 - val_loss: 0.6664 - val_accuracy: 0.6418\n",
            "Epoch 24/60\n",
            "10/10 [==============================] - 0s 11ms/step - loss: 0.6099 - accuracy: 0.6981 - val_loss: 0.5937 - val_accuracy: 0.7214\n",
            "Epoch 25/60\n",
            "10/10 [==============================] - 0s 10ms/step - loss: 0.5837 - accuracy: 0.7131 - val_loss: 0.5967 - val_accuracy: 0.6766\n",
            "Epoch 26/60\n",
            "10/10 [==============================] - 0s 10ms/step - loss: 0.5681 - accuracy: 0.7002 - val_loss: 0.5729 - val_accuracy: 0.6667\n",
            "Epoch 27/60\n",
            "10/10 [==============================] - 0s 11ms/step - loss: 0.5584 - accuracy: 0.7088 - val_loss: 0.5717 - val_accuracy: 0.6716\n",
            "Epoch 28/60\n",
            "10/10 [==============================] - 0s 10ms/step - loss: 0.5533 - accuracy: 0.7109 - val_loss: 0.5939 - val_accuracy: 0.6617\n",
            "Epoch 29/60\n",
            "10/10 [==============================] - 0s 10ms/step - loss: 0.5537 - accuracy: 0.7045 - val_loss: 0.5797 - val_accuracy: 0.6617\n",
            "Epoch 30/60\n",
            "10/10 [==============================] - 0s 11ms/step - loss: 0.5501 - accuracy: 0.6959 - val_loss: 0.5892 - val_accuracy: 0.6766\n",
            "Epoch 31/60\n",
            "10/10 [==============================] - 0s 9ms/step - loss: 0.5688 - accuracy: 0.7088 - val_loss: 0.5735 - val_accuracy: 0.6965\n",
            "Epoch 32/60\n",
            "10/10 [==============================] - 0s 9ms/step - loss: 0.5572 - accuracy: 0.7088 - val_loss: 0.5762 - val_accuracy: 0.6866\n",
            "Epoch 33/60\n",
            "10/10 [==============================] - 0s 11ms/step - loss: 0.5418 - accuracy: 0.7024 - val_loss: 0.5776 - val_accuracy: 0.7015\n",
            "Epoch 34/60\n",
            "10/10 [==============================] - 0s 9ms/step - loss: 0.5456 - accuracy: 0.7066 - val_loss: 0.5653 - val_accuracy: 0.6965\n",
            "Epoch 35/60\n",
            "10/10 [==============================] - 0s 11ms/step - loss: 0.5464 - accuracy: 0.7088 - val_loss: 0.5724 - val_accuracy: 0.6866\n",
            "Epoch 36/60\n",
            "10/10 [==============================] - 0s 10ms/step - loss: 0.5470 - accuracy: 0.7045 - val_loss: 0.5957 - val_accuracy: 0.6716\n",
            "Epoch 37/60\n",
            "10/10 [==============================] - 0s 11ms/step - loss: 0.5510 - accuracy: 0.7152 - val_loss: 0.5736 - val_accuracy: 0.6816\n",
            "Epoch 38/60\n",
            "10/10 [==============================] - 0s 11ms/step - loss: 0.5401 - accuracy: 0.7109 - val_loss: 0.5700 - val_accuracy: 0.6866\n",
            "Epoch 39/60\n",
            "10/10 [==============================] - 0s 10ms/step - loss: 0.5366 - accuracy: 0.7281 - val_loss: 0.5681 - val_accuracy: 0.7065\n",
            "Epoch 40/60\n",
            "10/10 [==============================] - 0s 9ms/step - loss: 0.5441 - accuracy: 0.7045 - val_loss: 0.5666 - val_accuracy: 0.7114\n",
            "Epoch 41/60\n",
            "10/10 [==============================] - 0s 11ms/step - loss: 0.5370 - accuracy: 0.7045 - val_loss: 0.5785 - val_accuracy: 0.7114\n",
            "Epoch 42/60\n",
            "10/10 [==============================] - 0s 10ms/step - loss: 0.5565 - accuracy: 0.7109 - val_loss: 0.5803 - val_accuracy: 0.6866\n",
            "Epoch 43/60\n",
            "10/10 [==============================] - 0s 10ms/step - loss: 0.5757 - accuracy: 0.6895 - val_loss: 0.6036 - val_accuracy: 0.6716\n",
            "Epoch 44/60\n",
            "10/10 [==============================] - 0s 12ms/step - loss: 0.5607 - accuracy: 0.7088 - val_loss: 0.5772 - val_accuracy: 0.7015\n",
            "Epoch 45/60\n",
            "10/10 [==============================] - 0s 10ms/step - loss: 0.5616 - accuracy: 0.7195 - val_loss: 0.5743 - val_accuracy: 0.6915\n",
            "Epoch 46/60\n",
            "10/10 [==============================] - 0s 10ms/step - loss: 0.5439 - accuracy: 0.7109 - val_loss: 0.6480 - val_accuracy: 0.6567\n",
            "Epoch 47/60\n",
            "10/10 [==============================] - 0s 10ms/step - loss: 0.5504 - accuracy: 0.7173 - val_loss: 0.5719 - val_accuracy: 0.6866\n",
            "Epoch 48/60\n",
            "10/10 [==============================] - 0s 9ms/step - loss: 0.5590 - accuracy: 0.7452 - val_loss: 0.5687 - val_accuracy: 0.7015\n",
            "Epoch 49/60\n",
            "10/10 [==============================] - 0s 8ms/step - loss: 0.5518 - accuracy: 0.6852 - val_loss: 0.6066 - val_accuracy: 0.6915\n",
            "Epoch 50/60\n",
            "10/10 [==============================] - 0s 8ms/step - loss: 0.5254 - accuracy: 0.7666 - val_loss: 0.5545 - val_accuracy: 0.7363\n",
            "Epoch 51/60\n",
            "10/10 [==============================] - 0s 8ms/step - loss: 0.5218 - accuracy: 0.7281 - val_loss: 0.5595 - val_accuracy: 0.6866\n",
            "Epoch 52/60\n",
            "10/10 [==============================] - 0s 8ms/step - loss: 0.5188 - accuracy: 0.7516 - val_loss: 0.5650 - val_accuracy: 0.6915\n",
            "Epoch 53/60\n",
            "10/10 [==============================] - 0s 7ms/step - loss: 0.5566 - accuracy: 0.7109 - val_loss: 0.5958 - val_accuracy: 0.6816\n",
            "Epoch 54/60\n",
            "10/10 [==============================] - 0s 9ms/step - loss: 0.5440 - accuracy: 0.7131 - val_loss: 0.5726 - val_accuracy: 0.6965\n",
            "Epoch 55/60\n",
            "10/10 [==============================] - 0s 8ms/step - loss: 0.5277 - accuracy: 0.7495 - val_loss: 0.5605 - val_accuracy: 0.7363\n",
            "Epoch 56/60\n",
            "10/10 [==============================] - 0s 8ms/step - loss: 0.5224 - accuracy: 0.7452 - val_loss: 0.5813 - val_accuracy: 0.7065\n",
            "Epoch 57/60\n",
            "10/10 [==============================] - 0s 7ms/step - loss: 0.5238 - accuracy: 0.7473 - val_loss: 0.5671 - val_accuracy: 0.6866\n",
            "Epoch 58/60\n",
            "10/10 [==============================] - 0s 8ms/step - loss: 0.5189 - accuracy: 0.7452 - val_loss: 0.5685 - val_accuracy: 0.7015\n",
            "Epoch 59/60\n",
            "10/10 [==============================] - 0s 6ms/step - loss: 0.5137 - accuracy: 0.7216 - val_loss: 0.5696 - val_accuracy: 0.7065\n",
            "Epoch 60/60\n",
            "10/10 [==============================] - 0s 8ms/step - loss: 0.5194 - accuracy: 0.7409 - val_loss: 0.5681 - val_accuracy: 0.6866\n"
          ]
        }
      ]
    },
    {
      "cell_type": "code",
      "source": [
        "# plot the history of the training\n",
        "\n",
        "# summarize the history for accuracy\n",
        "plt.plot(history.history['accuracy'])\n",
        "plt.plot(history.history['val_accuracy'])\n",
        "plt.title('model accuracy')\n",
        "plt.ylabel('accuracy')\n",
        "plt.xlabel('epoch')\n",
        "plt.legend(['train','test'], loc='upper left')\n",
        "plt.show()\n",
        "\n",
        "# summarize the history for loss\n",
        "plt.plot(history.history['loss'])\n",
        "plt.plot(history.history['val_loss'])\n",
        "plt.title('model loss')\n",
        "plt.ylabel('loss')\n",
        "plt.xlabel('epoch')\n",
        "plt.legend(['train','test'], loc='upper left')\n",
        "plt.show()"
      ],
      "metadata": {
        "colab": {
          "base_uri": "https://localhost:8080/",
          "height": 573
        },
        "id": "ACzc42grCxot",
        "outputId": "da5e189c-c2f2-4b8c-d623-7fb611e8d0c7"
      },
      "execution_count": null,
      "outputs": [
        {
          "output_type": "display_data",
          "data": {
            "text/plain": [
              "<Figure size 432x288 with 1 Axes>"
            ],
            "image/png": "[encoded data removed]"
          },
          "metadata": {
            "needs_background": "light"
          }
        },
        {
          "output_type": "display_data",
          "data": {
            "text/plain": [
              "<Figure size 432x288 with 1 Axes>"
            ],
            "image/png": "[encoded data removed]"
          },
          "metadata": {
            "needs_background": "light"
          }
        }
      ]
    },
    {
      "cell_type": "markdown",
      "source": [
        "Model Evaluation"
      ],
      "metadata": {
        "id": "lX32L4fVkn_E"
      }
    },
    {
      "cell_type": "code",
      "source": [
        "# get model predictions\n",
        "y_pred4 = model4.predict(X_val4)\n",
        "print(y_pred4[:5])"
      ],
      "metadata": {
        "colab": {
          "base_uri": "https://localhost:8080/"
        },
        "id": "bAqVybmvj3pV",
        "outputId": "80ad44f8-93d3-4f78-c6c0-010e176c3c64"
      },
      "execution_count": null,
      "outputs": [
        {
          "output_type": "stream",
          "name": "stdout",
          "text": [
            "7/7 [==============================] - 0s 2ms/step\n",
            "[[0.62361014]\n",
            " [0.70301646]\n",
            " [0.19538307]\n",
            " [0.3211195 ]\n",
            " [0.52671075]]\n"
          ]
        }
      ]
    },
    {
      "cell_type": "code",
      "source": [
        "# convert to categorical predictions\n",
        "y_pred_categorical4 = [1 if pred > 0.5 else 0 for pred in y_pred4]\n",
        "print(y_pred_categorical4[:5])"
      ],
      "metadata": {
        "colab": {
          "base_uri": "https://localhost:8080/"
        },
        "id": "XCLuEqV9kFt5",
        "outputId": "30dc597a-9795-4e6a-b693-2059dda64d0c"
      },
      "execution_count": null,
      "outputs": [
        {
          "output_type": "stream",
          "name": "stdout",
          "text": [
            "[1, 1, 0, 0, 1]\n"
          ]
        }
      ]
    },
    {
      "cell_type": "code",
      "source": [
        "# measure accuracy\n",
        "accuracy4 = metrics.accuracy_score(y_val4, y_pred_categorical4)\n",
        "print(f'Accuracy: {accuracy4}')"
      ],
      "metadata": {
        "colab": {
          "base_uri": "https://localhost:8080/"
        },
        "id": "chiQ5KddkNgU",
        "outputId": "c539a8ad-f7d8-4e73-9909-9a6d49f4ea69"
      },
      "execution_count": null,
      "outputs": [
        {
          "output_type": "stream",
          "name": "stdout",
          "text": [
            "Accuracy: 0.6865671641791045\n"
          ]
        }
      ]
    },
    {
      "cell_type": "markdown",
      "source": [
        "Test prediction"
      ],
      "metadata": {
        "id": "kBQYLl4-ktkE"
      }
    },
    {
      "cell_type": "code",
      "source": [
        "# summarise the details\n",
        "print(f'Number of entries: {len(diabetes_test)}')\n",
        "\n",
        "X_test = diabetes_test.drop(['id'], axis=1)\n",
        "print(X_test.info())"
      ],
      "metadata": {
        "colab": {
          "base_uri": "https://localhost:8080/"
        },
        "id": "Fj9M35wKkVSz",
        "outputId": "4befce8c-73d2-4fa3-f53e-201a45fc8237"
      },
      "execution_count": null,
      "outputs": [
        {
          "output_type": "stream",
          "name": "stdout",
          "text": [
            "Number of entries: 100\n",
            "<class 'pandas.core.frame.DataFrame'>\n",
            "RangeIndex: 100 entries, 0 to 99\n",
            "Data columns (total 8 columns):\n",
            " #   Column  Non-Null Count  Dtype  \n",
            "---  ------  --------------  -----  \n",
            " 0   A1      100 non-null    int64  \n",
            " 1   A2      100 non-null    int64  \n",
            " 2   A3      100 non-null    int64  \n",
            " 3   A4      100 non-null    int64  \n",
            " 4   A5      100 non-null    int64  \n",
            " 5   A6      100 non-null    float64\n",
            " 6   A7      100 non-null    float64\n",
            " 7   A8      100 non-null    int64  \n",
            "dtypes: float64(2), int64(6)\n",
            "memory usage: 6.4 KB\n",
            "None\n"
          ]
        }
      ]
    },
    {
      "cell_type": "code",
      "source": [
        "X_test4 = X_test.iloc[:, 0:8]\n",
        "X_test4.head()"
      ],
      "metadata": {
        "colab": {
          "base_uri": "https://localhost:8080/",
          "height": 206
        },
        "id": "i_2rWrJAk6RQ",
        "outputId": "a11b04e6-e791-4ef2-a7e2-3737bf69e0f5"
      },
      "execution_count": null,
      "outputs": [
        {
          "output_type": "execute_result",
          "data": {
            "text/plain": [
              "   A1   A2   A3  A4   A5    A6     A7  A8\n",
              "0   6   98   58  33  190  34.0  0.430  43\n",
              "1   9  154   78  30  100  30.9  0.164  45\n",
              "2   6  165   68  26  168  33.6  0.631  49\n",
              "3   1   99   58  10    0  25.4  0.551  21\n",
              "4  10   68  106  23   49  35.5  0.285  47"
            ],
            "text/html": [
              "\n",
              "  <div id=\"df-82d6ce47-3ed2-42e2-a149-b824b33b915a\">\n",
              "    <div class=\"colab-df-container\">\n",
              "      <div>\n",
              "<style scoped>\n",
              "    .dataframe tbody tr th:only-of-type {\n",
              "        vertical-align: middle;\n",
              "    }\n",
              "\n",
              "    .dataframe tbody tr th {\n",
              "        vertical-align: top;\n",
              "    }\n",
              "\n",
              "    .dataframe thead th {\n",
              "        text-align: right;\n",
              "    }\n",
              "</style>\n",
              "<table border=\"1\" class=\"dataframe\">\n",
              "  <thead>\n",
              "    <tr style=\"text-align: right;\">\n",
              "      <th></th>\n",
              "      <th>A1</th>\n",
              "      <th>A2</th>\n",
              "      <th>A3</th>\n",
              "      <th>A4</th>\n",
              "      <th>A5</th>\n",
              "      <th>A6</th>\n",
              "      <th>A7</th>\n",
              "      <th>A8</th>\n",
              "    </tr>\n",
              "  </thead>\n",
              "  <tbody>\n",
              "    <tr>\n",
              "      <th>0</th>\n",
              "      <td>6</td>\n",
              "      <td>98</td>\n",
              "      <td>58</td>\n",
              "      <td>33</td>\n",
              "      <td>190</td>\n",
              "      <td>34.0</td>\n",
              "      <td>0.430</td>\n",
              "      <td>43</td>\n",
              "    </tr>\n",
              "    <tr>\n",
              "      <th>1</th>\n",
              "      <td>9</td>\n",
              "      <td>154</td>\n",
              "      <td>78</td>\n",
              "      <td>30</td>\n",
              "      <td>100</td>\n",
              "      <td>30.9</td>\n",
              "      <td>0.164</td>\n",
              "      <td>45</td>\n",
              "    </tr>\n",
              "    <tr>\n",
              "      <th>2</th>\n",
              "      <td>6</td>\n",
              "      <td>165</td>\n",
              "      <td>68</td>\n",
              "      <td>26</td>\n",
              "      <td>168</td>\n",
              "      <td>33.6</td>\n",
              "      <td>0.631</td>\n",
              "      <td>49</td>\n",
              "    </tr>\n",
              "    <tr>\n",
              "      <th>3</th>\n",
              "      <td>1</td>\n",
              "      <td>99</td>\n",
              "      <td>58</td>\n",
              "      <td>10</td>\n",
              "      <td>0</td>\n",
              "      <td>25.4</td>\n",
              "      <td>0.551</td>\n",
              "      <td>21</td>\n",
              "    </tr>\n",
              "    <tr>\n",
              "      <th>4</th>\n",
              "      <td>10</td>\n",
              "      <td>68</td>\n",
              "      <td>106</td>\n",
              "      <td>23</td>\n",
              "      <td>49</td>\n",
              "      <td>35.5</td>\n",
              "      <td>0.285</td>\n",
              "      <td>47</td>\n",
              "    </tr>\n",
              "  </tbody>\n",
              "</table>\n",
              "</div>\n",
              "      <button class=\"colab-df-convert\" onclick=\"convertToInteractive('df-82d6ce47-3ed2-42e2-a149-b824b33b915a')\"\n",
              "              title=\"Convert this dataframe to an interactive table.\"\n",
              "              style=\"display:none;\">\n",
              "        \n",
              "  <svg xmlns=\"http://www.w3.org/2000/svg\" height=\"24px\"viewBox=\"0 0 24 24\"\n",
              "       width=\"24px\">\n",
              "    <path d=\"M0 0h24v24H0V0z\" fill=\"none\"/>\n",
              "    <path d=\"M18.56 5.44l.94 2.06.94-2.06 2.06-.94-2.06-.94-.94-2.06-.94 2.06-2.06.94zm-11 1L8.5 8.5l.94-2.06 2.06-.94-2.06-.94L8.5 2.5l-.94 2.06-2.06.94zm10 10l.94 2.06.94-2.06 2.06-.94-2.06-.94-.94-2.06-.94 2.06-2.06.94z\"/><path d=\"M17.41 7.96l-1.37-1.37c-.4-.4-.92-.59-1.43-.59-.52 0-1.04.2-1.43.59L10.3 9.45l-7.72 7.72c-.78.78-.78 2.05 0 2.83L4 21.41c.39.39.9.59 1.41.59.51 0 1.02-.2 1.41-.59l7.78-7.78 2.81-2.81c.8-.78.8-2.07 0-2.86zM5.41 20L4 18.59l7.72-7.72 1.47 1.35L5.41 20z\"/>\n",
              "  </svg>\n",
              "      </button>\n",
              "      \n",
              "  <style>\n",
              "    .colab-df-container {\n",
              "      display:flex;\n",
              "      flex-wrap:wrap;\n",
              "      gap: 12px;\n",
              "    }\n",
              "\n",
              "    .colab-df-convert {\n",
              "      background-color: #E8F0FE;\n",
              "      border: none;\n",
              "      border-radius: 50%;\n",
              "      cursor: pointer;\n",
              "      display: none;\n",
              "      fill: #1967D2;\n",
              "      height: 32px;\n",
              "      padding: 0 0 0 0;\n",
              "      width: 32px;\n",
              "    }\n",
              "\n",
              "    .colab-df-convert:hover {\n",
              "      background-color: #E2EBFA;\n",
              "      box-shadow: 0px 1px 2px rgba(60, 64, 67, 0.3), 0px 1px 3px 1px rgba(60, 64, 67, 0.15);\n",
              "      fill: #174EA6;\n",
              "    }\n",
              "\n",
              "    [theme=dark] .colab-df-convert {\n",
              "      background-color: #3B4455;\n",
              "      fill: #D2E3FC;\n",
              "    }\n",
              "\n",
              "    [theme=dark] .colab-df-convert:hover {\n",
              "      background-color: #434B5C;\n",
              "      box-shadow: 0px 1px 3px 1px rgba(0, 0, 0, 0.15);\n",
              "      filter: drop-shadow(0px 1px 2px rgba(0, 0, 0, 0.3));\n",
              "      fill: #FFFFFF;\n",
              "    }\n",
              "  </style>\n",
              "\n",
              "      <script>\n",
              "        const buttonEl =\n",
              "          document.querySelector('#df-82d6ce47-3ed2-42e2-a149-b824b33b915a button.colab-df-convert');\n",
              "        buttonEl.style.display =\n",
              "          google.colab.kernel.accessAllowed ? 'block' : 'none';\n",
              "\n",
              "        async function convertToInteractive(key) {\n",
              "          const element = document.querySelector('#df-82d6ce47-3ed2-42e2-a149-b824b33b915a');\n",
              "          const dataTable =\n",
              "            await google.colab.kernel.invokeFunction('convertToInteractive',\n",
              "                                                     [key], {});\n",
              "          if (!dataTable) return;\n",
              "\n",
              "          const docLinkHtml = 'Like what you see? Visit the ' +\n",
              "            '<a target=\"_blank\" href=https://colab.research.google.com/notebooks/data_table.ipynb>data table notebook</a>'\n",
              "            + ' to learn more about interactive tables.';\n",
              "          element.innerHTML = '';\n",
              "          dataTable['output_type'] = 'display_data';\n",
              "          await google.colab.output.renderOutput(dataTable, element);\n",
              "          const docLink = document.createElement('div');\n",
              "          docLink.innerHTML = docLinkHtml;\n",
              "          element.appendChild(docLink);\n",
              "        }\n",
              "      </script>\n",
              "    </div>\n",
              "  </div>\n",
              "  "
            ]
          },
          "metadata": {},
          "execution_count": 54
        }
      ]
    },
    {
      "cell_type": "code",
      "source": [
        "test_pred4 = model4.predict(X_test)\n",
        "print(test_pred4[:5])\n",
        "\n",
        "test_pred_categorical4 = [1 if pred > 0.5 else 0 for pred in test_pred4]\n",
        "print(test_pred_categorical4[:5])"
      ],
      "metadata": {
        "colab": {
          "base_uri": "https://localhost:8080/"
        },
        "id": "iHM3vu5Nk9xb",
        "outputId": "c1e87f9d-0931-4707-f564-d5299fcf5f57"
      },
      "execution_count": null,
      "outputs": [
        {
          "output_type": "stream",
          "name": "stdout",
          "text": [
            "4/4 [==============================] - 0s 3ms/step\n",
            "[[0.7000766 ]\n",
            " [0.6013632 ]\n",
            " [0.6019827 ]\n",
            " [0.42298847]\n",
            " [0.00299986]]\n",
            "[1, 1, 1, 0, 0]\n"
          ]
        }
      ]
    },
    {
      "cell_type": "code",
      "source": [
        "# clear session\n",
        "keras.backend.clear_session()\n",
        "\n",
        "# set random seed\n",
        "keras.utils.set_random_seed(seed) # set all random seeds for the program (Python, NumPy, and TensorFlow) "
      ],
      "metadata": {
        "id": "TyfCQuXkTcda"
      },
      "execution_count": null,
      "outputs": []
    },
    {
      "cell_type": "markdown",
      "source": [
        "## M4_1 - Early Stopping\n",
        "\n",
        "<!-- [Early stopping](https://keras.io/api/callbacks/early_stopping/) stops training when a monitored metric has stopped improving. -->\n",
        "\n"
      ],
      "metadata": {
        "id": "GOni1HibN4F9"
      }
    },
    {
      "cell_type": "markdown",
      "source": [
        "Model 4_1 building"
      ],
      "metadata": {
        "id": "FcDCPU2aiqsP"
      }
    },
    {
      "cell_type": "code",
      "source": [
        "callback = keras.callbacks.EarlyStopping(monitor='val_accuracy', patience=3)\n",
        "\n",
        "# define the keras model\n",
        "model4_1 = keras.Sequential()\n",
        "model4_1.add(layers.Dense(64, input_dim=8, activation='relu'))\n",
        "model4_1.add(layers.Dense(32, activation='relu'))\n",
        "model4_1.add(layers.Dense(16, activation='relu'))\n",
        "model4_1.add(layers.Dense(8, activation='relu'))\n",
        "model4_1.add(layers.Dense(4, activation='relu'))\n",
        "model4_1.add(layers.Dense(1, activation='sigmoid'))\n",
        "\n",
        "model4_1.summary()"
      ],
      "metadata": {
        "colab": {
          "base_uri": "https://localhost:8080/"
        },
        "id": "SuLsRCOVOCkQ",
        "outputId": "645e6f03-ecbc-4028-b27b-3289aee05c1a"
      },
      "execution_count": null,
      "outputs": [
        {
          "output_type": "stream",
          "name": "stdout",
          "text": [
            "Model: \"sequential\"\n",
            "_________________________________________________________________\n",
            " Layer (type)                Output Shape              Param #   \n",
            "=================================================================\n",
            " dense (Dense)               (None, 64)                576       \n",
            "                                                                 \n",
            " dense_1 (Dense)             (None, 32)                2080      \n",
            "                                                                 \n",
            " dense_2 (Dense)             (None, 16)                528       \n",
            "                                                                 \n",
            " dense_3 (Dense)             (None, 8)                 136       \n",
            "                                                                 \n",
            " dense_4 (Dense)             (None, 4)                 36        \n",
            "                                                                 \n",
            " dense_5 (Dense)             (None, 1)                 5         \n",
            "                                                                 \n",
            "=================================================================\n",
            "Total params: 3,361\n",
            "Trainable params: 3,361\n",
            "Non-trainable params: 0\n",
            "_________________________________________________________________\n"
          ]
        }
      ]
    },
    {
      "cell_type": "markdown",
      "source": [
        "Model Evaluation"
      ],
      "metadata": {
        "id": "VpolyGeoSJC6"
      }
    },
    {
      "cell_type": "code",
      "source": [
        "# compile the keras model\n",
        "model4_1.compile(loss='binary_crossentropy', optimizer='adam', metrics=['accuracy'])\n",
        "\n",
        "# train model with early stopping\n",
        "history = model4_1.fit(X_train4, y_train4, batch_size=50, epochs=60, validation_data=(X_val4, y_val4), callbacks=[callback])"
      ],
      "metadata": {
        "id": "OeX3_g_fOOiN",
        "colab": {
          "base_uri": "https://localhost:8080/"
        },
        "outputId": "181ffad3-3278-464b-d4ad-98f1fb35d978"
      },
      "execution_count": null,
      "outputs": [
        {
          "output_type": "stream",
          "name": "stdout",
          "text": [
            "Epoch 1/60\n",
            "10/10 [==============================] - 2s 28ms/step - loss: 0.6995 - accuracy: 0.6424 - val_loss: 0.6916 - val_accuracy: 0.6567\n",
            "Epoch 2/60\n",
            "10/10 [==============================] - 0s 6ms/step - loss: 0.6918 - accuracy: 0.6531 - val_loss: 0.6903 - val_accuracy: 0.6567\n",
            "Epoch 3/60\n",
            "10/10 [==============================] - 0s 8ms/step - loss: 0.6897 - accuracy: 0.6531 - val_loss: 0.6890 - val_accuracy: 0.6567\n",
            "Epoch 4/60\n",
            "10/10 [==============================] - 0s 8ms/step - loss: 0.6885 - accuracy: 0.6531 - val_loss: 0.6876 - val_accuracy: 0.6567\n"
          ]
        }
      ]
    },
    {
      "cell_type": "code",
      "source": [
        "# plot the history of the training\n",
        "\n",
        "# summarize the history for accuracy\n",
        "plt.plot(history.history['accuracy'])\n",
        "plt.plot(history.history['val_accuracy'])\n",
        "plt.title('model accuracy')\n",
        "plt.ylabel('accuracy')\n",
        "plt.xlabel('epoch')\n",
        "plt.legend(['train','test'], loc='upper left')\n",
        "plt.show()\n",
        "\n",
        "# summarize the history for loss\n",
        "plt.plot(history.history['loss'])\n",
        "plt.plot(history.history['val_loss'])\n",
        "plt.title('model loss')\n",
        "plt.ylabel('loss')\n",
        "plt.xlabel('epoch')\n",
        "plt.legend(['train','test'], loc='upper left')\n",
        "plt.show()"
      ],
      "metadata": {
        "colab": {
          "base_uri": "https://localhost:8080/",
          "height": 573
        },
        "id": "DyOGLdAjT3E8",
        "outputId": "edccc9cf-0d21-4d41-a6dc-56f9056933eb"
      },
      "execution_count": null,
      "outputs": [
        {
          "output_type": "display_data",
          "data": {
            "text/plain": [
              "<Figure size 432x288 with 1 Axes>"
            ],
            "image/png": "[encoded data removed]"
          },
          "metadata": {
            "needs_background": "light"
          }
        },
        {
          "output_type": "display_data",
          "data": {
            "text/plain": [
              "<Figure size 432x288 with 1 Axes>"
            ],
            "image/png": "[encoded data removed]"
          },
          "metadata": {
            "needs_background": "light"
          }
        }
      ]
    },
    {
      "cell_type": "code",
      "source": [
        "# get model predictions\n",
        "y_pred6 = model4_1.predict(X_val4)\n",
        "print(y_pred6[:5])"
      ],
      "metadata": {
        "colab": {
          "base_uri": "https://localhost:8080/"
        },
        "id": "ThIZrwveR9GE",
        "outputId": "3ecb5a9a-afcb-4409-be0a-023646354ee2"
      },
      "execution_count": null,
      "outputs": [
        {
          "output_type": "stream",
          "name": "stdout",
          "text": [
            "7/7 [==============================] - 0s 2ms/step\n",
            "[[0.49087176]\n",
            " [0.49087176]\n",
            " [0.49087176]\n",
            " [0.49087176]\n",
            " [0.49087176]]\n"
          ]
        }
      ]
    },
    {
      "cell_type": "code",
      "source": [
        "# convert to categorical predictions\n",
        "y_pred_categorical6 = [1 if pred > 0.5 else 0 for pred in y_pred6]\n",
        "print(y_pred_categorical6[:5])"
      ],
      "metadata": {
        "colab": {
          "base_uri": "https://localhost:8080/"
        },
        "id": "3qIOH79ISH5G",
        "outputId": "b02dafe0-4c53-4a0d-dcc7-cdf2d3ef8d59"
      },
      "execution_count": null,
      "outputs": [
        {
          "output_type": "stream",
          "name": "stdout",
          "text": [
            "[0, 0, 0, 0, 0]\n"
          ]
        }
      ]
    },
    {
      "cell_type": "code",
      "source": [
        "# measure accuracy\n",
        "accuracy6 = metrics.accuracy_score(y_val4, y_pred_categorical6)\n",
        "print(f'Accuracy: {accuracy6}')"
      ],
      "metadata": {
        "colab": {
          "base_uri": "https://localhost:8080/"
        },
        "id": "AQEmuybwSWZh",
        "outputId": "38d597a1-510b-4042-a1e7-8d7382f82405"
      },
      "execution_count": null,
      "outputs": [
        {
          "output_type": "stream",
          "name": "stdout",
          "text": [
            "Accuracy: 0.6567164179104478\n"
          ]
        }
      ]
    },
    {
      "cell_type": "markdown",
      "source": [
        "Test Prediction"
      ],
      "metadata": {
        "id": "Zgi-XBc4S1eX"
      }
    },
    {
      "cell_type": "code",
      "source": [
        "X_test6 = X_test.iloc[:, 0:8]\n",
        "X_test6.head()"
      ],
      "metadata": {
        "colab": {
          "base_uri": "https://localhost:8080/",
          "height": 206
        },
        "id": "fzlwm40bSqfH",
        "outputId": "ec952aae-c940-470d-f1b6-ef9c4dc95419"
      },
      "execution_count": null,
      "outputs": [
        {
          "output_type": "execute_result",
          "data": {
            "text/plain": [
              "   A1   A2   A3  A4   A5    A6     A7  A8\n",
              "0   6   98   58  33  190  34.0  0.430  43\n",
              "1   9  154   78  30  100  30.9  0.164  45\n",
              "2   6  165   68  26  168  33.6  0.631  49\n",
              "3   1   99   58  10    0  25.4  0.551  21\n",
              "4  10   68  106  23   49  35.5  0.285  47"
            ],
            "text/html": [
              "\n",
              "  <div id=\"df-d0eef8b3-c6a7-4df7-b929-19d526deb6cc\">\n",
              "    <div class=\"colab-df-container\">\n",
              "      <div>\n",
              "<style scoped>\n",
              "    .dataframe tbody tr th:only-of-type {\n",
              "        vertical-align: middle;\n",
              "    }\n",
              "\n",
              "    .dataframe tbody tr th {\n",
              "        vertical-align: top;\n",
              "    }\n",
              "\n",
              "    .dataframe thead th {\n",
              "        text-align: right;\n",
              "    }\n",
              "</style>\n",
              "<table border=\"1\" class=\"dataframe\">\n",
              "  <thead>\n",
              "    <tr style=\"text-align: right;\">\n",
              "      <th></th>\n",
              "      <th>A1</th>\n",
              "      <th>A2</th>\n",
              "      <th>A3</th>\n",
              "      <th>A4</th>\n",
              "      <th>A5</th>\n",
              "      <th>A6</th>\n",
              "      <th>A7</th>\n",
              "      <th>A8</th>\n",
              "    </tr>\n",
              "  </thead>\n",
              "  <tbody>\n",
              "    <tr>\n",
              "      <th>0</th>\n",
              "      <td>6</td>\n",
              "      <td>98</td>\n",
              "      <td>58</td>\n",
              "      <td>33</td>\n",
              "      <td>190</td>\n",
              "      <td>34.0</td>\n",
              "      <td>0.430</td>\n",
              "      <td>43</td>\n",
              "    </tr>\n",
              "    <tr>\n",
              "      <th>1</th>\n",
              "      <td>9</td>\n",
              "      <td>154</td>\n",
              "      <td>78</td>\n",
              "      <td>30</td>\n",
              "      <td>100</td>\n",
              "      <td>30.9</td>\n",
              "      <td>0.164</td>\n",
              "      <td>45</td>\n",
              "    </tr>\n",
              "    <tr>\n",
              "      <th>2</th>\n",
              "      <td>6</td>\n",
              "      <td>165</td>\n",
              "      <td>68</td>\n",
              "      <td>26</td>\n",
              "      <td>168</td>\n",
              "      <td>33.6</td>\n",
              "      <td>0.631</td>\n",
              "      <td>49</td>\n",
              "    </tr>\n",
              "    <tr>\n",
              "      <th>3</th>\n",
              "      <td>1</td>\n",
              "      <td>99</td>\n",
              "      <td>58</td>\n",
              "      <td>10</td>\n",
              "      <td>0</td>\n",
              "      <td>25.4</td>\n",
              "      <td>0.551</td>\n",
              "      <td>21</td>\n",
              "    </tr>\n",
              "    <tr>\n",
              "      <th>4</th>\n",
              "      <td>10</td>\n",
              "      <td>68</td>\n",
              "      <td>106</td>\n",
              "      <td>23</td>\n",
              "      <td>49</td>\n",
              "      <td>35.5</td>\n",
              "      <td>0.285</td>\n",
              "      <td>47</td>\n",
              "    </tr>\n",
              "  </tbody>\n",
              "</table>\n",
              "</div>\n",
              "      <button class=\"colab-df-convert\" onclick=\"convertToInteractive('df-d0eef8b3-c6a7-4df7-b929-19d526deb6cc')\"\n",
              "              title=\"Convert this dataframe to an interactive table.\"\n",
              "              style=\"display:none;\">\n",
              "        \n",
              "  <svg xmlns=\"http://www.w3.org/2000/svg\" height=\"24px\"viewBox=\"0 0 24 24\"\n",
              "       width=\"24px\">\n",
              "    <path d=\"M0 0h24v24H0V0z\" fill=\"none\"/>\n",
              "    <path d=\"M18.56 5.44l.94 2.06.94-2.06 2.06-.94-2.06-.94-.94-2.06-.94 2.06-2.06.94zm-11 1L8.5 8.5l.94-2.06 2.06-.94-2.06-.94L8.5 2.5l-.94 2.06-2.06.94zm10 10l.94 2.06.94-2.06 2.06-.94-2.06-.94-.94-2.06-.94 2.06-2.06.94z\"/><path d=\"M17.41 7.96l-1.37-1.37c-.4-.4-.92-.59-1.43-.59-.52 0-1.04.2-1.43.59L10.3 9.45l-7.72 7.72c-.78.78-.78 2.05 0 2.83L4 21.41c.39.39.9.59 1.41.59.51 0 1.02-.2 1.41-.59l7.78-7.78 2.81-2.81c.8-.78.8-2.07 0-2.86zM5.41 20L4 18.59l7.72-7.72 1.47 1.35L5.41 20z\"/>\n",
              "  </svg>\n",
              "      </button>\n",
              "      \n",
              "  <style>\n",
              "    .colab-df-container {\n",
              "      display:flex;\n",
              "      flex-wrap:wrap;\n",
              "      gap: 12px;\n",
              "    }\n",
              "\n",
              "    .colab-df-convert {\n",
              "      background-color: #E8F0FE;\n",
              "      border: none;\n",
              "      border-radius: 50%;\n",
              "      cursor: pointer;\n",
              "      display: none;\n",
              "      fill: #1967D2;\n",
              "      height: 32px;\n",
              "      padding: 0 0 0 0;\n",
              "      width: 32px;\n",
              "    }\n",
              "\n",
              "    .colab-df-convert:hover {\n",
              "      background-color: #E2EBFA;\n",
              "      box-shadow: 0px 1px 2px rgba(60, 64, 67, 0.3), 0px 1px 3px 1px rgba(60, 64, 67, 0.15);\n",
              "      fill: #174EA6;\n",
              "    }\n",
              "\n",
              "    [theme=dark] .colab-df-convert {\n",
              "      background-color: #3B4455;\n",
              "      fill: #D2E3FC;\n",
              "    }\n",
              "\n",
              "    [theme=dark] .colab-df-convert:hover {\n",
              "      background-color: #434B5C;\n",
              "      box-shadow: 0px 1px 3px 1px rgba(0, 0, 0, 0.15);\n",
              "      filter: drop-shadow(0px 1px 2px rgba(0, 0, 0, 0.3));\n",
              "      fill: #FFFFFF;\n",
              "    }\n",
              "  </style>\n",
              "\n",
              "      <script>\n",
              "        const buttonEl =\n",
              "          document.querySelector('#df-d0eef8b3-c6a7-4df7-b929-19d526deb6cc button.colab-df-convert');\n",
              "        buttonEl.style.display =\n",
              "          google.colab.kernel.accessAllowed ? 'block' : 'none';\n",
              "\n",
              "        async function convertToInteractive(key) {\n",
              "          const element = document.querySelector('#df-d0eef8b3-c6a7-4df7-b929-19d526deb6cc');\n",
              "          const dataTable =\n",
              "            await google.colab.kernel.invokeFunction('convertToInteractive',\n",
              "                                                     [key], {});\n",
              "          if (!dataTable) return;\n",
              "\n",
              "          const docLinkHtml = 'Like what you see? Visit the ' +\n",
              "            '<a target=\"_blank\" href=https://colab.research.google.com/notebooks/data_table.ipynb>data table notebook</a>'\n",
              "            + ' to learn more about interactive tables.';\n",
              "          element.innerHTML = '';\n",
              "          dataTable['output_type'] = 'display_data';\n",
              "          await google.colab.output.renderOutput(dataTable, element);\n",
              "          const docLink = document.createElement('div');\n",
              "          docLink.innerHTML = docLinkHtml;\n",
              "          element.appendChild(docLink);\n",
              "        }\n",
              "      </script>\n",
              "    </div>\n",
              "  </div>\n",
              "  "
            ]
          },
          "metadata": {},
          "execution_count": 63
        }
      ]
    },
    {
      "cell_type": "code",
      "source": [
        "test_pred6 = model4_1.predict(X_test)\n",
        "print(test_pred6[:5])\n",
        "\n",
        "test_pred_categorical6 = [1 if pred > 0.5 else 0 for pred in test_pred6]\n",
        "print(test_pred_categorical6[:5])"
      ],
      "metadata": {
        "colab": {
          "base_uri": "https://localhost:8080/"
        },
        "id": "1rsjHR3fSySa",
        "outputId": "25ed75f7-cb57-4472-d057-8ad70ea1238a"
      },
      "execution_count": null,
      "outputs": [
        {
          "output_type": "stream",
          "name": "stdout",
          "text": [
            "4/4 [==============================] - 0s 3ms/step\n",
            "[[0.49087176]\n",
            " [0.49087176]\n",
            " [0.49087176]\n",
            " [0.49087176]\n",
            " [0.49087176]]\n",
            "[0, 0, 0, 0, 0]\n"
          ]
        }
      ]
    },
    {
      "cell_type": "markdown",
      "source": [
        "### M4_2 Early Stopping with More Parameters"
      ],
      "metadata": {
        "id": "kAv-vAL8EqU3"
      }
    },
    {
      "cell_type": "code",
      "source": [
        "# clear session\n",
        "keras.backend.clear_session()\n",
        "\n",
        "# set random seed\n",
        "keras.utils.set_random_seed(seed) # set all random seeds for the program (Python, NumPy, and TensorFlow) "
      ],
      "metadata": {
        "id": "PoIzp-n1E2mN"
      },
      "execution_count": null,
      "outputs": []
    },
    {
      "cell_type": "markdown",
      "source": [
        "Model building"
      ],
      "metadata": {
        "id": "HEq3k_ZOkue7"
      }
    },
    {
      "cell_type": "code",
      "source": [
        "callback2 = keras.callbacks.EarlyStopping(monitor='val_accuracy', patience=3, restore_best_weights=True)\n",
        "\n",
        "# define the keras model\n",
        "model4_2 = keras.Sequential()\n",
        "model4_2.add(layers.Dense(64, input_dim=8, activation='relu'))\n",
        "model4_2.add(layers.Dense(32, activation='relu'))\n",
        "model4_2.add(layers.Dense(16, activation='relu'))\n",
        "model4_2.add(layers.Dense(8, activation='relu'))\n",
        "model4_2.add(layers.Dense(4, activation='relu'))\n",
        "model4_2.add(layers.Dense(1, activation='sigmoid'))\n",
        "\n",
        "model4_2.summary()"
      ],
      "metadata": {
        "colab": {
          "base_uri": "https://localhost:8080/"
        },
        "id": "mZWGXbGzQJr6",
        "outputId": "250758f2-e48a-462d-e6f6-28b5b280e43a"
      },
      "execution_count": null,
      "outputs": [
        {
          "output_type": "stream",
          "name": "stdout",
          "text": [
            "Model: \"sequential\"\n",
            "_________________________________________________________________\n",
            " Layer (type)                Output Shape              Param #   \n",
            "=================================================================\n",
            " dense (Dense)               (None, 64)                576       \n",
            "                                                                 \n",
            " dense_1 (Dense)             (None, 32)                2080      \n",
            "                                                                 \n",
            " dense_2 (Dense)             (None, 16)                528       \n",
            "                                                                 \n",
            " dense_3 (Dense)             (None, 8)                 136       \n",
            "                                                                 \n",
            " dense_4 (Dense)             (None, 4)                 36        \n",
            "                                                                 \n",
            " dense_5 (Dense)             (None, 1)                 5         \n",
            "                                                                 \n",
            "=================================================================\n",
            "Total params: 3,361\n",
            "Trainable params: 3,361\n",
            "Non-trainable params: 0\n",
            "_________________________________________________________________\n"
          ]
        }
      ]
    },
    {
      "cell_type": "markdown",
      "source": [
        "Model Evaluation"
      ],
      "metadata": {
        "id": "qpKUIlxRWaqW"
      }
    },
    {
      "cell_type": "code",
      "source": [
        "# compile the keras model\n",
        "model4_2.compile(loss='binary_crossentropy', optimizer='adam', metrics=['accuracy'])\n",
        "\n",
        "# train model\n",
        "history = model4_2.fit(X_train4, y_train4, batch_size=50, epochs=60, validation_data=(X_val4, y_val4), callbacks=[callback2])"
      ],
      "metadata": {
        "colab": {
          "base_uri": "https://localhost:8080/"
        },
        "id": "oi689qbKQ-kg",
        "outputId": "42128546-501a-4481-aa87-c0d6db0c3714"
      },
      "execution_count": null,
      "outputs": [
        {
          "output_type": "stream",
          "name": "stdout",
          "text": [
            "Epoch 1/60\n",
            "10/10 [==============================] - 1s 27ms/step - loss: 0.6995 - accuracy: 0.6424 - val_loss: 0.6916 - val_accuracy: 0.6567\n",
            "Epoch 2/60\n",
            "10/10 [==============================] - 0s 6ms/step - loss: 0.6918 - accuracy: 0.6531 - val_loss: 0.6903 - val_accuracy: 0.6567\n",
            "Epoch 3/60\n",
            "10/10 [==============================] - 0s 9ms/step - loss: 0.6897 - accuracy: 0.6531 - val_loss: 0.6890 - val_accuracy: 0.6567\n",
            "Epoch 4/60\n",
            "10/10 [==============================] - 0s 9ms/step - loss: 0.6885 - accuracy: 0.6531 - val_loss: 0.6876 - val_accuracy: 0.6567\n"
          ]
        }
      ]
    },
    {
      "cell_type": "code",
      "source": [
        "# plot the history of the training\n",
        "\n",
        "# summarize the history for accuracy\n",
        "plt.plot(history.history['accuracy'])\n",
        "plt.plot(history.history['val_accuracy'])\n",
        "plt.title('model accuracy')\n",
        "plt.ylabel('accuracy')\n",
        "plt.xlabel('epoch')\n",
        "plt.legend(['train','test'], loc='upper left')\n",
        "plt.show()\n",
        "\n",
        "# summarize the history for loss\n",
        "plt.plot(history.history['loss'])\n",
        "plt.plot(history.history['val_loss'])\n",
        "plt.title('model loss')\n",
        "plt.ylabel('loss')\n",
        "plt.xlabel('epoch')\n",
        "plt.legend(['train','test'], loc='upper left')\n",
        "plt.show()"
      ],
      "metadata": {
        "colab": {
          "base_uri": "https://localhost:8080/",
          "height": 573
        },
        "id": "PPUa4DQ2V--O",
        "outputId": "6885beef-920b-4ad7-b3e4-a815c624f45c"
      },
      "execution_count": null,
      "outputs": [
        {
          "output_type": "display_data",
          "data": {
            "text/plain": [
              "<Figure size 432x288 with 1 Axes>"
            ],
            "image/png": "[encoded data removed]"
          },
          "metadata": {
            "needs_background": "light"
          }
        },
        {
          "output_type": "display_data",
          "data": {
            "text/plain": [
              "<Figure size 432x288 with 1 Axes>"
            ],
            "image/png": "[encoded data removed]"
          },
          "metadata": {
            "needs_background": "light"
          }
        }
      ]
    },
    {
      "cell_type": "code",
      "source": [
        "# get model predictions\n",
        "y_pred4_2 = model4_2.predict(X_val4)\n",
        "print(y_pred4_2[:5])"
      ],
      "metadata": {
        "colab": {
          "base_uri": "https://localhost:8080/"
        },
        "id": "uUDjtOg8WVYw",
        "outputId": "3d3ffff8-2182-426b-87f1-00651d39863d"
      },
      "execution_count": null,
      "outputs": [
        {
          "output_type": "stream",
          "name": "stdout",
          "text": [
            "7/7 [==============================] - 0s 2ms/step\n",
            "[[0.49762544]\n",
            " [0.49762544]\n",
            " [0.49762544]\n",
            " [0.49762544]\n",
            " [0.49762544]]\n"
          ]
        }
      ]
    },
    {
      "cell_type": "code",
      "source": [
        "# convert to categorical predictions\n",
        "y_pred_categorical4_2 = [1 if pred > 0.5 else 0 for pred in y_pred4_2]\n",
        "print(y_pred_categorical4_2[:5])"
      ],
      "metadata": {
        "colab": {
          "base_uri": "https://localhost:8080/"
        },
        "id": "LTQvChwhWaAy",
        "outputId": "8ba01ec9-d9ff-4de3-da46-fd4ba8a9c1b4"
      },
      "execution_count": null,
      "outputs": [
        {
          "output_type": "stream",
          "name": "stdout",
          "text": [
            "[0, 0, 0, 0, 0]\n"
          ]
        }
      ]
    },
    {
      "cell_type": "code",
      "source": [
        "# measure accuracy\n",
        "accuracy4_2 = metrics.accuracy_score(y_val4, y_pred_categorical4_2)\n",
        "print(f'Accuracy: {accuracy4_2}')"
      ],
      "metadata": {
        "colab": {
          "base_uri": "https://localhost:8080/"
        },
        "id": "n0Me3kuvWluk",
        "outputId": "dc412887-0bf5-4a32-8fc5-ee727a43a7fa"
      },
      "execution_count": null,
      "outputs": [
        {
          "output_type": "stream",
          "name": "stdout",
          "text": [
            "Accuracy: 0.6567164179104478\n"
          ]
        }
      ]
    },
    {
      "cell_type": "code",
      "source": [
        "X_test4_2 = X_test.iloc[:, 0:8]\n",
        "X_test4_2.head()"
      ],
      "metadata": {
        "colab": {
          "base_uri": "https://localhost:8080/",
          "height": 206
        },
        "id": "NhOOw9UfWwCf",
        "outputId": "edab25bb-2d4c-4a39-8ff6-6b2357eb55ca"
      },
      "execution_count": null,
      "outputs": [
        {
          "output_type": "execute_result",
          "data": {
            "text/plain": [
              "   A1   A2   A3  A4   A5    A6     A7  A8\n",
              "0   6   98   58  33  190  34.0  0.430  43\n",
              "1   9  154   78  30  100  30.9  0.164  45\n",
              "2   6  165   68  26  168  33.6  0.631  49\n",
              "3   1   99   58  10    0  25.4  0.551  21\n",
              "4  10   68  106  23   49  35.5  0.285  47"
            ],
            "text/html": [
              "\n",
              "  <div id=\"df-56a48fef-284c-47fa-9f8f-53084814c3a6\">\n",
              "    <div class=\"colab-df-container\">\n",
              "      <div>\n",
              "<style scoped>\n",
              "    .dataframe tbody tr th:only-of-type {\n",
              "        vertical-align: middle;\n",
              "    }\n",
              "\n",
              "    .dataframe tbody tr th {\n",
              "        vertical-align: top;\n",
              "    }\n",
              "\n",
              "    .dataframe thead th {\n",
              "        text-align: right;\n",
              "    }\n",
              "</style>\n",
              "<table border=\"1\" class=\"dataframe\">\n",
              "  <thead>\n",
              "    <tr style=\"text-align: right;\">\n",
              "      <th></th>\n",
              "      <th>A1</th>\n",
              "      <th>A2</th>\n",
              "      <th>A3</th>\n",
              "      <th>A4</th>\n",
              "      <th>A5</th>\n",
              "      <th>A6</th>\n",
              "      <th>A7</th>\n",
              "      <th>A8</th>\n",
              "    </tr>\n",
              "  </thead>\n",
              "  <tbody>\n",
              "    <tr>\n",
              "      <th>0</th>\n",
              "      <td>6</td>\n",
              "      <td>98</td>\n",
              "      <td>58</td>\n",
              "      <td>33</td>\n",
              "      <td>190</td>\n",
              "      <td>34.0</td>\n",
              "      <td>0.430</td>\n",
              "      <td>43</td>\n",
              "    </tr>\n",
              "    <tr>\n",
              "      <th>1</th>\n",
              "      <td>9</td>\n",
              "      <td>154</td>\n",
              "      <td>78</td>\n",
              "      <td>30</td>\n",
              "      <td>100</td>\n",
              "      <td>30.9</td>\n",
              "      <td>0.164</td>\n",
              "      <td>45</td>\n",
              "    </tr>\n",
              "    <tr>\n",
              "      <th>2</th>\n",
              "      <td>6</td>\n",
              "      <td>165</td>\n",
              "      <td>68</td>\n",
              "      <td>26</td>\n",
              "      <td>168</td>\n",
              "      <td>33.6</td>\n",
              "      <td>0.631</td>\n",
              "      <td>49</td>\n",
              "    </tr>\n",
              "    <tr>\n",
              "      <th>3</th>\n",
              "      <td>1</td>\n",
              "      <td>99</td>\n",
              "      <td>58</td>\n",
              "      <td>10</td>\n",
              "      <td>0</td>\n",
              "      <td>25.4</td>\n",
              "      <td>0.551</td>\n",
              "      <td>21</td>\n",
              "    </tr>\n",
              "    <tr>\n",
              "      <th>4</th>\n",
              "      <td>10</td>\n",
              "      <td>68</td>\n",
              "      <td>106</td>\n",
              "      <td>23</td>\n",
              "      <td>49</td>\n",
              "      <td>35.5</td>\n",
              "      <td>0.285</td>\n",
              "      <td>47</td>\n",
              "    </tr>\n",
              "  </tbody>\n",
              "</table>\n",
              "</div>\n",
              "      <button class=\"colab-df-convert\" onclick=\"convertToInteractive('df-56a48fef-284c-47fa-9f8f-53084814c3a6')\"\n",
              "              title=\"Convert this dataframe to an interactive table.\"\n",
              "              style=\"display:none;\">\n",
              "        \n",
              "  <svg xmlns=\"http://www.w3.org/2000/svg\" height=\"24px\"viewBox=\"0 0 24 24\"\n",
              "       width=\"24px\">\n",
              "    <path d=\"M0 0h24v24H0V0z\" fill=\"none\"/>\n",
              "    <path d=\"M18.56 5.44l.94 2.06.94-2.06 2.06-.94-2.06-.94-.94-2.06-.94 2.06-2.06.94zm-11 1L8.5 8.5l.94-2.06 2.06-.94-2.06-.94L8.5 2.5l-.94 2.06-2.06.94zm10 10l.94 2.06.94-2.06 2.06-.94-2.06-.94-.94-2.06-.94 2.06-2.06.94z\"/><path d=\"M17.41 7.96l-1.37-1.37c-.4-.4-.92-.59-1.43-.59-.52 0-1.04.2-1.43.59L10.3 9.45l-7.72 7.72c-.78.78-.78 2.05 0 2.83L4 21.41c.39.39.9.59 1.41.59.51 0 1.02-.2 1.41-.59l7.78-7.78 2.81-2.81c.8-.78.8-2.07 0-2.86zM5.41 20L4 18.59l7.72-7.72 1.47 1.35L5.41 20z\"/>\n",
              "  </svg>\n",
              "      </button>\n",
              "      \n",
              "  <style>\n",
              "    .colab-df-container {\n",
              "      display:flex;\n",
              "      flex-wrap:wrap;\n",
              "      gap: 12px;\n",
              "    }\n",
              "\n",
              "    .colab-df-convert {\n",
              "      background-color: #E8F0FE;\n",
              "      border: none;\n",
              "      border-radius: 50%;\n",
              "      cursor: pointer;\n",
              "      display: none;\n",
              "      fill: #1967D2;\n",
              "      height: 32px;\n",
              "      padding: 0 0 0 0;\n",
              "      width: 32px;\n",
              "    }\n",
              "\n",
              "    .colab-df-convert:hover {\n",
              "      background-color: #E2EBFA;\n",
              "      box-shadow: 0px 1px 2px rgba(60, 64, 67, 0.3), 0px 1px 3px 1px rgba(60, 64, 67, 0.15);\n",
              "      fill: #174EA6;\n",
              "    }\n",
              "\n",
              "    [theme=dark] .colab-df-convert {\n",
              "      background-color: #3B4455;\n",
              "      fill: #D2E3FC;\n",
              "    }\n",
              "\n",
              "    [theme=dark] .colab-df-convert:hover {\n",
              "      background-color: #434B5C;\n",
              "      box-shadow: 0px 1px 3px 1px rgba(0, 0, 0, 0.15);\n",
              "      filter: drop-shadow(0px 1px 2px rgba(0, 0, 0, 0.3));\n",
              "      fill: #FFFFFF;\n",
              "    }\n",
              "  </style>\n",
              "\n",
              "      <script>\n",
              "        const buttonEl =\n",
              "          document.querySelector('#df-56a48fef-284c-47fa-9f8f-53084814c3a6 button.colab-df-convert');\n",
              "        buttonEl.style.display =\n",
              "          google.colab.kernel.accessAllowed ? 'block' : 'none';\n",
              "\n",
              "        async function convertToInteractive(key) {\n",
              "          const element = document.querySelector('#df-56a48fef-284c-47fa-9f8f-53084814c3a6');\n",
              "          const dataTable =\n",
              "            await google.colab.kernel.invokeFunction('convertToInteractive',\n",
              "                                                     [key], {});\n",
              "          if (!dataTable) return;\n",
              "\n",
              "          const docLinkHtml = 'Like what you see? Visit the ' +\n",
              "            '<a target=\"_blank\" href=https://colab.research.google.com/notebooks/data_table.ipynb>data table notebook</a>'\n",
              "            + ' to learn more about interactive tables.';\n",
              "          element.innerHTML = '';\n",
              "          dataTable['output_type'] = 'display_data';\n",
              "          await google.colab.output.renderOutput(dataTable, element);\n",
              "          const docLink = document.createElement('div');\n",
              "          docLink.innerHTML = docLinkHtml;\n",
              "          element.appendChild(docLink);\n",
              "        }\n",
              "      </script>\n",
              "    </div>\n",
              "  </div>\n",
              "  "
            ]
          },
          "metadata": {},
          "execution_count": 72
        }
      ]
    },
    {
      "cell_type": "code",
      "source": [
        "test_pred4_2 = model4_2.predict(X_test)\n",
        "print(test_pred4_2[:5])\n",
        "\n",
        "test_pred_categorical4_2 = [1 if pred > 0.5 else 0 for pred in test_pred4_2]\n",
        "print(test_pred_categorical4_2[:5])"
      ],
      "metadata": {
        "colab": {
          "base_uri": "https://localhost:8080/"
        },
        "id": "nJriecqWW27N",
        "outputId": "8412f545-2150-4fb3-c80e-d81f11ea5ee8"
      },
      "execution_count": null,
      "outputs": [
        {
          "output_type": "stream",
          "name": "stdout",
          "text": [
            "4/4 [==============================] - 0s 3ms/step\n",
            "[[0.49762544]\n",
            " [0.49762544]\n",
            " [0.49762544]\n",
            " [0.49762544]\n",
            " [0.49762544]]\n",
            "[0, 0, 0, 0, 0]\n"
          ]
        }
      ]
    },
    {
      "cell_type": "markdown",
      "source": [
        "## M5\n",
        "\n",
        "## M5 Params\n",
        "\n",
        "No of features = all\n",
        "\n",
        "No of hidden layers = 5\n",
        "\n",
        "Classification type = Binary class\n",
        "\n",
        "Activations: leakyrelu, leakyrelu, leakyrelu, sigmoid"
      ],
      "metadata": {
        "id": "Me1lNYXuuxEf"
      }
    },
    {
      "cell_type": "markdown",
      "source": [
        "Let's build another model with the 8 features but with 5 hidden layers and leakyrelu activation function"
      ],
      "metadata": {
        "id": "99No0O-HvWG-"
      }
    },
    {
      "cell_type": "code",
      "source": [
        "X5 = X.iloc[:, 0:8]\n",
        "X5.head()"
      ],
      "metadata": {
        "colab": {
          "base_uri": "https://localhost:8080/",
          "height": 206
        },
        "id": "a-d7wA_ivItV",
        "outputId": "283f87ae-1c3f-4770-c683-656978f82c56"
      },
      "execution_count": null,
      "outputs": [
        {
          "output_type": "execute_result",
          "data": {
            "text/plain": [
              "   A1   A2  A3  A4   A5    A6     A7  A8\n",
              "0   6  148  72  35    0  33.6  0.627  50\n",
              "1   1   85  66  29    0  26.6  0.351  31\n",
              "2   8  183  64   0    0  23.3  0.672  32\n",
              "3   1   89  66  23   94  28.1  0.167  21\n",
              "4   0  137  40  35  168  43.1  2.288  33"
            ],
            "text/html": [
              "\n",
              "  <div id=\"df-a06f3fdd-95fa-444c-aab3-dec24cc4404e\">\n",
              "    <div class=\"colab-df-container\">\n",
              "      <div>\n",
              "<style scoped>\n",
              "    .dataframe tbody tr th:only-of-type {\n",
              "        vertical-align: middle;\n",
              "    }\n",
              "\n",
              "    .dataframe tbody tr th {\n",
              "        vertical-align: top;\n",
              "    }\n",
              "\n",
              "    .dataframe thead th {\n",
              "        text-align: right;\n",
              "    }\n",
              "</style>\n",
              "<table border=\"1\" class=\"dataframe\">\n",
              "  <thead>\n",
              "    <tr style=\"text-align: right;\">\n",
              "      <th></th>\n",
              "      <th>A1</th>\n",
              "      <th>A2</th>\n",
              "      <th>A3</th>\n",
              "      <th>A4</th>\n",
              "      <th>A5</th>\n",
              "      <th>A6</th>\n",
              "      <th>A7</th>\n",
              "      <th>A8</th>\n",
              "    </tr>\n",
              "  </thead>\n",
              "  <tbody>\n",
              "    <tr>\n",
              "      <th>0</th>\n",
              "      <td>6</td>\n",
              "      <td>148</td>\n",
              "      <td>72</td>\n",
              "      <td>35</td>\n",
              "      <td>0</td>\n",
              "      <td>33.6</td>\n",
              "      <td>0.627</td>\n",
              "      <td>50</td>\n",
              "    </tr>\n",
              "    <tr>\n",
              "      <th>1</th>\n",
              "      <td>1</td>\n",
              "      <td>85</td>\n",
              "      <td>66</td>\n",
              "      <td>29</td>\n",
              "      <td>0</td>\n",
              "      <td>26.6</td>\n",
              "      <td>0.351</td>\n",
              "      <td>31</td>\n",
              "    </tr>\n",
              "    <tr>\n",
              "      <th>2</th>\n",
              "      <td>8</td>\n",
              "      <td>183</td>\n",
              "      <td>64</td>\n",
              "      <td>0</td>\n",
              "      <td>0</td>\n",
              "      <td>23.3</td>\n",
              "      <td>0.672</td>\n",
              "      <td>32</td>\n",
              "    </tr>\n",
              "    <tr>\n",
              "      <th>3</th>\n",
              "      <td>1</td>\n",
              "      <td>89</td>\n",
              "      <td>66</td>\n",
              "      <td>23</td>\n",
              "      <td>94</td>\n",
              "      <td>28.1</td>\n",
              "      <td>0.167</td>\n",
              "      <td>21</td>\n",
              "    </tr>\n",
              "    <tr>\n",
              "      <th>4</th>\n",
              "      <td>0</td>\n",
              "      <td>137</td>\n",
              "      <td>40</td>\n",
              "      <td>35</td>\n",
              "      <td>168</td>\n",
              "      <td>43.1</td>\n",
              "      <td>2.288</td>\n",
              "      <td>33</td>\n",
              "    </tr>\n",
              "  </tbody>\n",
              "</table>\n",
              "</div>\n",
              "      <button class=\"colab-df-convert\" onclick=\"convertToInteractive('df-a06f3fdd-95fa-444c-aab3-dec24cc4404e')\"\n",
              "              title=\"Convert this dataframe to an interactive table.\"\n",
              "              style=\"display:none;\">\n",
              "        \n",
              "  <svg xmlns=\"http://www.w3.org/2000/svg\" height=\"24px\"viewBox=\"0 0 24 24\"\n",
              "       width=\"24px\">\n",
              "    <path d=\"M0 0h24v24H0V0z\" fill=\"none\"/>\n",
              "    <path d=\"M18.56 5.44l.94 2.06.94-2.06 2.06-.94-2.06-.94-.94-2.06-.94 2.06-2.06.94zm-11 1L8.5 8.5l.94-2.06 2.06-.94-2.06-.94L8.5 2.5l-.94 2.06-2.06.94zm10 10l.94 2.06.94-2.06 2.06-.94-2.06-.94-.94-2.06-.94 2.06-2.06.94z\"/><path d=\"M17.41 7.96l-1.37-1.37c-.4-.4-.92-.59-1.43-.59-.52 0-1.04.2-1.43.59L10.3 9.45l-7.72 7.72c-.78.78-.78 2.05 0 2.83L4 21.41c.39.39.9.59 1.41.59.51 0 1.02-.2 1.41-.59l7.78-7.78 2.81-2.81c.8-.78.8-2.07 0-2.86zM5.41 20L4 18.59l7.72-7.72 1.47 1.35L5.41 20z\"/>\n",
              "  </svg>\n",
              "      </button>\n",
              "      \n",
              "  <style>\n",
              "    .colab-df-container {\n",
              "      display:flex;\n",
              "      flex-wrap:wrap;\n",
              "      gap: 12px;\n",
              "    }\n",
              "\n",
              "    .colab-df-convert {\n",
              "      background-color: #E8F0FE;\n",
              "      border: none;\n",
              "      border-radius: 50%;\n",
              "      cursor: pointer;\n",
              "      display: none;\n",
              "      fill: #1967D2;\n",
              "      height: 32px;\n",
              "      padding: 0 0 0 0;\n",
              "      width: 32px;\n",
              "    }\n",
              "\n",
              "    .colab-df-convert:hover {\n",
              "      background-color: #E2EBFA;\n",
              "      box-shadow: 0px 1px 2px rgba(60, 64, 67, 0.3), 0px 1px 3px 1px rgba(60, 64, 67, 0.15);\n",
              "      fill: #174EA6;\n",
              "    }\n",
              "\n",
              "    [theme=dark] .colab-df-convert {\n",
              "      background-color: #3B4455;\n",
              "      fill: #D2E3FC;\n",
              "    }\n",
              "\n",
              "    [theme=dark] .colab-df-convert:hover {\n",
              "      background-color: #434B5C;\n",
              "      box-shadow: 0px 1px 3px 1px rgba(0, 0, 0, 0.15);\n",
              "      filter: drop-shadow(0px 1px 2px rgba(0, 0, 0, 0.3));\n",
              "      fill: #FFFFFF;\n",
              "    }\n",
              "  </style>\n",
              "\n",
              "      <script>\n",
              "        const buttonEl =\n",
              "          document.querySelector('#df-a06f3fdd-95fa-444c-aab3-dec24cc4404e button.colab-df-convert');\n",
              "        buttonEl.style.display =\n",
              "          google.colab.kernel.accessAllowed ? 'block' : 'none';\n",
              "\n",
              "        async function convertToInteractive(key) {\n",
              "          const element = document.querySelector('#df-a06f3fdd-95fa-444c-aab3-dec24cc4404e');\n",
              "          const dataTable =\n",
              "            await google.colab.kernel.invokeFunction('convertToInteractive',\n",
              "                                                     [key], {});\n",
              "          if (!dataTable) return;\n",
              "\n",
              "          const docLinkHtml = 'Like what you see? Visit the ' +\n",
              "            '<a target=\"_blank\" href=https://colab.research.google.com/notebooks/data_table.ipynb>data table notebook</a>'\n",
              "            + ' to learn more about interactive tables.';\n",
              "          element.innerHTML = '';\n",
              "          dataTable['output_type'] = 'display_data';\n",
              "          await google.colab.output.renderOutput(dataTable, element);\n",
              "          const docLink = document.createElement('div');\n",
              "          docLink.innerHTML = docLinkHtml;\n",
              "          element.appendChild(docLink);\n",
              "        }\n",
              "      </script>\n",
              "    </div>\n",
              "  </div>\n",
              "  "
            ]
          },
          "metadata": {},
          "execution_count": 74
        }
      ]
    },
    {
      "cell_type": "markdown",
      "source": [
        "Split data to training and validation"
      ],
      "metadata": {
        "id": "a8BuO-Dqv4xD"
      }
    },
    {
      "cell_type": "code",
      "source": [
        "# split data to train and validation sets\n",
        "X_train5, X_val5, y_train5, y_val5 = train_test_split(X5, y, test_size=0.3, random_state=100)\n",
        "print(f'training data set size: {len(X_train5)}')\n",
        "print(f'validation data set size: {len(X_val5)}')"
      ],
      "metadata": {
        "colab": {
          "base_uri": "https://localhost:8080/"
        },
        "id": "__b5zfU_vMDq",
        "outputId": "f9a03316-0728-40a0-d5d8-c74e65065b5c"
      },
      "execution_count": null,
      "outputs": [
        {
          "output_type": "stream",
          "name": "stdout",
          "text": [
            "training data set size: 467\n",
            "validation data set size: 201\n"
          ]
        }
      ]
    },
    {
      "cell_type": "markdown",
      "source": [
        "Building Model 5"
      ],
      "metadata": {
        "id": "uBhhjrrLv00R"
      }
    },
    {
      "cell_type": "code",
      "source": [
        "# define the keras model\n",
        "model5 = keras.Sequential()\n",
        "model5.add(layers.Dense(64, input_dim=8, activation=LeakyReLU(alpha=0.1)))\n",
        "model5.add(layers.Dense(32, activation=LeakyReLU(alpha=0.1)))\n",
        "model5.add(layers.Dense(16, activation=LeakyReLU(alpha=0.1)))\n",
        "model5.add(layers.Dense(8, activation=LeakyReLU(alpha=0.1)))\n",
        "model5.add(layers.Dense(4, activation=LeakyReLU(alpha=0.1)))\n",
        "model5.add(layers.Dense(1, activation=LeakyReLU(alpha=0.1)))\n",
        "\n",
        "model5.summary()"
      ],
      "metadata": {
        "colab": {
          "base_uri": "https://localhost:8080/"
        },
        "id": "6X6yCddSvzk7",
        "outputId": "9e731a0c-f7af-4062-ee64-82a864dcb5c0"
      },
      "execution_count": null,
      "outputs": [
        {
          "output_type": "stream",
          "name": "stdout",
          "text": [
            "Model: \"sequential_1\"\n",
            "_________________________________________________________________\n",
            " Layer (type)                Output Shape              Param #   \n",
            "=================================================================\n",
            " dense_6 (Dense)             (None, 64)                576       \n",
            "                                                                 \n",
            " dense_7 (Dense)             (None, 32)                2080      \n",
            "                                                                 \n",
            " dense_8 (Dense)             (None, 16)                528       \n",
            "                                                                 \n",
            " dense_9 (Dense)             (None, 8)                 136       \n",
            "                                                                 \n",
            " dense_10 (Dense)            (None, 4)                 36        \n",
            "                                                                 \n",
            " dense_11 (Dense)            (None, 1)                 5         \n",
            "                                                                 \n",
            "=================================================================\n",
            "Total params: 3,361\n",
            "Trainable params: 3,361\n",
            "Non-trainable params: 0\n",
            "_________________________________________________________________\n"
          ]
        }
      ]
    },
    {
      "cell_type": "code",
      "source": [
        "# compile the keras model\n",
        "model5.compile(loss='binary_crossentropy', optimizer='adam', metrics=['accuracy'])\n",
        "\n",
        "# train model\n",
        "history = model5.fit(X_train5, y_train5, batch_size=50, epochs=60, validation_data=(X_val5, y_val5))"
      ],
      "metadata": {
        "colab": {
          "base_uri": "https://localhost:8080/"
        },
        "id": "EGmbPVCD20a3",
        "outputId": "21ade54a-2e78-4db8-d31c-786c4fba380c"
      },
      "execution_count": null,
      "outputs": [
        {
          "output_type": "stream",
          "name": "stdout",
          "text": [
            "Epoch 1/60\n",
            "10/10 [==============================] - 2s 27ms/step - loss: 7.9349 - accuracy: 0.4797 - val_loss: 8.2251 - val_accuracy: 0.4627\n",
            "Epoch 2/60\n",
            "10/10 [==============================] - 0s 8ms/step - loss: 6.8960 - accuracy: 0.5460 - val_loss: 7.6978 - val_accuracy: 0.4975\n",
            "Epoch 3/60\n",
            "10/10 [==============================] - 0s 8ms/step - loss: 6.9565 - accuracy: 0.5439 - val_loss: 7.9271 - val_accuracy: 0.4776\n",
            "Epoch 4/60\n",
            "10/10 [==============================] - 0s 7ms/step - loss: 6.1018 - accuracy: 0.5953 - val_loss: 5.5186 - val_accuracy: 0.6418\n",
            "Epoch 5/60\n",
            "10/10 [==============================] - 0s 8ms/step - loss: 5.3820 - accuracy: 0.6510 - val_loss: 5.2951 - val_accuracy: 0.6567\n",
            "Epoch 6/60\n",
            "10/10 [==============================] - 0s 9ms/step - loss: 5.3508 - accuracy: 0.6531 - val_loss: 5.2951 - val_accuracy: 0.6567\n",
            "Epoch 7/60\n",
            "10/10 [==============================] - 0s 8ms/step - loss: 5.3508 - accuracy: 0.6531 - val_loss: 5.2951 - val_accuracy: 0.6567\n",
            "Epoch 8/60\n",
            "10/10 [==============================] - 0s 8ms/step - loss: 5.3508 - accuracy: 0.6531 - val_loss: 5.2951 - val_accuracy: 0.6567\n",
            "Epoch 9/60\n",
            "10/10 [==============================] - 0s 10ms/step - loss: 5.3508 - accuracy: 0.6531 - val_loss: 5.2951 - val_accuracy: 0.6567\n",
            "Epoch 10/60\n",
            "10/10 [==============================] - 0s 10ms/step - loss: 5.3508 - accuracy: 0.6531 - val_loss: 5.2951 - val_accuracy: 0.6567\n",
            "Epoch 11/60\n",
            "10/10 [==============================] - 0s 10ms/step - loss: 5.3508 - accuracy: 0.6531 - val_loss: 5.2951 - val_accuracy: 0.6567\n",
            "Epoch 12/60\n",
            "10/10 [==============================] - 0s 10ms/step - loss: 5.3508 - accuracy: 0.6531 - val_loss: 5.2951 - val_accuracy: 0.6567\n",
            "Epoch 13/60\n",
            "10/10 [==============================] - 0s 10ms/step - loss: 5.3508 - accuracy: 0.6531 - val_loss: 5.2951 - val_accuracy: 0.6567\n",
            "Epoch 14/60\n",
            "10/10 [==============================] - 0s 11ms/step - loss: 5.3508 - accuracy: 0.6531 - val_loss: 5.2951 - val_accuracy: 0.6567\n",
            "Epoch 15/60\n",
            "10/10 [==============================] - 0s 10ms/step - loss: 5.3508 - accuracy: 0.6531 - val_loss: 5.2951 - val_accuracy: 0.6567\n",
            "Epoch 16/60\n",
            "10/10 [==============================] - 0s 11ms/step - loss: 5.3508 - accuracy: 0.6531 - val_loss: 5.2951 - val_accuracy: 0.6567\n",
            "Epoch 17/60\n",
            "10/10 [==============================] - 0s 10ms/step - loss: 5.3508 - accuracy: 0.6531 - val_loss: 5.2951 - val_accuracy: 0.6567\n",
            "Epoch 18/60\n",
            "10/10 [==============================] - 0s 11ms/step - loss: 5.3508 - accuracy: 0.6531 - val_loss: 5.2951 - val_accuracy: 0.6567\n",
            "Epoch 19/60\n",
            "10/10 [==============================] - 0s 10ms/step - loss: 5.3508 - accuracy: 0.6531 - val_loss: 5.2951 - val_accuracy: 0.6567\n",
            "Epoch 20/60\n",
            "10/10 [==============================] - 0s 9ms/step - loss: 5.3508 - accuracy: 0.6531 - val_loss: 5.2951 - val_accuracy: 0.6567\n",
            "Epoch 21/60\n",
            "10/10 [==============================] - 0s 10ms/step - loss: 5.3508 - accuracy: 0.6531 - val_loss: 5.2951 - val_accuracy: 0.6567\n",
            "Epoch 22/60\n",
            "10/10 [==============================] - 0s 11ms/step - loss: 5.3508 - accuracy: 0.6531 - val_loss: 5.2951 - val_accuracy: 0.6567\n",
            "Epoch 23/60\n",
            "10/10 [==============================] - 0s 11ms/step - loss: 5.3508 - accuracy: 0.6531 - val_loss: 5.2951 - val_accuracy: 0.6567\n",
            "Epoch 24/60\n",
            "10/10 [==============================] - 0s 10ms/step - loss: 5.3508 - accuracy: 0.6531 - val_loss: 5.2951 - val_accuracy: 0.6567\n",
            "Epoch 25/60\n",
            "10/10 [==============================] - 0s 13ms/step - loss: 5.3508 - accuracy: 0.6531 - val_loss: 5.2951 - val_accuracy: 0.6567\n",
            "Epoch 26/60\n",
            "10/10 [==============================] - 0s 9ms/step - loss: 5.3508 - accuracy: 0.6531 - val_loss: 5.2951 - val_accuracy: 0.6567\n",
            "Epoch 27/60\n",
            "10/10 [==============================] - 0s 11ms/step - loss: 5.3508 - accuracy: 0.6531 - val_loss: 5.2951 - val_accuracy: 0.6567\n",
            "Epoch 28/60\n",
            "10/10 [==============================] - 0s 11ms/step - loss: 5.3508 - accuracy: 0.6531 - val_loss: 5.2951 - val_accuracy: 0.6567\n",
            "Epoch 29/60\n",
            "10/10 [==============================] - 0s 9ms/step - loss: 5.3508 - accuracy: 0.6531 - val_loss: 5.2951 - val_accuracy: 0.6567\n",
            "Epoch 30/60\n",
            "10/10 [==============================] - 0s 11ms/step - loss: 5.3508 - accuracy: 0.6531 - val_loss: 5.2951 - val_accuracy: 0.6567\n",
            "Epoch 31/60\n",
            "10/10 [==============================] - 0s 9ms/step - loss: 5.3508 - accuracy: 0.6531 - val_loss: 5.2951 - val_accuracy: 0.6567\n",
            "Epoch 32/60\n",
            "10/10 [==============================] - 0s 10ms/step - loss: 5.3508 - accuracy: 0.6531 - val_loss: 5.2951 - val_accuracy: 0.6567\n",
            "Epoch 33/60\n",
            "10/10 [==============================] - 0s 13ms/step - loss: 5.3508 - accuracy: 0.6531 - val_loss: 5.2951 - val_accuracy: 0.6567\n",
            "Epoch 34/60\n",
            "10/10 [==============================] - 0s 10ms/step - loss: 5.3508 - accuracy: 0.6531 - val_loss: 5.2951 - val_accuracy: 0.6567\n",
            "Epoch 35/60\n",
            "10/10 [==============================] - 0s 9ms/step - loss: 5.3508 - accuracy: 0.6531 - val_loss: 5.2951 - val_accuracy: 0.6567\n",
            "Epoch 36/60\n",
            "10/10 [==============================] - 0s 9ms/step - loss: 5.3508 - accuracy: 0.6531 - val_loss: 5.2951 - val_accuracy: 0.6567\n",
            "Epoch 37/60\n",
            "10/10 [==============================] - 0s 9ms/step - loss: 5.3508 - accuracy: 0.6531 - val_loss: 5.2951 - val_accuracy: 0.6567\n",
            "Epoch 38/60\n",
            "10/10 [==============================] - 0s 9ms/step - loss: 5.3508 - accuracy: 0.6531 - val_loss: 5.2951 - val_accuracy: 0.6567\n",
            "Epoch 39/60\n",
            "10/10 [==============================] - 0s 10ms/step - loss: 5.3508 - accuracy: 0.6531 - val_loss: 5.2951 - val_accuracy: 0.6567\n",
            "Epoch 40/60\n",
            "10/10 [==============================] - 0s 9ms/step - loss: 5.3508 - accuracy: 0.6531 - val_loss: 5.2951 - val_accuracy: 0.6567\n",
            "Epoch 41/60\n",
            "10/10 [==============================] - 0s 9ms/step - loss: 5.3508 - accuracy: 0.6531 - val_loss: 5.2951 - val_accuracy: 0.6567\n",
            "Epoch 42/60\n",
            "10/10 [==============================] - 0s 11ms/step - loss: 5.3508 - accuracy: 0.6531 - val_loss: 5.2951 - val_accuracy: 0.6567\n",
            "Epoch 43/60\n",
            "10/10 [==============================] - 0s 10ms/step - loss: 5.3508 - accuracy: 0.6531 - val_loss: 5.2951 - val_accuracy: 0.6567\n",
            "Epoch 44/60\n",
            "10/10 [==============================] - 0s 11ms/step - loss: 5.3508 - accuracy: 0.6531 - val_loss: 5.2951 - val_accuracy: 0.6567\n",
            "Epoch 45/60\n",
            "10/10 [==============================] - 0s 11ms/step - loss: 5.3508 - accuracy: 0.6531 - val_loss: 5.2951 - val_accuracy: 0.6567\n",
            "Epoch 46/60\n",
            "10/10 [==============================] - 0s 11ms/step - loss: 5.3508 - accuracy: 0.6531 - val_loss: 5.2951 - val_accuracy: 0.6567\n",
            "Epoch 47/60\n",
            "10/10 [==============================] - 0s 9ms/step - loss: 5.3508 - accuracy: 0.6531 - val_loss: 5.2951 - val_accuracy: 0.6567\n",
            "Epoch 48/60\n",
            "10/10 [==============================] - 0s 10ms/step - loss: 5.3508 - accuracy: 0.6531 - val_loss: 5.2951 - val_accuracy: 0.6567\n",
            "Epoch 49/60\n",
            "10/10 [==============================] - 0s 10ms/step - loss: 5.3508 - accuracy: 0.6531 - val_loss: 5.2951 - val_accuracy: 0.6567\n",
            "Epoch 50/60\n",
            "10/10 [==============================] - 0s 9ms/step - loss: 5.3508 - accuracy: 0.6531 - val_loss: 5.2951 - val_accuracy: 0.6567\n",
            "Epoch 51/60\n",
            "10/10 [==============================] - 0s 9ms/step - loss: 5.3508 - accuracy: 0.6531 - val_loss: 5.2951 - val_accuracy: 0.6567\n",
            "Epoch 52/60\n",
            "10/10 [==============================] - 0s 7ms/step - loss: 5.3508 - accuracy: 0.6531 - val_loss: 5.2951 - val_accuracy: 0.6567\n",
            "Epoch 53/60\n",
            "10/10 [==============================] - 0s 8ms/step - loss: 5.3508 - accuracy: 0.6531 - val_loss: 5.2951 - val_accuracy: 0.6567\n",
            "Epoch 54/60\n",
            "10/10 [==============================] - 0s 9ms/step - loss: 5.3508 - accuracy: 0.6531 - val_loss: 5.2951 - val_accuracy: 0.6567\n",
            "Epoch 55/60\n",
            "10/10 [==============================] - 0s 6ms/step - loss: 5.3508 - accuracy: 0.6531 - val_loss: 5.2951 - val_accuracy: 0.6567\n",
            "Epoch 56/60\n",
            "10/10 [==============================] - 0s 7ms/step - loss: 5.3508 - accuracy: 0.6531 - val_loss: 5.2951 - val_accuracy: 0.6567\n",
            "Epoch 57/60\n",
            "10/10 [==============================] - 0s 7ms/step - loss: 5.3508 - accuracy: 0.6531 - val_loss: 5.2951 - val_accuracy: 0.6567\n",
            "Epoch 58/60\n",
            "10/10 [==============================] - 0s 7ms/step - loss: 5.3508 - accuracy: 0.6531 - val_loss: 5.2951 - val_accuracy: 0.6567\n",
            "Epoch 59/60\n",
            "10/10 [==============================] - 0s 6ms/step - loss: 5.3508 - accuracy: 0.6531 - val_loss: 5.2951 - val_accuracy: 0.6567\n",
            "Epoch 60/60\n",
            "10/10 [==============================] - 0s 7ms/step - loss: 5.3508 - accuracy: 0.6531 - val_loss: 5.2951 - val_accuracy: 0.6567\n"
          ]
        }
      ]
    },
    {
      "cell_type": "code",
      "source": [
        "# plot the history of the training\n",
        "\n",
        "# summarize the history for accuracy\n",
        "plt.plot(history.history['accuracy'])\n",
        "plt.plot(history.history['val_accuracy'])\n",
        "plt.title('model accuracy')\n",
        "plt.ylabel('accuracy')\n",
        "plt.xlabel('epoch')\n",
        "plt.legend(['train','test'], loc='upper left')\n",
        "plt.show()\n",
        "\n",
        "# summarize the history for loss\n",
        "plt.plot(history.history['loss'])\n",
        "plt.plot(history.history['val_loss'])\n",
        "plt.title('model loss')\n",
        "plt.ylabel('loss')\n",
        "plt.xlabel('epoch')\n",
        "plt.legend(['train','test'], loc='upper left')\n",
        "plt.show()"
      ],
      "metadata": {
        "colab": {
          "base_uri": "https://localhost:8080/",
          "height": 573
        },
        "id": "U0xfnDF2PpQh",
        "outputId": "d4d96300-2f3e-4082-bcdb-12155660a925"
      },
      "execution_count": null,
      "outputs": [
        {
          "output_type": "display_data",
          "data": {
            "text/plain": [
              "<Figure size 432x288 with 1 Axes>"
            ],
            "image/png": "[encoded data removed]"
          },
          "metadata": {
            "needs_background": "light"
          }
        },
        {
          "output_type": "display_data",
          "data": {
            "text/plain": [
              "<Figure size 432x288 with 1 Axes>"
            ],
            "image/png": "[encoded data removed]"
          },
          "metadata": {
            "needs_background": "light"
          }
        }
      ]
    },
    {
      "cell_type": "markdown",
      "source": [
        "Model Evaluation"
      ],
      "metadata": {
        "id": "fgOH6m2I3Z9W"
      }
    },
    {
      "cell_type": "code",
      "source": [
        "# get model predictions\n",
        "y_pred5 = model5.predict(X_val5)\n",
        "print(y_pred5[:5])"
      ],
      "metadata": {
        "colab": {
          "base_uri": "https://localhost:8080/"
        },
        "id": "uvawbTvN3WB0",
        "outputId": "b0ec7ef4-fa16-4a38-ac24-873eb787bc60"
      },
      "execution_count": null,
      "outputs": [
        {
          "output_type": "stream",
          "name": "stdout",
          "text": [
            "7/7 [==============================] - 0s 2ms/step\n",
            "[[-5.6253953]\n",
            " [-5.948533 ]\n",
            " [-4.560132 ]\n",
            " [-5.7951703]\n",
            " [-6.957748 ]]\n"
          ]
        }
      ]
    },
    {
      "cell_type": "code",
      "source": [
        "# convert to categorical predictions\n",
        "y_pred_categorical5 = [1 if pred > 0.5 else 0 for pred in y_pred5]\n",
        "print(y_pred_categorical5[:5])"
      ],
      "metadata": {
        "colab": {
          "base_uri": "https://localhost:8080/"
        },
        "id": "NDK-MrqP3cvv",
        "outputId": "277db344-7f90-4610-ea69-60811616aa44"
      },
      "execution_count": null,
      "outputs": [
        {
          "output_type": "stream",
          "name": "stdout",
          "text": [
            "[0, 0, 0, 0, 0]\n"
          ]
        }
      ]
    },
    {
      "cell_type": "code",
      "source": [
        "# measure accuracy\n",
        "accuracy5 = metrics.accuracy_score(y_val5, y_pred_categorical5)\n",
        "print(f'Accuracy: {accuracy5}')"
      ],
      "metadata": {
        "colab": {
          "base_uri": "https://localhost:8080/"
        },
        "id": "hyG3YLPD3vjA",
        "outputId": "06f25b55-f5c7-435d-cc6c-9f446d7035ea"
      },
      "execution_count": null,
      "outputs": [
        {
          "output_type": "stream",
          "name": "stdout",
          "text": [
            "Accuracy: 0.6567164179104478\n"
          ]
        }
      ]
    },
    {
      "cell_type": "markdown",
      "source": [
        "Test Prediction"
      ],
      "metadata": {
        "id": "n8fh1cG94F9E"
      }
    },
    {
      "cell_type": "code",
      "source": [
        "X_test5 = X_test.iloc[:, 0:8]\n",
        "X_test5.head()"
      ],
      "metadata": {
        "colab": {
          "base_uri": "https://localhost:8080/",
          "height": 206
        },
        "id": "1m5XdIem4B0C",
        "outputId": "0d7b67d9-952f-41b4-f4df-13e5b0680959"
      },
      "execution_count": null,
      "outputs": [
        {
          "output_type": "execute_result",
          "data": {
            "text/plain": [
              "   A1   A2   A3  A4   A5    A6     A7  A8\n",
              "0   6   98   58  33  190  34.0  0.430  43\n",
              "1   9  154   78  30  100  30.9  0.164  45\n",
              "2   6  165   68  26  168  33.6  0.631  49\n",
              "3   1   99   58  10    0  25.4  0.551  21\n",
              "4  10   68  106  23   49  35.5  0.285  47"
            ],
            "text/html": [
              "\n",
              "  <div id=\"df-f3ce7e40-5b7b-4072-b096-9d6e0dc3d4f5\">\n",
              "    <div class=\"colab-df-container\">\n",
              "      <div>\n",
              "<style scoped>\n",
              "    .dataframe tbody tr th:only-of-type {\n",
              "        vertical-align: middle;\n",
              "    }\n",
              "\n",
              "    .dataframe tbody tr th {\n",
              "        vertical-align: top;\n",
              "    }\n",
              "\n",
              "    .dataframe thead th {\n",
              "        text-align: right;\n",
              "    }\n",
              "</style>\n",
              "<table border=\"1\" class=\"dataframe\">\n",
              "  <thead>\n",
              "    <tr style=\"text-align: right;\">\n",
              "      <th></th>\n",
              "      <th>A1</th>\n",
              "      <th>A2</th>\n",
              "      <th>A3</th>\n",
              "      <th>A4</th>\n",
              "      <th>A5</th>\n",
              "      <th>A6</th>\n",
              "      <th>A7</th>\n",
              "      <th>A8</th>\n",
              "    </tr>\n",
              "  </thead>\n",
              "  <tbody>\n",
              "    <tr>\n",
              "      <th>0</th>\n",
              "      <td>6</td>\n",
              "      <td>98</td>\n",
              "      <td>58</td>\n",
              "      <td>33</td>\n",
              "      <td>190</td>\n",
              "      <td>34.0</td>\n",
              "      <td>0.430</td>\n",
              "      <td>43</td>\n",
              "    </tr>\n",
              "    <tr>\n",
              "      <th>1</th>\n",
              "      <td>9</td>\n",
              "      <td>154</td>\n",
              "      <td>78</td>\n",
              "      <td>30</td>\n",
              "      <td>100</td>\n",
              "      <td>30.9</td>\n",
              "      <td>0.164</td>\n",
              "      <td>45</td>\n",
              "    </tr>\n",
              "    <tr>\n",
              "      <th>2</th>\n",
              "      <td>6</td>\n",
              "      <td>165</td>\n",
              "      <td>68</td>\n",
              "      <td>26</td>\n",
              "      <td>168</td>\n",
              "      <td>33.6</td>\n",
              "      <td>0.631</td>\n",
              "      <td>49</td>\n",
              "    </tr>\n",
              "    <tr>\n",
              "      <th>3</th>\n",
              "      <td>1</td>\n",
              "      <td>99</td>\n",
              "      <td>58</td>\n",
              "      <td>10</td>\n",
              "      <td>0</td>\n",
              "      <td>25.4</td>\n",
              "      <td>0.551</td>\n",
              "      <td>21</td>\n",
              "    </tr>\n",
              "    <tr>\n",
              "      <th>4</th>\n",
              "      <td>10</td>\n",
              "      <td>68</td>\n",
              "      <td>106</td>\n",
              "      <td>23</td>\n",
              "      <td>49</td>\n",
              "      <td>35.5</td>\n",
              "      <td>0.285</td>\n",
              "      <td>47</td>\n",
              "    </tr>\n",
              "  </tbody>\n",
              "</table>\n",
              "</div>\n",
              "      <button class=\"colab-df-convert\" onclick=\"convertToInteractive('df-f3ce7e40-5b7b-4072-b096-9d6e0dc3d4f5')\"\n",
              "              title=\"Convert this dataframe to an interactive table.\"\n",
              "              style=\"display:none;\">\n",
              "        \n",
              "  <svg xmlns=\"http://www.w3.org/2000/svg\" height=\"24px\"viewBox=\"0 0 24 24\"\n",
              "       width=\"24px\">\n",
              "    <path d=\"M0 0h24v24H0V0z\" fill=\"none\"/>\n",
              "    <path d=\"M18.56 5.44l.94 2.06.94-2.06 2.06-.94-2.06-.94-.94-2.06-.94 2.06-2.06.94zm-11 1L8.5 8.5l.94-2.06 2.06-.94-2.06-.94L8.5 2.5l-.94 2.06-2.06.94zm10 10l.94 2.06.94-2.06 2.06-.94-2.06-.94-.94-2.06-.94 2.06-2.06.94z\"/><path d=\"M17.41 7.96l-1.37-1.37c-.4-.4-.92-.59-1.43-.59-.52 0-1.04.2-1.43.59L10.3 9.45l-7.72 7.72c-.78.78-.78 2.05 0 2.83L4 21.41c.39.39.9.59 1.41.59.51 0 1.02-.2 1.41-.59l7.78-7.78 2.81-2.81c.8-.78.8-2.07 0-2.86zM5.41 20L4 18.59l7.72-7.72 1.47 1.35L5.41 20z\"/>\n",
              "  </svg>\n",
              "      </button>\n",
              "      \n",
              "  <style>\n",
              "    .colab-df-container {\n",
              "      display:flex;\n",
              "      flex-wrap:wrap;\n",
              "      gap: 12px;\n",
              "    }\n",
              "\n",
              "    .colab-df-convert {\n",
              "      background-color: #E8F0FE;\n",
              "      border: none;\n",
              "      border-radius: 50%;\n",
              "      cursor: pointer;\n",
              "      display: none;\n",
              "      fill: #1967D2;\n",
              "      height: 32px;\n",
              "      padding: 0 0 0 0;\n",
              "      width: 32px;\n",
              "    }\n",
              "\n",
              "    .colab-df-convert:hover {\n",
              "      background-color: #E2EBFA;\n",
              "      box-shadow: 0px 1px 2px rgba(60, 64, 67, 0.3), 0px 1px 3px 1px rgba(60, 64, 67, 0.15);\n",
              "      fill: #174EA6;\n",
              "    }\n",
              "\n",
              "    [theme=dark] .colab-df-convert {\n",
              "      background-color: #3B4455;\n",
              "      fill: #D2E3FC;\n",
              "    }\n",
              "\n",
              "    [theme=dark] .colab-df-convert:hover {\n",
              "      background-color: #434B5C;\n",
              "      box-shadow: 0px 1px 3px 1px rgba(0, 0, 0, 0.15);\n",
              "      filter: drop-shadow(0px 1px 2px rgba(0, 0, 0, 0.3));\n",
              "      fill: #FFFFFF;\n",
              "    }\n",
              "  </style>\n",
              "\n",
              "      <script>\n",
              "        const buttonEl =\n",
              "          document.querySelector('#df-f3ce7e40-5b7b-4072-b096-9d6e0dc3d4f5 button.colab-df-convert');\n",
              "        buttonEl.style.display =\n",
              "          google.colab.kernel.accessAllowed ? 'block' : 'none';\n",
              "\n",
              "        async function convertToInteractive(key) {\n",
              "          const element = document.querySelector('#df-f3ce7e40-5b7b-4072-b096-9d6e0dc3d4f5');\n",
              "          const dataTable =\n",
              "            await google.colab.kernel.invokeFunction('convertToInteractive',\n",
              "                                                     [key], {});\n",
              "          if (!dataTable) return;\n",
              "\n",
              "          const docLinkHtml = 'Like what you see? Visit the ' +\n",
              "            '<a target=\"_blank\" href=https://colab.research.google.com/notebooks/data_table.ipynb>data table notebook</a>'\n",
              "            + ' to learn more about interactive tables.';\n",
              "          element.innerHTML = '';\n",
              "          dataTable['output_type'] = 'display_data';\n",
              "          await google.colab.output.renderOutput(dataTable, element);\n",
              "          const docLink = document.createElement('div');\n",
              "          docLink.innerHTML = docLinkHtml;\n",
              "          element.appendChild(docLink);\n",
              "        }\n",
              "      </script>\n",
              "    </div>\n",
              "  </div>\n",
              "  "
            ]
          },
          "metadata": {},
          "execution_count": 82
        }
      ]
    },
    {
      "cell_type": "code",
      "source": [
        "test_pred5 = model5.predict(X_test)\n",
        "print(test_pred5[:5])\n",
        "\n",
        "test_pred_categorical5 = [1 if pred > 0.5 else 0 for pred in test_pred5]\n",
        "print(test_pred_categorical5[:5])"
      ],
      "metadata": {
        "colab": {
          "base_uri": "https://localhost:8080/"
        },
        "id": "8kelWl7I4I7A",
        "outputId": "66bb7e2b-d37b-47ad-85d0-b25e092ff365"
      },
      "execution_count": null,
      "outputs": [
        {
          "output_type": "stream",
          "name": "stdout",
          "text": [
            "4/4 [==============================] - 0s 3ms/step\n",
            "[[-4.531062 ]\n",
            " [-7.024118 ]\n",
            " [-7.250046 ]\n",
            " [-4.6840553]\n",
            " [-5.403083 ]]\n",
            "[0, 0, 0, 0, 0]\n"
          ]
        }
      ]
    },
    {
      "cell_type": "markdown",
      "source": [
        "#M8 - Using Dropout"
      ],
      "metadata": {
        "id": "epi4EIaNcpsP"
      }
    },
    {
      "cell_type": "code",
      "source": [
        "# clear session\n",
        "keras.backend.clear_session()\n",
        "\n",
        "# set random seed\n",
        "keras.utils.set_random_seed(seed) # set all random seeds for the program (Python, NumPy, and TensorFlow) "
      ],
      "metadata": {
        "id": "ULe0UzxjfvyN"
      },
      "execution_count": null,
      "outputs": []
    },
    {
      "cell_type": "code",
      "source": [
        "X8 = X.iloc[:, 0:8]\n",
        "X8.head()"
      ],
      "metadata": {
        "colab": {
          "base_uri": "https://localhost:8080/",
          "height": 206
        },
        "id": "5yUZSlTkdoUW",
        "outputId": "7162037e-d22c-420b-9cad-eb6fc9435689"
      },
      "execution_count": null,
      "outputs": [
        {
          "output_type": "execute_result",
          "data": {
            "text/plain": [
              "   A1   A2  A3  A4   A5    A6     A7  A8\n",
              "0   6  148  72  35    0  33.6  0.627  50\n",
              "1   1   85  66  29    0  26.6  0.351  31\n",
              "2   8  183  64   0    0  23.3  0.672  32\n",
              "3   1   89  66  23   94  28.1  0.167  21\n",
              "4   0  137  40  35  168  43.1  2.288  33"
            ],
            "text/html": [
              "\n",
              "  <div id=\"df-4c2c09ae-eae7-4da2-a801-34e9743e1e09\">\n",
              "    <div class=\"colab-df-container\">\n",
              "      <div>\n",
              "<style scoped>\n",
              "    .dataframe tbody tr th:only-of-type {\n",
              "        vertical-align: middle;\n",
              "    }\n",
              "\n",
              "    .dataframe tbody tr th {\n",
              "        vertical-align: top;\n",
              "    }\n",
              "\n",
              "    .dataframe thead th {\n",
              "        text-align: right;\n",
              "    }\n",
              "</style>\n",
              "<table border=\"1\" class=\"dataframe\">\n",
              "  <thead>\n",
              "    <tr style=\"text-align: right;\">\n",
              "      <th></th>\n",
              "      <th>A1</th>\n",
              "      <th>A2</th>\n",
              "      <th>A3</th>\n",
              "      <th>A4</th>\n",
              "      <th>A5</th>\n",
              "      <th>A6</th>\n",
              "      <th>A7</th>\n",
              "      <th>A8</th>\n",
              "    </tr>\n",
              "  </thead>\n",
              "  <tbody>\n",
              "    <tr>\n",
              "      <th>0</th>\n",
              "      <td>6</td>\n",
              "      <td>148</td>\n",
              "      <td>72</td>\n",
              "      <td>35</td>\n",
              "      <td>0</td>\n",
              "      <td>33.6</td>\n",
              "      <td>0.627</td>\n",
              "      <td>50</td>\n",
              "    </tr>\n",
              "    <tr>\n",
              "      <th>1</th>\n",
              "      <td>1</td>\n",
              "      <td>85</td>\n",
              "      <td>66</td>\n",
              "      <td>29</td>\n",
              "      <td>0</td>\n",
              "      <td>26.6</td>\n",
              "      <td>0.351</td>\n",
              "      <td>31</td>\n",
              "    </tr>\n",
              "    <tr>\n",
              "      <th>2</th>\n",
              "      <td>8</td>\n",
              "      <td>183</td>\n",
              "      <td>64</td>\n",
              "      <td>0</td>\n",
              "      <td>0</td>\n",
              "      <td>23.3</td>\n",
              "      <td>0.672</td>\n",
              "      <td>32</td>\n",
              "    </tr>\n",
              "    <tr>\n",
              "      <th>3</th>\n",
              "      <td>1</td>\n",
              "      <td>89</td>\n",
              "      <td>66</td>\n",
              "      <td>23</td>\n",
              "      <td>94</td>\n",
              "      <td>28.1</td>\n",
              "      <td>0.167</td>\n",
              "      <td>21</td>\n",
              "    </tr>\n",
              "    <tr>\n",
              "      <th>4</th>\n",
              "      <td>0</td>\n",
              "      <td>137</td>\n",
              "      <td>40</td>\n",
              "      <td>35</td>\n",
              "      <td>168</td>\n",
              "      <td>43.1</td>\n",
              "      <td>2.288</td>\n",
              "      <td>33</td>\n",
              "    </tr>\n",
              "  </tbody>\n",
              "</table>\n",
              "</div>\n",
              "      <button class=\"colab-df-convert\" onclick=\"convertToInteractive('df-4c2c09ae-eae7-4da2-a801-34e9743e1e09')\"\n",
              "              title=\"Convert this dataframe to an interactive table.\"\n",
              "              style=\"display:none;\">\n",
              "        \n",
              "  <svg xmlns=\"http://www.w3.org/2000/svg\" height=\"24px\"viewBox=\"0 0 24 24\"\n",
              "       width=\"24px\">\n",
              "    <path d=\"M0 0h24v24H0V0z\" fill=\"none\"/>\n",
              "    <path d=\"M18.56 5.44l.94 2.06.94-2.06 2.06-.94-2.06-.94-.94-2.06-.94 2.06-2.06.94zm-11 1L8.5 8.5l.94-2.06 2.06-.94-2.06-.94L8.5 2.5l-.94 2.06-2.06.94zm10 10l.94 2.06.94-2.06 2.06-.94-2.06-.94-.94-2.06-.94 2.06-2.06.94z\"/><path d=\"M17.41 7.96l-1.37-1.37c-.4-.4-.92-.59-1.43-.59-.52 0-1.04.2-1.43.59L10.3 9.45l-7.72 7.72c-.78.78-.78 2.05 0 2.83L4 21.41c.39.39.9.59 1.41.59.51 0 1.02-.2 1.41-.59l7.78-7.78 2.81-2.81c.8-.78.8-2.07 0-2.86zM5.41 20L4 18.59l7.72-7.72 1.47 1.35L5.41 20z\"/>\n",
              "  </svg>\n",
              "      </button>\n",
              "      \n",
              "  <style>\n",
              "    .colab-df-container {\n",
              "      display:flex;\n",
              "      flex-wrap:wrap;\n",
              "      gap: 12px;\n",
              "    }\n",
              "\n",
              "    .colab-df-convert {\n",
              "      background-color: #E8F0FE;\n",
              "      border: none;\n",
              "      border-radius: 50%;\n",
              "      cursor: pointer;\n",
              "      display: none;\n",
              "      fill: #1967D2;\n",
              "      height: 32px;\n",
              "      padding: 0 0 0 0;\n",
              "      width: 32px;\n",
              "    }\n",
              "\n",
              "    .colab-df-convert:hover {\n",
              "      background-color: #E2EBFA;\n",
              "      box-shadow: 0px 1px 2px rgba(60, 64, 67, 0.3), 0px 1px 3px 1px rgba(60, 64, 67, 0.15);\n",
              "      fill: #174EA6;\n",
              "    }\n",
              "\n",
              "    [theme=dark] .colab-df-convert {\n",
              "      background-color: #3B4455;\n",
              "      fill: #D2E3FC;\n",
              "    }\n",
              "\n",
              "    [theme=dark] .colab-df-convert:hover {\n",
              "      background-color: #434B5C;\n",
              "      box-shadow: 0px 1px 3px 1px rgba(0, 0, 0, 0.15);\n",
              "      filter: drop-shadow(0px 1px 2px rgba(0, 0, 0, 0.3));\n",
              "      fill: #FFFFFF;\n",
              "    }\n",
              "  </style>\n",
              "\n",
              "      <script>\n",
              "        const buttonEl =\n",
              "          document.querySelector('#df-4c2c09ae-eae7-4da2-a801-34e9743e1e09 button.colab-df-convert');\n",
              "        buttonEl.style.display =\n",
              "          google.colab.kernel.accessAllowed ? 'block' : 'none';\n",
              "\n",
              "        async function convertToInteractive(key) {\n",
              "          const element = document.querySelector('#df-4c2c09ae-eae7-4da2-a801-34e9743e1e09');\n",
              "          const dataTable =\n",
              "            await google.colab.kernel.invokeFunction('convertToInteractive',\n",
              "                                                     [key], {});\n",
              "          if (!dataTable) return;\n",
              "\n",
              "          const docLinkHtml = 'Like what you see? Visit the ' +\n",
              "            '<a target=\"_blank\" href=https://colab.research.google.com/notebooks/data_table.ipynb>data table notebook</a>'\n",
              "            + ' to learn more about interactive tables.';\n",
              "          element.innerHTML = '';\n",
              "          dataTable['output_type'] = 'display_data';\n",
              "          await google.colab.output.renderOutput(dataTable, element);\n",
              "          const docLink = document.createElement('div');\n",
              "          docLink.innerHTML = docLinkHtml;\n",
              "          element.appendChild(docLink);\n",
              "        }\n",
              "      </script>\n",
              "    </div>\n",
              "  </div>\n",
              "  "
            ]
          },
          "metadata": {},
          "execution_count": 85
        }
      ]
    },
    {
      "cell_type": "markdown",
      "source": [
        "Splitting data"
      ],
      "metadata": {
        "id": "rJCaHXq3eLud"
      }
    },
    {
      "cell_type": "code",
      "source": [
        "# split data to train and validation sets\n",
        "X_train8, X_val8, y_train8, y_val8 = train_test_split(X8, y, test_size=0.3, random_state=100)\n",
        "print(f'training data set size: {len(X_train8)}')\n",
        "print(f'validation data set size: {len(X_val8)}')"
      ],
      "metadata": {
        "colab": {
          "base_uri": "https://localhost:8080/"
        },
        "id": "GnTaLRIGdNrx",
        "outputId": "34cce2be-320c-45e7-b20c-b0c05ea330ea"
      },
      "execution_count": null,
      "outputs": [
        {
          "output_type": "stream",
          "name": "stdout",
          "text": [
            "training data set size: 467\n",
            "validation data set size: 201\n"
          ]
        }
      ]
    },
    {
      "cell_type": "markdown",
      "source": [
        "Model building"
      ],
      "metadata": {
        "id": "aeGYywjGd9hL"
      }
    },
    {
      "cell_type": "code",
      "source": [
        "# import the Dropout layer from keras\n",
        "from tensorflow.keras.layers import Dropout\n",
        "\n",
        "# create the model with a dropout layer\n",
        "model8 = keras.Sequential() \n",
        "model8.add(layers.Dense(units=12, input_dim=8, activation='relu'))\n",
        "# add the dropout layer here\n",
        "model8.add(Dropout(0.2))\n",
        "model8.add(layers.Dense(units=8,  activation='relu'))\n",
        "# add the dropout layer here\n",
        "model8.add(Dropout(0.2))\n",
        "model8.add(layers.Dense(units=4, activation='softmax'))\n",
        "model8.add(Dropout(0.2))\n",
        "model8.add(layers.Dense(1, activation='sigmoid'))\n",
        "\n",
        "model8.summary()"
      ],
      "metadata": {
        "colab": {
          "base_uri": "https://localhost:8080/"
        },
        "id": "AkebLAIucpEI",
        "outputId": "1010066a-c6dd-4852-fb05-490b4261cd3a"
      },
      "execution_count": null,
      "outputs": [
        {
          "output_type": "stream",
          "name": "stdout",
          "text": [
            "Model: \"sequential\"\n",
            "_________________________________________________________________\n",
            " Layer (type)                Output Shape              Param #   \n",
            "=================================================================\n",
            " dense (Dense)               (None, 12)                108       \n",
            "                                                                 \n",
            " dropout (Dropout)           (None, 12)                0         \n",
            "                                                                 \n",
            " dense_1 (Dense)             (None, 8)                 104       \n",
            "                                                                 \n",
            " dropout_1 (Dropout)         (None, 8)                 0         \n",
            "                                                                 \n",
            " dense_2 (Dense)             (None, 4)                 36        \n",
            "                                                                 \n",
            " dropout_2 (Dropout)         (None, 4)                 0         \n",
            "                                                                 \n",
            " dense_3 (Dense)             (None, 1)                 5         \n",
            "                                                                 \n",
            "=================================================================\n",
            "Total params: 253\n",
            "Trainable params: 253\n",
            "Non-trainable params: 0\n",
            "_________________________________________________________________\n"
          ]
        }
      ]
    },
    {
      "cell_type": "code",
      "source": [
        "# 1. Compile the model\n",
        "model8.compile(loss='binary_crossentropy', optimizer='adam', metrics=['accuracy'])\n",
        "\n",
        "# Fit the model (replace the question marks)\n",
        "# train model\n",
        "history = model8.fit(X_train8, y_train8, batch_size=50, epochs=60, validation_data=(X_val8, y_val8))"
      ],
      "metadata": {
        "colab": {
          "base_uri": "https://localhost:8080/"
        },
        "id": "EEZfOgJEd8c1",
        "outputId": "28502a2d-4f33-4bcd-ad7b-5003e4e4ab3d"
      },
      "execution_count": null,
      "outputs": [
        {
          "output_type": "stream",
          "name": "stdout",
          "text": [
            "Epoch 1/60\n",
            "10/10 [==============================] - 1s 27ms/step - loss: 0.9147 - accuracy: 0.4069 - val_loss: 0.8964 - val_accuracy: 0.3433\n",
            "Epoch 2/60\n",
            "10/10 [==============================] - 0s 7ms/step - loss: 0.9019 - accuracy: 0.4133 - val_loss: 0.8896 - val_accuracy: 0.3433\n",
            "Epoch 3/60\n",
            "10/10 [==============================] - 0s 6ms/step - loss: 0.9057 - accuracy: 0.3983 - val_loss: 0.8831 - val_accuracy: 0.3433\n",
            "Epoch 4/60\n",
            "10/10 [==============================] - 0s 6ms/step - loss: 0.8817 - accuracy: 0.4197 - val_loss: 0.8767 - val_accuracy: 0.3433\n",
            "Epoch 5/60\n",
            "10/10 [==============================] - 0s 8ms/step - loss: 0.8890 - accuracy: 0.4047 - val_loss: 0.8703 - val_accuracy: 0.3433\n",
            "Epoch 6/60\n",
            "10/10 [==============================] - 0s 8ms/step - loss: 0.8877 - accuracy: 0.3919 - val_loss: 0.8641 - val_accuracy: 0.3433\n",
            "Epoch 7/60\n",
            "10/10 [==============================] - 0s 7ms/step - loss: 0.8777 - accuracy: 0.4047 - val_loss: 0.8580 - val_accuracy: 0.3433\n",
            "Epoch 8/60\n",
            "10/10 [==============================] - 0s 7ms/step - loss: 0.8703 - accuracy: 0.3833 - val_loss: 0.8521 - val_accuracy: 0.3433\n",
            "Epoch 9/60\n",
            "10/10 [==============================] - 0s 8ms/step - loss: 0.8654 - accuracy: 0.3790 - val_loss: 0.8463 - val_accuracy: 0.3433\n",
            "Epoch 10/60\n",
            "10/10 [==============================] - 0s 8ms/step - loss: 0.8497 - accuracy: 0.4026 - val_loss: 0.8408 - val_accuracy: 0.3433\n",
            "Epoch 11/60\n",
            "10/10 [==============================] - 0s 8ms/step - loss: 0.8520 - accuracy: 0.3854 - val_loss: 0.8350 - val_accuracy: 0.3433\n",
            "Epoch 12/60\n",
            "10/10 [==============================] - 0s 9ms/step - loss: 0.8334 - accuracy: 0.4047 - val_loss: 0.8297 - val_accuracy: 0.3433\n",
            "Epoch 13/60\n",
            "10/10 [==============================] - 0s 6ms/step - loss: 0.8345 - accuracy: 0.3940 - val_loss: 0.8246 - val_accuracy: 0.3433\n",
            "Epoch 14/60\n",
            "10/10 [==============================] - 0s 6ms/step - loss: 0.8301 - accuracy: 0.4047 - val_loss: 0.8194 - val_accuracy: 0.3433\n",
            "Epoch 15/60\n",
            "10/10 [==============================] - 0s 7ms/step - loss: 0.8394 - accuracy: 0.3747 - val_loss: 0.8143 - val_accuracy: 0.3433\n",
            "Epoch 16/60\n",
            "10/10 [==============================] - 0s 8ms/step - loss: 0.8276 - accuracy: 0.3769 - val_loss: 0.8093 - val_accuracy: 0.3433\n",
            "Epoch 17/60\n",
            "10/10 [==============================] - 0s 7ms/step - loss: 0.8131 - accuracy: 0.4047 - val_loss: 0.8045 - val_accuracy: 0.3433\n",
            "Epoch 18/60\n",
            "10/10 [==============================] - 0s 8ms/step - loss: 0.8171 - accuracy: 0.3790 - val_loss: 0.7997 - val_accuracy: 0.3433\n",
            "Epoch 19/60\n",
            "10/10 [==============================] - 0s 7ms/step - loss: 0.7989 - accuracy: 0.4026 - val_loss: 0.7950 - val_accuracy: 0.3433\n",
            "Epoch 20/60\n",
            "10/10 [==============================] - 0s 7ms/step - loss: 0.7908 - accuracy: 0.4026 - val_loss: 0.7906 - val_accuracy: 0.3433\n",
            "Epoch 21/60\n",
            "10/10 [==============================] - 0s 8ms/step - loss: 0.7900 - accuracy: 0.3961 - val_loss: 0.7860 - val_accuracy: 0.3433\n",
            "Epoch 22/60\n",
            "10/10 [==============================] - 0s 7ms/step - loss: 0.7878 - accuracy: 0.3876 - val_loss: 0.7817 - val_accuracy: 0.3433\n",
            "Epoch 23/60\n",
            "10/10 [==============================] - 0s 6ms/step - loss: 0.7867 - accuracy: 0.3812 - val_loss: 0.7769 - val_accuracy: 0.3433\n",
            "Epoch 24/60\n",
            "10/10 [==============================] - 0s 8ms/step - loss: 0.7762 - accuracy: 0.3876 - val_loss: 0.7719 - val_accuracy: 0.3433\n",
            "Epoch 25/60\n",
            "10/10 [==============================] - 0s 7ms/step - loss: 0.7810 - accuracy: 0.3704 - val_loss: 0.7670 - val_accuracy: 0.3433\n",
            "Epoch 26/60\n",
            "10/10 [==============================] - 0s 8ms/step - loss: 0.7634 - accuracy: 0.4261 - val_loss: 0.7613 - val_accuracy: 0.3433\n",
            "Epoch 27/60\n",
            "10/10 [==============================] - 0s 8ms/step - loss: 0.7511 - accuracy: 0.4261 - val_loss: 0.7530 - val_accuracy: 0.3433\n",
            "Epoch 28/60\n",
            "10/10 [==============================] - 0s 7ms/step - loss: 0.7503 - accuracy: 0.3940 - val_loss: 0.7335 - val_accuracy: 0.3433\n",
            "Epoch 29/60\n",
            "10/10 [==============================] - 0s 6ms/step - loss: 0.7347 - accuracy: 0.4090 - val_loss: 0.7107 - val_accuracy: 0.3781\n",
            "Epoch 30/60\n",
            "10/10 [==============================] - 0s 6ms/step - loss: 0.7132 - accuracy: 0.4561 - val_loss: 0.6907 - val_accuracy: 0.5323\n",
            "Epoch 31/60\n",
            "10/10 [==============================] - 0s 7ms/step - loss: 0.7013 - accuracy: 0.5203 - val_loss: 0.6736 - val_accuracy: 0.6020\n",
            "Epoch 32/60\n",
            "10/10 [==============================] - 0s 8ms/step - loss: 0.6815 - accuracy: 0.5846 - val_loss: 0.6635 - val_accuracy: 0.6418\n",
            "Epoch 33/60\n",
            "10/10 [==============================] - 0s 8ms/step - loss: 0.6876 - accuracy: 0.6039 - val_loss: 0.6628 - val_accuracy: 0.6468\n",
            "Epoch 34/60\n",
            "10/10 [==============================] - 0s 6ms/step - loss: 0.6670 - accuracy: 0.6103 - val_loss: 0.6622 - val_accuracy: 0.6517\n",
            "Epoch 35/60\n",
            "10/10 [==============================] - 0s 8ms/step - loss: 0.6739 - accuracy: 0.6103 - val_loss: 0.6596 - val_accuracy: 0.6517\n",
            "Epoch 36/60\n",
            "10/10 [==============================] - 0s 7ms/step - loss: 0.6618 - accuracy: 0.6146 - val_loss: 0.6576 - val_accuracy: 0.6517\n",
            "Epoch 37/60\n",
            "10/10 [==============================] - 0s 7ms/step - loss: 0.6627 - accuracy: 0.6338 - val_loss: 0.6558 - val_accuracy: 0.6517\n",
            "Epoch 38/60\n",
            "10/10 [==============================] - 0s 8ms/step - loss: 0.6519 - accuracy: 0.6660 - val_loss: 0.6540 - val_accuracy: 0.6567\n",
            "Epoch 39/60\n",
            "10/10 [==============================] - 0s 8ms/step - loss: 0.6503 - accuracy: 0.6445 - val_loss: 0.6535 - val_accuracy: 0.6567\n",
            "Epoch 40/60\n",
            "10/10 [==============================] - 0s 8ms/step - loss: 0.6494 - accuracy: 0.6338 - val_loss: 0.6523 - val_accuracy: 0.6567\n",
            "Epoch 41/60\n",
            "10/10 [==============================] - 0s 8ms/step - loss: 0.6571 - accuracy: 0.6424 - val_loss: 0.6522 - val_accuracy: 0.6567\n",
            "Epoch 42/60\n",
            "10/10 [==============================] - 0s 8ms/step - loss: 0.6479 - accuracy: 0.6488 - val_loss: 0.6509 - val_accuracy: 0.6567\n",
            "Epoch 43/60\n",
            "10/10 [==============================] - 0s 7ms/step - loss: 0.6390 - accuracy: 0.6552 - val_loss: 0.6506 - val_accuracy: 0.6567\n",
            "Epoch 44/60\n",
            "10/10 [==============================] - 0s 8ms/step - loss: 0.6571 - accuracy: 0.6253 - val_loss: 0.6501 - val_accuracy: 0.6567\n",
            "Epoch 45/60\n",
            "10/10 [==============================] - 0s 6ms/step - loss: 0.6508 - accuracy: 0.6531 - val_loss: 0.6486 - val_accuracy: 0.6567\n",
            "Epoch 46/60\n",
            "10/10 [==============================] - 0s 7ms/step - loss: 0.6523 - accuracy: 0.6403 - val_loss: 0.6484 - val_accuracy: 0.6567\n",
            "Epoch 47/60\n",
            "10/10 [==============================] - 0s 8ms/step - loss: 0.6488 - accuracy: 0.6510 - val_loss: 0.6473 - val_accuracy: 0.6567\n",
            "Epoch 48/60\n",
            "10/10 [==============================] - 0s 8ms/step - loss: 0.6529 - accuracy: 0.6510 - val_loss: 0.6456 - val_accuracy: 0.6567\n",
            "Epoch 49/60\n",
            "10/10 [==============================] - 0s 9ms/step - loss: 0.6458 - accuracy: 0.6617 - val_loss: 0.6468 - val_accuracy: 0.6567\n",
            "Epoch 50/60\n",
            "10/10 [==============================] - 0s 7ms/step - loss: 0.6467 - accuracy: 0.6360 - val_loss: 0.6487 - val_accuracy: 0.6567\n",
            "Epoch 51/60\n",
            "10/10 [==============================] - 0s 8ms/step - loss: 0.6533 - accuracy: 0.6510 - val_loss: 0.6490 - val_accuracy: 0.6567\n",
            "Epoch 52/60\n",
            "10/10 [==============================] - 0s 8ms/step - loss: 0.6513 - accuracy: 0.6531 - val_loss: 0.6462 - val_accuracy: 0.6567\n",
            "Epoch 53/60\n",
            "10/10 [==============================] - 0s 6ms/step - loss: 0.6500 - accuracy: 0.6360 - val_loss: 0.6447 - val_accuracy: 0.6567\n",
            "Epoch 54/60\n",
            "10/10 [==============================] - 0s 9ms/step - loss: 0.6366 - accuracy: 0.6595 - val_loss: 0.6446 - val_accuracy: 0.6567\n",
            "Epoch 55/60\n",
            "10/10 [==============================] - 0s 9ms/step - loss: 0.6425 - accuracy: 0.6574 - val_loss: 0.6456 - val_accuracy: 0.6567\n",
            "Epoch 56/60\n",
            "10/10 [==============================] - 0s 8ms/step - loss: 0.6423 - accuracy: 0.6488 - val_loss: 0.6458 - val_accuracy: 0.6567\n",
            "Epoch 57/60\n",
            "10/10 [==============================] - 0s 6ms/step - loss: 0.6409 - accuracy: 0.6531 - val_loss: 0.6440 - val_accuracy: 0.6567\n",
            "Epoch 58/60\n",
            "10/10 [==============================] - 0s 8ms/step - loss: 0.6432 - accuracy: 0.6531 - val_loss: 0.6435 - val_accuracy: 0.6567\n",
            "Epoch 59/60\n",
            "10/10 [==============================] - 0s 8ms/step - loss: 0.6356 - accuracy: 0.6617 - val_loss: 0.6437 - val_accuracy: 0.6567\n",
            "Epoch 60/60\n",
            "10/10 [==============================] - 0s 6ms/step - loss: 0.6434 - accuracy: 0.6595 - val_loss: 0.6426 - val_accuracy: 0.6567\n"
          ]
        }
      ]
    },
    {
      "cell_type": "code",
      "source": [
        "# summarize the history for accuracy\n",
        "plt.plot(history.history['accuracy'])\n",
        "plt.plot(history.history['val_accuracy'])\n",
        "plt.title('model accuracy')\n",
        "plt.ylabel('accuracy')\n",
        "plt.xlabel('epoch')\n",
        "plt.legend(['train','test'], loc='upper left')\n",
        "plt.show()\n",
        "\n",
        "# summarize the history for loss\n",
        "plt.plot(history.history['loss'])\n",
        "plt.plot(history.history['val_loss'])\n",
        "plt.title('model loss')\n",
        "plt.ylabel('loss')\n",
        "plt.xlabel('epoch')\n",
        "plt.legend(['train','test'], loc='upper left')\n",
        "plt.show()"
      ],
      "metadata": {
        "colab": {
          "base_uri": "https://localhost:8080/",
          "height": 573
        },
        "id": "43g01t81eU-n",
        "outputId": "d3ead6fd-7528-4751-ed88-8de9e5b1b3c0"
      },
      "execution_count": null,
      "outputs": [
        {
          "output_type": "display_data",
          "data": {
            "text/plain": [
              "<Figure size 432x288 with 1 Axes>"
            ],
            "image/png": "[encoded data removed]"
          },
          "metadata": {
            "needs_background": "light"
          }
        },
        {
          "output_type": "display_data",
          "data": {
            "text/plain": [
              "<Figure size 432x288 with 1 Axes>"
            ],
            "image/png": "[encoded data removed]"
          },
          "metadata": {
            "needs_background": "light"
          }
        }
      ]
    },
    {
      "cell_type": "markdown",
      "source": [
        "Model Evaluation"
      ],
      "metadata": {
        "id": "USQXD1t2exi0"
      }
    },
    {
      "cell_type": "code",
      "source": [
        "# get model predictions\n",
        "y_pred8 = model8.predict(X_val8)\n",
        "print(y_pred8[:5])"
      ],
      "metadata": {
        "colab": {
          "base_uri": "https://localhost:8080/"
        },
        "id": "MviWbkBEehTW",
        "outputId": "6a9e2c53-6fce-4569-d525-9daee791b174"
      },
      "execution_count": null,
      "outputs": [
        {
          "output_type": "stream",
          "name": "stdout",
          "text": [
            "7/7 [==============================] - 0s 2ms/step\n",
            "[[0.328579  ]\n",
            " [0.45665285]\n",
            " [0.4081702 ]\n",
            " [0.36125988]\n",
            " [0.43745774]]\n"
          ]
        }
      ]
    },
    {
      "cell_type": "code",
      "source": [
        "# convert to categorical predictions\n",
        "y_pred_categorical8 = [1 if pred > 0.5 else 0 for pred in y_pred8]\n",
        "print(y_pred_categorical8[:5])"
      ],
      "metadata": {
        "colab": {
          "base_uri": "https://localhost:8080/"
        },
        "id": "PuFQggrBeso9",
        "outputId": "7c843669-bd37-4809-e25d-9bf22f281f05"
      },
      "execution_count": null,
      "outputs": [
        {
          "output_type": "stream",
          "name": "stdout",
          "text": [
            "[0, 0, 0, 0, 0]\n"
          ]
        }
      ]
    },
    {
      "cell_type": "code",
      "source": [
        "# measure accuracy\n",
        "accuracy8 = metrics.accuracy_score(y_val8, y_pred_categorical8)\n",
        "print(f'Accuracy: {accuracy8}')"
      ],
      "metadata": {
        "colab": {
          "base_uri": "https://localhost:8080/"
        },
        "id": "0rCiStCDe-0a",
        "outputId": "08edd865-0c39-4461-94f4-3091eac972b0"
      },
      "execution_count": null,
      "outputs": [
        {
          "output_type": "stream",
          "name": "stdout",
          "text": [
            "Accuracy: 0.6567164179104478\n"
          ]
        }
      ]
    },
    {
      "cell_type": "markdown",
      "source": [
        "Test Prediction"
      ],
      "metadata": {
        "id": "i8bC9K3Peifi"
      }
    },
    {
      "cell_type": "code",
      "source": [
        "X_test8 = X_test.iloc[:, 0:8]\n",
        "X_test8.head()"
      ],
      "metadata": {
        "colab": {
          "base_uri": "https://localhost:8080/",
          "height": 206
        },
        "id": "nil0ObNyfDqw",
        "outputId": "6fa2b5dc-1981-41c0-fa8a-41dfadbea854"
      },
      "execution_count": null,
      "outputs": [
        {
          "output_type": "execute_result",
          "data": {
            "text/plain": [
              "   A1   A2   A3  A4   A5    A6     A7  A8\n",
              "0   6   98   58  33  190  34.0  0.430  43\n",
              "1   9  154   78  30  100  30.9  0.164  45\n",
              "2   6  165   68  26  168  33.6  0.631  49\n",
              "3   1   99   58  10    0  25.4  0.551  21\n",
              "4  10   68  106  23   49  35.5  0.285  47"
            ],
            "text/html": [
              "\n",
              "  <div id=\"df-cefd7a2f-146f-4f3e-aa4d-2d3d97058c63\">\n",
              "    <div class=\"colab-df-container\">\n",
              "      <div>\n",
              "<style scoped>\n",
              "    .dataframe tbody tr th:only-of-type {\n",
              "        vertical-align: middle;\n",
              "    }\n",
              "\n",
              "    .dataframe tbody tr th {\n",
              "        vertical-align: top;\n",
              "    }\n",
              "\n",
              "    .dataframe thead th {\n",
              "        text-align: right;\n",
              "    }\n",
              "</style>\n",
              "<table border=\"1\" class=\"dataframe\">\n",
              "  <thead>\n",
              "    <tr style=\"text-align: right;\">\n",
              "      <th></th>\n",
              "      <th>A1</th>\n",
              "      <th>A2</th>\n",
              "      <th>A3</th>\n",
              "      <th>A4</th>\n",
              "      <th>A5</th>\n",
              "      <th>A6</th>\n",
              "      <th>A7</th>\n",
              "      <th>A8</th>\n",
              "    </tr>\n",
              "  </thead>\n",
              "  <tbody>\n",
              "    <tr>\n",
              "      <th>0</th>\n",
              "      <td>6</td>\n",
              "      <td>98</td>\n",
              "      <td>58</td>\n",
              "      <td>33</td>\n",
              "      <td>190</td>\n",
              "      <td>34.0</td>\n",
              "      <td>0.430</td>\n",
              "      <td>43</td>\n",
              "    </tr>\n",
              "    <tr>\n",
              "      <th>1</th>\n",
              "      <td>9</td>\n",
              "      <td>154</td>\n",
              "      <td>78</td>\n",
              "      <td>30</td>\n",
              "      <td>100</td>\n",
              "      <td>30.9</td>\n",
              "      <td>0.164</td>\n",
              "      <td>45</td>\n",
              "    </tr>\n",
              "    <tr>\n",
              "      <th>2</th>\n",
              "      <td>6</td>\n",
              "      <td>165</td>\n",
              "      <td>68</td>\n",
              "      <td>26</td>\n",
              "      <td>168</td>\n",
              "      <td>33.6</td>\n",
              "      <td>0.631</td>\n",
              "      <td>49</td>\n",
              "    </tr>\n",
              "    <tr>\n",
              "      <th>3</th>\n",
              "      <td>1</td>\n",
              "      <td>99</td>\n",
              "      <td>58</td>\n",
              "      <td>10</td>\n",
              "      <td>0</td>\n",
              "      <td>25.4</td>\n",
              "      <td>0.551</td>\n",
              "      <td>21</td>\n",
              "    </tr>\n",
              "    <tr>\n",
              "      <th>4</th>\n",
              "      <td>10</td>\n",
              "      <td>68</td>\n",
              "      <td>106</td>\n",
              "      <td>23</td>\n",
              "      <td>49</td>\n",
              "      <td>35.5</td>\n",
              "      <td>0.285</td>\n",
              "      <td>47</td>\n",
              "    </tr>\n",
              "  </tbody>\n",
              "</table>\n",
              "</div>\n",
              "      <button class=\"colab-df-convert\" onclick=\"convertToInteractive('df-cefd7a2f-146f-4f3e-aa4d-2d3d97058c63')\"\n",
              "              title=\"Convert this dataframe to an interactive table.\"\n",
              "              style=\"display:none;\">\n",
              "        \n",
              "  <svg xmlns=\"http://www.w3.org/2000/svg\" height=\"24px\"viewBox=\"0 0 24 24\"\n",
              "       width=\"24px\">\n",
              "    <path d=\"M0 0h24v24H0V0z\" fill=\"none\"/>\n",
              "    <path d=\"M18.56 5.44l.94 2.06.94-2.06 2.06-.94-2.06-.94-.94-2.06-.94 2.06-2.06.94zm-11 1L8.5 8.5l.94-2.06 2.06-.94-2.06-.94L8.5 2.5l-.94 2.06-2.06.94zm10 10l.94 2.06.94-2.06 2.06-.94-2.06-.94-.94-2.06-.94 2.06-2.06.94z\"/><path d=\"M17.41 7.96l-1.37-1.37c-.4-.4-.92-.59-1.43-.59-.52 0-1.04.2-1.43.59L10.3 9.45l-7.72 7.72c-.78.78-.78 2.05 0 2.83L4 21.41c.39.39.9.59 1.41.59.51 0 1.02-.2 1.41-.59l7.78-7.78 2.81-2.81c.8-.78.8-2.07 0-2.86zM5.41 20L4 18.59l7.72-7.72 1.47 1.35L5.41 20z\"/>\n",
              "  </svg>\n",
              "      </button>\n",
              "      \n",
              "  <style>\n",
              "    .colab-df-container {\n",
              "      display:flex;\n",
              "      flex-wrap:wrap;\n",
              "      gap: 12px;\n",
              "    }\n",
              "\n",
              "    .colab-df-convert {\n",
              "      background-color: #E8F0FE;\n",
              "      border: none;\n",
              "      border-radius: 50%;\n",
              "      cursor: pointer;\n",
              "      display: none;\n",
              "      fill: #1967D2;\n",
              "      height: 32px;\n",
              "      padding: 0 0 0 0;\n",
              "      width: 32px;\n",
              "    }\n",
              "\n",
              "    .colab-df-convert:hover {\n",
              "      background-color: #E2EBFA;\n",
              "      box-shadow: 0px 1px 2px rgba(60, 64, 67, 0.3), 0px 1px 3px 1px rgba(60, 64, 67, 0.15);\n",
              "      fill: #174EA6;\n",
              "    }\n",
              "\n",
              "    [theme=dark] .colab-df-convert {\n",
              "      background-color: #3B4455;\n",
              "      fill: #D2E3FC;\n",
              "    }\n",
              "\n",
              "    [theme=dark] .colab-df-convert:hover {\n",
              "      background-color: #434B5C;\n",
              "      box-shadow: 0px 1px 3px 1px rgba(0, 0, 0, 0.15);\n",
              "      filter: drop-shadow(0px 1px 2px rgba(0, 0, 0, 0.3));\n",
              "      fill: #FFFFFF;\n",
              "    }\n",
              "  </style>\n",
              "\n",
              "      <script>\n",
              "        const buttonEl =\n",
              "          document.querySelector('#df-cefd7a2f-146f-4f3e-aa4d-2d3d97058c63 button.colab-df-convert');\n",
              "        buttonEl.style.display =\n",
              "          google.colab.kernel.accessAllowed ? 'block' : 'none';\n",
              "\n",
              "        async function convertToInteractive(key) {\n",
              "          const element = document.querySelector('#df-cefd7a2f-146f-4f3e-aa4d-2d3d97058c63');\n",
              "          const dataTable =\n",
              "            await google.colab.kernel.invokeFunction('convertToInteractive',\n",
              "                                                     [key], {});\n",
              "          if (!dataTable) return;\n",
              "\n",
              "          const docLinkHtml = 'Like what you see? Visit the ' +\n",
              "            '<a target=\"_blank\" href=https://colab.research.google.com/notebooks/data_table.ipynb>data table notebook</a>'\n",
              "            + ' to learn more about interactive tables.';\n",
              "          element.innerHTML = '';\n",
              "          dataTable['output_type'] = 'display_data';\n",
              "          await google.colab.output.renderOutput(dataTable, element);\n",
              "          const docLink = document.createElement('div');\n",
              "          docLink.innerHTML = docLinkHtml;\n",
              "          element.appendChild(docLink);\n",
              "        }\n",
              "      </script>\n",
              "    </div>\n",
              "  </div>\n",
              "  "
            ]
          },
          "metadata": {},
          "execution_count": 93
        }
      ]
    },
    {
      "cell_type": "code",
      "source": [
        "test_pred8 = model8.predict(X_test)\n",
        "print(test_pred8[:5])\n",
        "\n",
        "test_pred_categorical8 = [1 if pred > 0.5 else 0 for pred in test_pred8]\n",
        "print(test_pred_categorical8[:5])"
      ],
      "metadata": {
        "colab": {
          "base_uri": "https://localhost:8080/"
        },
        "id": "f2Xsb3zdfREP",
        "outputId": "f7cf1f43-09da-4632-8573-d404c11c2edf"
      },
      "execution_count": null,
      "outputs": [
        {
          "output_type": "stream",
          "name": "stdout",
          "text": [
            "4/4 [==============================] - 0s 3ms/step\n",
            "[[0.437742  ]\n",
            " [0.3776532 ]\n",
            " [0.4165116 ]\n",
            " [0.36064276]\n",
            " [0.36255166]]\n",
            "[0, 0, 0, 0, 0]\n"
          ]
        }
      ]
    },
    {
      "cell_type": "markdown",
      "source": [
        "## M9 - Applying regularizer"
      ],
      "metadata": {
        "id": "_YGAuSORqEBb"
      }
    },
    {
      "cell_type": "code",
      "source": [
        "X9 = X.iloc[:, 0:8]\n",
        "X9.head()"
      ],
      "metadata": {
        "colab": {
          "base_uri": "https://localhost:8080/",
          "height": 206
        },
        "id": "WmF2tEJ_s95G",
        "outputId": "593b124c-acd0-4fc2-d769-cd1d7a9809c0"
      },
      "execution_count": null,
      "outputs": [
        {
          "output_type": "execute_result",
          "data": {
            "text/plain": [
              "   A1   A2  A3  A4   A5    A6     A7  A8\n",
              "0   6  148  72  35    0  33.6  0.627  50\n",
              "1   1   85  66  29    0  26.6  0.351  31\n",
              "2   8  183  64   0    0  23.3  0.672  32\n",
              "3   1   89  66  23   94  28.1  0.167  21\n",
              "4   0  137  40  35  168  43.1  2.288  33"
            ],
            "text/html": [
              "\n",
              "  <div id=\"df-899a8e57-c2b1-4def-b3b0-4413802cc71c\">\n",
              "    <div class=\"colab-df-container\">\n",
              "      <div>\n",
              "<style scoped>\n",
              "    .dataframe tbody tr th:only-of-type {\n",
              "        vertical-align: middle;\n",
              "    }\n",
              "\n",
              "    .dataframe tbody tr th {\n",
              "        vertical-align: top;\n",
              "    }\n",
              "\n",
              "    .dataframe thead th {\n",
              "        text-align: right;\n",
              "    }\n",
              "</style>\n",
              "<table border=\"1\" class=\"dataframe\">\n",
              "  <thead>\n",
              "    <tr style=\"text-align: right;\">\n",
              "      <th></th>\n",
              "      <th>A1</th>\n",
              "      <th>A2</th>\n",
              "      <th>A3</th>\n",
              "      <th>A4</th>\n",
              "      <th>A5</th>\n",
              "      <th>A6</th>\n",
              "      <th>A7</th>\n",
              "      <th>A8</th>\n",
              "    </tr>\n",
              "  </thead>\n",
              "  <tbody>\n",
              "    <tr>\n",
              "      <th>0</th>\n",
              "      <td>6</td>\n",
              "      <td>148</td>\n",
              "      <td>72</td>\n",
              "      <td>35</td>\n",
              "      <td>0</td>\n",
              "      <td>33.6</td>\n",
              "      <td>0.627</td>\n",
              "      <td>50</td>\n",
              "    </tr>\n",
              "    <tr>\n",
              "      <th>1</th>\n",
              "      <td>1</td>\n",
              "      <td>85</td>\n",
              "      <td>66</td>\n",
              "      <td>29</td>\n",
              "      <td>0</td>\n",
              "      <td>26.6</td>\n",
              "      <td>0.351</td>\n",
              "      <td>31</td>\n",
              "    </tr>\n",
              "    <tr>\n",
              "      <th>2</th>\n",
              "      <td>8</td>\n",
              "      <td>183</td>\n",
              "      <td>64</td>\n",
              "      <td>0</td>\n",
              "      <td>0</td>\n",
              "      <td>23.3</td>\n",
              "      <td>0.672</td>\n",
              "      <td>32</td>\n",
              "    </tr>\n",
              "    <tr>\n",
              "      <th>3</th>\n",
              "      <td>1</td>\n",
              "      <td>89</td>\n",
              "      <td>66</td>\n",
              "      <td>23</td>\n",
              "      <td>94</td>\n",
              "      <td>28.1</td>\n",
              "      <td>0.167</td>\n",
              "      <td>21</td>\n",
              "    </tr>\n",
              "    <tr>\n",
              "      <th>4</th>\n",
              "      <td>0</td>\n",
              "      <td>137</td>\n",
              "      <td>40</td>\n",
              "      <td>35</td>\n",
              "      <td>168</td>\n",
              "      <td>43.1</td>\n",
              "      <td>2.288</td>\n",
              "      <td>33</td>\n",
              "    </tr>\n",
              "  </tbody>\n",
              "</table>\n",
              "</div>\n",
              "      <button class=\"colab-df-convert\" onclick=\"convertToInteractive('df-899a8e57-c2b1-4def-b3b0-4413802cc71c')\"\n",
              "              title=\"Convert this dataframe to an interactive table.\"\n",
              "              style=\"display:none;\">\n",
              "        \n",
              "  <svg xmlns=\"http://www.w3.org/2000/svg\" height=\"24px\"viewBox=\"0 0 24 24\"\n",
              "       width=\"24px\">\n",
              "    <path d=\"M0 0h24v24H0V0z\" fill=\"none\"/>\n",
              "    <path d=\"M18.56 5.44l.94 2.06.94-2.06 2.06-.94-2.06-.94-.94-2.06-.94 2.06-2.06.94zm-11 1L8.5 8.5l.94-2.06 2.06-.94-2.06-.94L8.5 2.5l-.94 2.06-2.06.94zm10 10l.94 2.06.94-2.06 2.06-.94-2.06-.94-.94-2.06-.94 2.06-2.06.94z\"/><path d=\"M17.41 7.96l-1.37-1.37c-.4-.4-.92-.59-1.43-.59-.52 0-1.04.2-1.43.59L10.3 9.45l-7.72 7.72c-.78.78-.78 2.05 0 2.83L4 21.41c.39.39.9.59 1.41.59.51 0 1.02-.2 1.41-.59l7.78-7.78 2.81-2.81c.8-.78.8-2.07 0-2.86zM5.41 20L4 18.59l7.72-7.72 1.47 1.35L5.41 20z\"/>\n",
              "  </svg>\n",
              "      </button>\n",
              "      \n",
              "  <style>\n",
              "    .colab-df-container {\n",
              "      display:flex;\n",
              "      flex-wrap:wrap;\n",
              "      gap: 12px;\n",
              "    }\n",
              "\n",
              "    .colab-df-convert {\n",
              "      background-color: #E8F0FE;\n",
              "      border: none;\n",
              "      border-radius: 50%;\n",
              "      cursor: pointer;\n",
              "      display: none;\n",
              "      fill: #1967D2;\n",
              "      height: 32px;\n",
              "      padding: 0 0 0 0;\n",
              "      width: 32px;\n",
              "    }\n",
              "\n",
              "    .colab-df-convert:hover {\n",
              "      background-color: #E2EBFA;\n",
              "      box-shadow: 0px 1px 2px rgba(60, 64, 67, 0.3), 0px 1px 3px 1px rgba(60, 64, 67, 0.15);\n",
              "      fill: #174EA6;\n",
              "    }\n",
              "\n",
              "    [theme=dark] .colab-df-convert {\n",
              "      background-color: #3B4455;\n",
              "      fill: #D2E3FC;\n",
              "    }\n",
              "\n",
              "    [theme=dark] .colab-df-convert:hover {\n",
              "      background-color: #434B5C;\n",
              "      box-shadow: 0px 1px 3px 1px rgba(0, 0, 0, 0.15);\n",
              "      filter: drop-shadow(0px 1px 2px rgba(0, 0, 0, 0.3));\n",
              "      fill: #FFFFFF;\n",
              "    }\n",
              "  </style>\n",
              "\n",
              "      <script>\n",
              "        const buttonEl =\n",
              "          document.querySelector('#df-899a8e57-c2b1-4def-b3b0-4413802cc71c button.colab-df-convert');\n",
              "        buttonEl.style.display =\n",
              "          google.colab.kernel.accessAllowed ? 'block' : 'none';\n",
              "\n",
              "        async function convertToInteractive(key) {\n",
              "          const element = document.querySelector('#df-899a8e57-c2b1-4def-b3b0-4413802cc71c');\n",
              "          const dataTable =\n",
              "            await google.colab.kernel.invokeFunction('convertToInteractive',\n",
              "                                                     [key], {});\n",
              "          if (!dataTable) return;\n",
              "\n",
              "          const docLinkHtml = 'Like what you see? Visit the ' +\n",
              "            '<a target=\"_blank\" href=https://colab.research.google.com/notebooks/data_table.ipynb>data table notebook</a>'\n",
              "            + ' to learn more about interactive tables.';\n",
              "          element.innerHTML = '';\n",
              "          dataTable['output_type'] = 'display_data';\n",
              "          await google.colab.output.renderOutput(dataTable, element);\n",
              "          const docLink = document.createElement('div');\n",
              "          docLink.innerHTML = docLinkHtml;\n",
              "          element.appendChild(docLink);\n",
              "        }\n",
              "      </script>\n",
              "    </div>\n",
              "  </div>\n",
              "  "
            ]
          },
          "metadata": {},
          "execution_count": 96
        }
      ]
    },
    {
      "cell_type": "code",
      "source": [
        "from tensorflow import keras\n",
        "from tensorflow.keras import layers, regularizers\n",
        "from sklearn.model_selection import train_test_split\n",
        "\n",
        "\n",
        "# Split the dataset into training and testing sets\n",
        "X_train9, X_val9, y_train9, y_val9 = train_test_split(X9, y, test_size=0.3, random_state=100)\n",
        "\n",
        "# Define the model\n",
        "model9 = keras.Sequential()\n",
        "model9.add(layers.Dense(12, input_dim=8, activation='relu'))\n",
        "model9.add(layers.BatchNormalization())\n",
        "model9.add(layers.Dense(8, activation='relu', kernel_regularizer=regularizers.l2(0.01)))\n",
        "model9.add(layers.Dropout(0.2))\n",
        "model9.add(layers.Dense(4, activation='relu'))\n",
        "model9.add(layers.Dense(1, activation='sigmoid'))\n",
        "\n",
        "model9.summary()\n",
        "\n",
        "# Compile the model\n",
        "model9.compile(optimizer='Adam', loss='binary_crossentropy', metrics=['accuracy'])\n",
        "\n",
        "# Train the model\n",
        "history = model9.fit(X_train9, y_train9, epochs=100, batch_size=50, validation_data=(X_val9, y_val9))"
      ],
      "metadata": {
        "colab": {
          "base_uri": "https://localhost:8080/"
        },
        "id": "1L0y3Xxmpz_d",
        "outputId": "462fc6d3-d4c4-495a-a81a-477eabbdb071"
      },
      "execution_count": null,
      "outputs": [
        {
          "output_type": "stream",
          "name": "stdout",
          "text": [
            "Model: \"sequential_3\"\n",
            "_________________________________________________________________\n",
            " Layer (type)                Output Shape              Param #   \n",
            "=================================================================\n",
            " dense_12 (Dense)            (None, 12)                108       \n",
            "                                                                 \n",
            " batch_normalization_2 (Batc  (None, 12)               48        \n",
            " hNormalization)                                                 \n",
            "                                                                 \n",
            " dense_13 (Dense)            (None, 8)                 104       \n",
            "                                                                 \n",
            " dropout_5 (Dropout)         (None, 8)                 0         \n",
            "                                                                 \n",
            " dense_14 (Dense)            (None, 4)                 36        \n",
            "                                                                 \n",
            " dense_15 (Dense)            (None, 1)                 5         \n",
            "                                                                 \n",
            "=================================================================\n",
            "Total params: 301\n",
            "Trainable params: 277\n",
            "Non-trainable params: 24\n",
            "_________________________________________________________________\n",
            "Epoch 1/100\n",
            "10/10 [==============================] - 4s 31ms/step - loss: 0.7499 - accuracy: 0.6467 - val_loss: 0.8517 - val_accuracy: 0.6567\n",
            "Epoch 2/100\n",
            "10/10 [==============================] - 0s 8ms/step - loss: 0.7393 - accuracy: 0.6317 - val_loss: 0.7965 - val_accuracy: 0.6567\n",
            "Epoch 3/100\n",
            "10/10 [==============================] - 0s 6ms/step - loss: 0.7121 - accuracy: 0.6809 - val_loss: 0.7829 - val_accuracy: 0.5721\n",
            "Epoch 4/100\n",
            "10/10 [==============================] - 0s 8ms/step - loss: 0.6948 - accuracy: 0.6681 - val_loss: 0.7777 - val_accuracy: 0.5622\n",
            "Epoch 5/100\n",
            "10/10 [==============================] - 0s 9ms/step - loss: 0.6915 - accuracy: 0.6702 - val_loss: 0.7716 - val_accuracy: 0.6169\n",
            "Epoch 6/100\n",
            "10/10 [==============================] - 0s 6ms/step - loss: 0.6890 - accuracy: 0.6852 - val_loss: 0.7636 - val_accuracy: 0.6368\n",
            "Epoch 7/100\n",
            "10/10 [==============================] - 0s 8ms/step - loss: 0.6895 - accuracy: 0.6552 - val_loss: 0.7558 - val_accuracy: 0.6517\n",
            "Epoch 8/100\n",
            "10/10 [==============================] - 0s 8ms/step - loss: 0.6720 - accuracy: 0.6681 - val_loss: 0.7479 - val_accuracy: 0.6219\n",
            "Epoch 9/100\n",
            "10/10 [==============================] - 0s 8ms/step - loss: 0.6720 - accuracy: 0.6831 - val_loss: 0.7400 - val_accuracy: 0.6169\n",
            "Epoch 10/100\n",
            "10/10 [==============================] - 0s 8ms/step - loss: 0.6518 - accuracy: 0.6959 - val_loss: 0.7326 - val_accuracy: 0.6169\n",
            "Epoch 11/100\n",
            "10/10 [==============================] - 0s 8ms/step - loss: 0.6451 - accuracy: 0.6895 - val_loss: 0.7199 - val_accuracy: 0.6318\n",
            "Epoch 12/100\n",
            "10/10 [==============================] - 0s 7ms/step - loss: 0.6516 - accuracy: 0.6831 - val_loss: 0.7093 - val_accuracy: 0.6368\n",
            "Epoch 13/100\n",
            "10/10 [==============================] - 0s 8ms/step - loss: 0.6459 - accuracy: 0.7045 - val_loss: 0.6996 - val_accuracy: 0.6567\n",
            "Epoch 14/100\n",
            "10/10 [==============================] - 0s 6ms/step - loss: 0.6282 - accuracy: 0.7131 - val_loss: 0.6855 - val_accuracy: 0.6766\n",
            "Epoch 15/100\n",
            "10/10 [==============================] - 0s 6ms/step - loss: 0.6339 - accuracy: 0.7024 - val_loss: 0.6735 - val_accuracy: 0.6965\n",
            "Epoch 16/100\n",
            "10/10 [==============================] - 0s 6ms/step - loss: 0.6297 - accuracy: 0.6916 - val_loss: 0.6626 - val_accuracy: 0.6965\n",
            "Epoch 17/100\n",
            "10/10 [==============================] - 0s 7ms/step - loss: 0.6235 - accuracy: 0.7066 - val_loss: 0.6528 - val_accuracy: 0.7114\n",
            "Epoch 18/100\n",
            "10/10 [==============================] - 0s 7ms/step - loss: 0.6291 - accuracy: 0.6938 - val_loss: 0.6404 - val_accuracy: 0.7164\n",
            "Epoch 19/100\n",
            "10/10 [==============================] - 0s 6ms/step - loss: 0.6025 - accuracy: 0.7238 - val_loss: 0.6281 - val_accuracy: 0.7313\n",
            "Epoch 20/100\n",
            "10/10 [==============================] - 0s 7ms/step - loss: 0.6134 - accuracy: 0.7195 - val_loss: 0.6166 - val_accuracy: 0.7164\n",
            "Epoch 21/100\n",
            "10/10 [==============================] - 0s 8ms/step - loss: 0.6009 - accuracy: 0.7388 - val_loss: 0.6063 - val_accuracy: 0.7164\n",
            "Epoch 22/100\n",
            "10/10 [==============================] - 0s 8ms/step - loss: 0.6055 - accuracy: 0.7173 - val_loss: 0.5996 - val_accuracy: 0.7065\n",
            "Epoch 23/100\n",
            "10/10 [==============================] - 0s 7ms/step - loss: 0.6075 - accuracy: 0.7302 - val_loss: 0.5912 - val_accuracy: 0.7065\n",
            "Epoch 24/100\n",
            "10/10 [==============================] - 0s 9ms/step - loss: 0.6033 - accuracy: 0.7024 - val_loss: 0.5837 - val_accuracy: 0.7164\n",
            "Epoch 25/100\n",
            "10/10 [==============================] - 0s 6ms/step - loss: 0.5912 - accuracy: 0.7259 - val_loss: 0.5785 - val_accuracy: 0.7164\n",
            "Epoch 26/100\n",
            "10/10 [==============================] - 0s 8ms/step - loss: 0.6032 - accuracy: 0.7152 - val_loss: 0.5741 - val_accuracy: 0.7214\n",
            "Epoch 27/100\n",
            "10/10 [==============================] - 0s 8ms/step - loss: 0.5940 - accuracy: 0.7345 - val_loss: 0.5704 - val_accuracy: 0.7264\n",
            "Epoch 28/100\n",
            "10/10 [==============================] - 0s 6ms/step - loss: 0.5993 - accuracy: 0.7152 - val_loss: 0.5653 - val_accuracy: 0.7214\n",
            "Epoch 29/100\n",
            "10/10 [==============================] - 0s 6ms/step - loss: 0.5953 - accuracy: 0.7259 - val_loss: 0.5633 - val_accuracy: 0.7313\n",
            "Epoch 30/100\n",
            "10/10 [==============================] - 0s 8ms/step - loss: 0.5803 - accuracy: 0.7302 - val_loss: 0.5605 - val_accuracy: 0.7313\n",
            "Epoch 31/100\n",
            "10/10 [==============================] - 0s 7ms/step - loss: 0.5770 - accuracy: 0.7216 - val_loss: 0.5551 - val_accuracy: 0.7313\n",
            "Epoch 32/100\n",
            "10/10 [==============================] - 0s 6ms/step - loss: 0.5772 - accuracy: 0.7473 - val_loss: 0.5535 - val_accuracy: 0.7214\n",
            "Epoch 33/100\n",
            "10/10 [==============================] - 0s 6ms/step - loss: 0.5807 - accuracy: 0.7216 - val_loss: 0.5516 - val_accuracy: 0.7214\n",
            "Epoch 34/100\n",
            "10/10 [==============================] - 0s 8ms/step - loss: 0.5809 - accuracy: 0.7238 - val_loss: 0.5489 - val_accuracy: 0.7313\n",
            "Epoch 35/100\n",
            "10/10 [==============================] - 0s 8ms/step - loss: 0.5831 - accuracy: 0.7323 - val_loss: 0.5473 - val_accuracy: 0.7363\n",
            "Epoch 36/100\n",
            "10/10 [==============================] - 0s 6ms/step - loss: 0.5801 - accuracy: 0.7366 - val_loss: 0.5448 - val_accuracy: 0.7363\n",
            "Epoch 37/100\n",
            "10/10 [==============================] - 0s 7ms/step - loss: 0.5613 - accuracy: 0.7430 - val_loss: 0.5413 - val_accuracy: 0.7313\n",
            "Epoch 38/100\n",
            "10/10 [==============================] - 0s 9ms/step - loss: 0.5746 - accuracy: 0.7366 - val_loss: 0.5393 - val_accuracy: 0.7413\n",
            "Epoch 39/100\n",
            "10/10 [==============================] - 0s 7ms/step - loss: 0.5715 - accuracy: 0.7366 - val_loss: 0.5387 - val_accuracy: 0.7313\n",
            "Epoch 40/100\n",
            "10/10 [==============================] - 0s 8ms/step - loss: 0.5725 - accuracy: 0.7537 - val_loss: 0.5333 - val_accuracy: 0.7463\n",
            "Epoch 41/100\n",
            "10/10 [==============================] - 0s 8ms/step - loss: 0.5683 - accuracy: 0.7495 - val_loss: 0.5298 - val_accuracy: 0.7363\n",
            "Epoch 42/100\n",
            "10/10 [==============================] - 0s 7ms/step - loss: 0.5850 - accuracy: 0.7109 - val_loss: 0.5286 - val_accuracy: 0.7363\n",
            "Epoch 43/100\n",
            "10/10 [==============================] - 0s 7ms/step - loss: 0.5611 - accuracy: 0.7366 - val_loss: 0.5278 - val_accuracy: 0.7463\n",
            "Epoch 44/100\n",
            "10/10 [==============================] - 0s 8ms/step - loss: 0.5606 - accuracy: 0.7409 - val_loss: 0.5274 - val_accuracy: 0.7463\n",
            "Epoch 45/100\n",
            "10/10 [==============================] - 0s 7ms/step - loss: 0.5645 - accuracy: 0.7173 - val_loss: 0.5278 - val_accuracy: 0.7463\n",
            "Epoch 46/100\n",
            "10/10 [==============================] - 0s 8ms/step - loss: 0.5549 - accuracy: 0.7259 - val_loss: 0.5299 - val_accuracy: 0.7463\n",
            "Epoch 47/100\n",
            "10/10 [==============================] - 0s 7ms/step - loss: 0.5615 - accuracy: 0.7216 - val_loss: 0.5281 - val_accuracy: 0.7413\n",
            "Epoch 48/100\n",
            "10/10 [==============================] - 0s 7ms/step - loss: 0.5463 - accuracy: 0.7452 - val_loss: 0.5297 - val_accuracy: 0.7363\n",
            "Epoch 49/100\n",
            "10/10 [==============================] - 0s 8ms/step - loss: 0.5561 - accuracy: 0.7495 - val_loss: 0.5263 - val_accuracy: 0.7463\n",
            "Epoch 50/100\n",
            "10/10 [==============================] - 0s 8ms/step - loss: 0.5581 - accuracy: 0.7281 - val_loss: 0.5246 - val_accuracy: 0.7463\n",
            "Epoch 51/100\n",
            "10/10 [==============================] - 0s 9ms/step - loss: 0.5587 - accuracy: 0.7452 - val_loss: 0.5232 - val_accuracy: 0.7512\n",
            "Epoch 52/100\n",
            "10/10 [==============================] - 0s 7ms/step - loss: 0.5597 - accuracy: 0.7388 - val_loss: 0.5203 - val_accuracy: 0.7562\n",
            "Epoch 53/100\n",
            "10/10 [==============================] - 0s 7ms/step - loss: 0.5444 - accuracy: 0.7580 - val_loss: 0.5187 - val_accuracy: 0.7612\n",
            "Epoch 54/100\n",
            "10/10 [==============================] - 0s 8ms/step - loss: 0.5498 - accuracy: 0.7537 - val_loss: 0.5190 - val_accuracy: 0.7662\n",
            "Epoch 55/100\n",
            "10/10 [==============================] - 0s 7ms/step - loss: 0.5645 - accuracy: 0.7152 - val_loss: 0.5206 - val_accuracy: 0.7612\n",
            "Epoch 56/100\n",
            "10/10 [==============================] - 0s 8ms/step - loss: 0.5612 - accuracy: 0.7323 - val_loss: 0.5238 - val_accuracy: 0.7562\n",
            "Epoch 57/100\n",
            "10/10 [==============================] - 0s 7ms/step - loss: 0.5454 - accuracy: 0.7495 - val_loss: 0.5259 - val_accuracy: 0.7512\n",
            "Epoch 58/100\n",
            "10/10 [==============================] - 0s 7ms/step - loss: 0.5351 - accuracy: 0.7473 - val_loss: 0.5256 - val_accuracy: 0.7562\n",
            "Epoch 59/100\n",
            "10/10 [==============================] - 0s 7ms/step - loss: 0.5501 - accuracy: 0.7602 - val_loss: 0.5245 - val_accuracy: 0.7612\n",
            "Epoch 60/100\n",
            "10/10 [==============================] - 0s 6ms/step - loss: 0.5483 - accuracy: 0.7430 - val_loss: 0.5226 - val_accuracy: 0.7562\n",
            "Epoch 61/100\n",
            "10/10 [==============================] - 0s 6ms/step - loss: 0.5456 - accuracy: 0.7388 - val_loss: 0.5190 - val_accuracy: 0.7711\n",
            "Epoch 62/100\n",
            "10/10 [==============================] - 0s 7ms/step - loss: 0.5480 - accuracy: 0.7580 - val_loss: 0.5117 - val_accuracy: 0.7861\n",
            "Epoch 63/100\n",
            "10/10 [==============================] - 0s 7ms/step - loss: 0.5423 - accuracy: 0.7366 - val_loss: 0.5089 - val_accuracy: 0.7811\n",
            "Epoch 64/100\n",
            "10/10 [==============================] - 0s 8ms/step - loss: 0.5423 - accuracy: 0.7495 - val_loss: 0.5093 - val_accuracy: 0.7761\n",
            "Epoch 65/100\n",
            "10/10 [==============================] - 0s 7ms/step - loss: 0.5497 - accuracy: 0.7216 - val_loss: 0.5111 - val_accuracy: 0.7711\n",
            "Epoch 66/100\n",
            "10/10 [==============================] - 0s 7ms/step - loss: 0.5371 - accuracy: 0.7430 - val_loss: 0.5115 - val_accuracy: 0.7662\n",
            "Epoch 67/100\n",
            "10/10 [==============================] - 0s 7ms/step - loss: 0.5412 - accuracy: 0.7345 - val_loss: 0.5110 - val_accuracy: 0.7711\n",
            "Epoch 68/100\n",
            "10/10 [==============================] - 0s 7ms/step - loss: 0.5452 - accuracy: 0.7537 - val_loss: 0.5099 - val_accuracy: 0.7761\n",
            "Epoch 69/100\n",
            "10/10 [==============================] - 0s 6ms/step - loss: 0.5320 - accuracy: 0.7430 - val_loss: 0.5095 - val_accuracy: 0.7612\n",
            "Epoch 70/100\n",
            "10/10 [==============================] - 0s 8ms/step - loss: 0.5254 - accuracy: 0.7388 - val_loss: 0.5081 - val_accuracy: 0.7711\n",
            "Epoch 71/100\n",
            "10/10 [==============================] - 0s 8ms/step - loss: 0.5377 - accuracy: 0.7559 - val_loss: 0.5091 - val_accuracy: 0.7711\n",
            "Epoch 72/100\n",
            "10/10 [==============================] - 0s 7ms/step - loss: 0.5289 - accuracy: 0.7666 - val_loss: 0.5103 - val_accuracy: 0.7761\n",
            "Epoch 73/100\n",
            "10/10 [==============================] - 0s 6ms/step - loss: 0.5496 - accuracy: 0.7495 - val_loss: 0.5100 - val_accuracy: 0.7761\n",
            "Epoch 74/100\n",
            "10/10 [==============================] - 0s 7ms/step - loss: 0.5340 - accuracy: 0.7580 - val_loss: 0.5105 - val_accuracy: 0.7711\n",
            "Epoch 75/100\n",
            "10/10 [==============================] - 0s 8ms/step - loss: 0.5299 - accuracy: 0.7537 - val_loss: 0.5092 - val_accuracy: 0.7761\n",
            "Epoch 76/100\n",
            "10/10 [==============================] - 0s 7ms/step - loss: 0.5464 - accuracy: 0.7473 - val_loss: 0.5081 - val_accuracy: 0.7761\n",
            "Epoch 77/100\n",
            "10/10 [==============================] - 0s 7ms/step - loss: 0.5200 - accuracy: 0.7666 - val_loss: 0.5061 - val_accuracy: 0.7811\n",
            "Epoch 78/100\n",
            "10/10 [==============================] - 0s 7ms/step - loss: 0.5278 - accuracy: 0.7559 - val_loss: 0.5081 - val_accuracy: 0.7861\n",
            "Epoch 79/100\n",
            "10/10 [==============================] - 0s 6ms/step - loss: 0.5250 - accuracy: 0.7559 - val_loss: 0.5086 - val_accuracy: 0.7811\n",
            "Epoch 80/100\n",
            "10/10 [==============================] - 0s 6ms/step - loss: 0.5315 - accuracy: 0.7666 - val_loss: 0.5096 - val_accuracy: 0.7811\n",
            "Epoch 81/100\n",
            "10/10 [==============================] - 0s 8ms/step - loss: 0.5271 - accuracy: 0.7645 - val_loss: 0.5100 - val_accuracy: 0.7711\n",
            "Epoch 82/100\n",
            "10/10 [==============================] - 0s 8ms/step - loss: 0.5323 - accuracy: 0.7623 - val_loss: 0.5099 - val_accuracy: 0.7711\n",
            "Epoch 83/100\n",
            "10/10 [==============================] - 0s 7ms/step - loss: 0.5203 - accuracy: 0.7645 - val_loss: 0.5078 - val_accuracy: 0.7861\n",
            "Epoch 84/100\n",
            "10/10 [==============================] - 0s 6ms/step - loss: 0.5351 - accuracy: 0.7388 - val_loss: 0.5079 - val_accuracy: 0.7811\n",
            "Epoch 85/100\n",
            "10/10 [==============================] - 0s 8ms/step - loss: 0.5177 - accuracy: 0.7602 - val_loss: 0.5082 - val_accuracy: 0.7910\n",
            "Epoch 86/100\n",
            "10/10 [==============================] - 0s 8ms/step - loss: 0.5148 - accuracy: 0.7645 - val_loss: 0.5136 - val_accuracy: 0.7811\n",
            "Epoch 87/100\n",
            "10/10 [==============================] - 0s 7ms/step - loss: 0.5243 - accuracy: 0.7602 - val_loss: 0.5121 - val_accuracy: 0.7761\n",
            "Epoch 88/100\n",
            "10/10 [==============================] - 0s 8ms/step - loss: 0.5323 - accuracy: 0.7495 - val_loss: 0.5091 - val_accuracy: 0.7761\n",
            "Epoch 89/100\n",
            "10/10 [==============================] - 0s 7ms/step - loss: 0.5201 - accuracy: 0.7666 - val_loss: 0.5084 - val_accuracy: 0.7662\n",
            "Epoch 90/100\n",
            "10/10 [==============================] - 0s 10ms/step - loss: 0.5408 - accuracy: 0.7430 - val_loss: 0.4940 - val_accuracy: 0.7811\n",
            "Epoch 91/100\n",
            "10/10 [==============================] - 0s 8ms/step - loss: 0.5258 - accuracy: 0.7388 - val_loss: 0.4897 - val_accuracy: 0.7711\n",
            "Epoch 92/100\n",
            "10/10 [==============================] - 0s 8ms/step - loss: 0.5247 - accuracy: 0.7537 - val_loss: 0.4896 - val_accuracy: 0.7811\n",
            "Epoch 93/100\n",
            "10/10 [==============================] - 0s 8ms/step - loss: 0.5330 - accuracy: 0.7580 - val_loss: 0.4910 - val_accuracy: 0.7711\n",
            "Epoch 94/100\n",
            "10/10 [==============================] - 0s 6ms/step - loss: 0.5197 - accuracy: 0.7645 - val_loss: 0.4911 - val_accuracy: 0.7761\n",
            "Epoch 95/100\n",
            "10/10 [==============================] - 0s 7ms/step - loss: 0.5154 - accuracy: 0.7730 - val_loss: 0.4933 - val_accuracy: 0.7711\n",
            "Epoch 96/100\n",
            "10/10 [==============================] - 0s 7ms/step - loss: 0.5249 - accuracy: 0.7473 - val_loss: 0.4938 - val_accuracy: 0.7711\n",
            "Epoch 97/100\n",
            "10/10 [==============================] - 0s 7ms/step - loss: 0.5150 - accuracy: 0.7709 - val_loss: 0.4914 - val_accuracy: 0.7861\n",
            "Epoch 98/100\n",
            "10/10 [==============================] - 0s 8ms/step - loss: 0.5246 - accuracy: 0.7473 - val_loss: 0.4905 - val_accuracy: 0.7910\n",
            "Epoch 99/100\n",
            "10/10 [==============================] - 0s 7ms/step - loss: 0.5142 - accuracy: 0.7645 - val_loss: 0.4937 - val_accuracy: 0.7761\n",
            "Epoch 100/100\n",
            "10/10 [==============================] - 0s 6ms/step - loss: 0.5246 - accuracy: 0.7623 - val_loss: 0.4976 - val_accuracy: 0.7711\n"
          ]
        }
      ]
    },
    {
      "cell_type": "code",
      "source": [
        "# plot the history of the training\n",
        "import matplotlib.pyplot as plt\n",
        "\n",
        "# summarize the history for accuracy\n",
        "plt.plot(history.history['accuracy'])\n",
        "plt.plot(history.history['val_accuracy'])\n",
        "plt.title('model accuracy')\n",
        "plt.ylabel('accuracy')\n",
        "plt.xlabel('epoch')\n",
        "plt.legend(['train','test'], loc='upper left')\n",
        "plt.show()\n",
        "\n",
        "# summarize the history for loss\n",
        "plt.plot(history.history['loss'])\n",
        "plt.plot(history.history['val_loss'])\n",
        "plt.title('model loss')\n",
        "plt.ylabel('loss')\n",
        "plt.xlabel('epoch')\n",
        "plt.legend(['train','test'], loc='upper left')\n",
        "plt.show()"
      ],
      "metadata": {
        "colab": {
          "base_uri": "https://localhost:8080/",
          "height": 573
        },
        "id": "jQxG0UcJqqvj",
        "outputId": "222d2d08-7b3c-4e0d-af91-b0a5230e801c"
      },
      "execution_count": null,
      "outputs": [
        {
          "output_type": "display_data",
          "data": {
            "text/plain": [
              "<Figure size 432x288 with 1 Axes>"
            ],
            "image/png": "[encoded data removed]"
          },
          "metadata": {
            "needs_background": "light"
          }
        },
        {
          "output_type": "display_data",
          "data": {
            "text/plain": [
              "<Figure size 432x288 with 1 Axes>"
            ],
            "image/png": "[encoded data removed]"
          },
          "metadata": {
            "needs_background": "light"
          }
        }
      ]
    },
    {
      "cell_type": "markdown",
      "source": [
        "Model 9 Evaluation"
      ],
      "metadata": {
        "id": "nfdLDH-iq9-p"
      }
    },
    {
      "cell_type": "code",
      "source": [
        "# get model predictions\n",
        "y_pred9 = model9.predict(X_val8)\n",
        "print(y_pred9[:5])"
      ],
      "metadata": {
        "colab": {
          "base_uri": "https://localhost:8080/"
        },
        "id": "_HhEDsZuq9IY",
        "outputId": "cce28995-494b-4a35-b8c8-79f3b30cc570"
      },
      "execution_count": null,
      "outputs": [
        {
          "output_type": "stream",
          "name": "stdout",
          "text": [
            "7/7 [==============================] - 0s 2ms/step\n",
            "[[0.1340486 ]\n",
            " [0.36718914]\n",
            " [0.15757553]\n",
            " [0.11732362]\n",
            " [0.68135756]]\n"
          ]
        }
      ]
    },
    {
      "cell_type": "code",
      "source": [
        "# convert to categorical predictions\n",
        "y_pred_categorical9 = [1 if pred > 0.5 else 0 for pred in y_pred9]\n",
        "print(y_pred_categorical9[:5])"
      ],
      "metadata": {
        "colab": {
          "base_uri": "https://localhost:8080/"
        },
        "id": "iMJXE7JKrCAz",
        "outputId": "16626ec0-af45-47de-c22e-628ffd1e6309"
      },
      "execution_count": null,
      "outputs": [
        {
          "output_type": "stream",
          "name": "stdout",
          "text": [
            "[0, 0, 0, 0, 1]\n"
          ]
        }
      ]
    },
    {
      "cell_type": "code",
      "source": [
        "# measure accuracy\n",
        "accuracy9 = metrics.accuracy_score(y_val9, y_pred_categorical9)\n",
        "print(f'Accuracy: {accuracy9}')"
      ],
      "metadata": {
        "colab": {
          "base_uri": "https://localhost:8080/"
        },
        "id": "YEo6HrO_rPLQ",
        "outputId": "67bda910-b9c7-4c8a-b285-133acd800164"
      },
      "execution_count": null,
      "outputs": [
        {
          "output_type": "stream",
          "name": "stdout",
          "text": [
            "Accuracy: 0.7711442786069652\n"
          ]
        }
      ]
    },
    {
      "cell_type": "markdown",
      "source": [
        "Test prediction"
      ],
      "metadata": {
        "id": "VRPuetkprYBI"
      }
    },
    {
      "cell_type": "code",
      "source": [
        "X_test9 = X_test.iloc[:, 0:8]\n",
        "X_test9.head()"
      ],
      "metadata": {
        "colab": {
          "base_uri": "https://localhost:8080/",
          "height": 206
        },
        "id": "99H9-Zq2rZ_e",
        "outputId": "1b064e85-53de-4266-e1c1-59f833acea3c"
      },
      "execution_count": null,
      "outputs": [
        {
          "output_type": "execute_result",
          "data": {
            "text/plain": [
              "   A1   A2   A3  A4   A5    A6     A7  A8\n",
              "0   6   98   58  33  190  34.0  0.430  43\n",
              "1   9  154   78  30  100  30.9  0.164  45\n",
              "2   6  165   68  26  168  33.6  0.631  49\n",
              "3   1   99   58  10    0  25.4  0.551  21\n",
              "4  10   68  106  23   49  35.5  0.285  47"
            ],
            "text/html": [
              "\n",
              "  <div id=\"df-8f6eb7f9-0cde-456d-a08a-b7d901d2cf8b\">\n",
              "    <div class=\"colab-df-container\">\n",
              "      <div>\n",
              "<style scoped>\n",
              "    .dataframe tbody tr th:only-of-type {\n",
              "        vertical-align: middle;\n",
              "    }\n",
              "\n",
              "    .dataframe tbody tr th {\n",
              "        vertical-align: top;\n",
              "    }\n",
              "\n",
              "    .dataframe thead th {\n",
              "        text-align: right;\n",
              "    }\n",
              "</style>\n",
              "<table border=\"1\" class=\"dataframe\">\n",
              "  <thead>\n",
              "    <tr style=\"text-align: right;\">\n",
              "      <th></th>\n",
              "      <th>A1</th>\n",
              "      <th>A2</th>\n",
              "      <th>A3</th>\n",
              "      <th>A4</th>\n",
              "      <th>A5</th>\n",
              "      <th>A6</th>\n",
              "      <th>A7</th>\n",
              "      <th>A8</th>\n",
              "    </tr>\n",
              "  </thead>\n",
              "  <tbody>\n",
              "    <tr>\n",
              "      <th>0</th>\n",
              "      <td>6</td>\n",
              "      <td>98</td>\n",
              "      <td>58</td>\n",
              "      <td>33</td>\n",
              "      <td>190</td>\n",
              "      <td>34.0</td>\n",
              "      <td>0.430</td>\n",
              "      <td>43</td>\n",
              "    </tr>\n",
              "    <tr>\n",
              "      <th>1</th>\n",
              "      <td>9</td>\n",
              "      <td>154</td>\n",
              "      <td>78</td>\n",
              "      <td>30</td>\n",
              "      <td>100</td>\n",
              "      <td>30.9</td>\n",
              "      <td>0.164</td>\n",
              "      <td>45</td>\n",
              "    </tr>\n",
              "    <tr>\n",
              "      <th>2</th>\n",
              "      <td>6</td>\n",
              "      <td>165</td>\n",
              "      <td>68</td>\n",
              "      <td>26</td>\n",
              "      <td>168</td>\n",
              "      <td>33.6</td>\n",
              "      <td>0.631</td>\n",
              "      <td>49</td>\n",
              "    </tr>\n",
              "    <tr>\n",
              "      <th>3</th>\n",
              "      <td>1</td>\n",
              "      <td>99</td>\n",
              "      <td>58</td>\n",
              "      <td>10</td>\n",
              "      <td>0</td>\n",
              "      <td>25.4</td>\n",
              "      <td>0.551</td>\n",
              "      <td>21</td>\n",
              "    </tr>\n",
              "    <tr>\n",
              "      <th>4</th>\n",
              "      <td>10</td>\n",
              "      <td>68</td>\n",
              "      <td>106</td>\n",
              "      <td>23</td>\n",
              "      <td>49</td>\n",
              "      <td>35.5</td>\n",
              "      <td>0.285</td>\n",
              "      <td>47</td>\n",
              "    </tr>\n",
              "  </tbody>\n",
              "</table>\n",
              "</div>\n",
              "      <button class=\"colab-df-convert\" onclick=\"convertToInteractive('df-8f6eb7f9-0cde-456d-a08a-b7d901d2cf8b')\"\n",
              "              title=\"Convert this dataframe to an interactive table.\"\n",
              "              style=\"display:none;\">\n",
              "        \n",
              "  <svg xmlns=\"http://www.w3.org/2000/svg\" height=\"24px\"viewBox=\"0 0 24 24\"\n",
              "       width=\"24px\">\n",
              "    <path d=\"M0 0h24v24H0V0z\" fill=\"none\"/>\n",
              "    <path d=\"M18.56 5.44l.94 2.06.94-2.06 2.06-.94-2.06-.94-.94-2.06-.94 2.06-2.06.94zm-11 1L8.5 8.5l.94-2.06 2.06-.94-2.06-.94L8.5 2.5l-.94 2.06-2.06.94zm10 10l.94 2.06.94-2.06 2.06-.94-2.06-.94-.94-2.06-.94 2.06-2.06.94z\"/><path d=\"M17.41 7.96l-1.37-1.37c-.4-.4-.92-.59-1.43-.59-.52 0-1.04.2-1.43.59L10.3 9.45l-7.72 7.72c-.78.78-.78 2.05 0 2.83L4 21.41c.39.39.9.59 1.41.59.51 0 1.02-.2 1.41-.59l7.78-7.78 2.81-2.81c.8-.78.8-2.07 0-2.86zM5.41 20L4 18.59l7.72-7.72 1.47 1.35L5.41 20z\"/>\n",
              "  </svg>\n",
              "      </button>\n",
              "      \n",
              "  <style>\n",
              "    .colab-df-container {\n",
              "      display:flex;\n",
              "      flex-wrap:wrap;\n",
              "      gap: 12px;\n",
              "    }\n",
              "\n",
              "    .colab-df-convert {\n",
              "      background-color: #E8F0FE;\n",
              "      border: none;\n",
              "      border-radius: 50%;\n",
              "      cursor: pointer;\n",
              "      display: none;\n",
              "      fill: #1967D2;\n",
              "      height: 32px;\n",
              "      padding: 0 0 0 0;\n",
              "      width: 32px;\n",
              "    }\n",
              "\n",
              "    .colab-df-convert:hover {\n",
              "      background-color: #E2EBFA;\n",
              "      box-shadow: 0px 1px 2px rgba(60, 64, 67, 0.3), 0px 1px 3px 1px rgba(60, 64, 67, 0.15);\n",
              "      fill: #174EA6;\n",
              "    }\n",
              "\n",
              "    [theme=dark] .colab-df-convert {\n",
              "      background-color: #3B4455;\n",
              "      fill: #D2E3FC;\n",
              "    }\n",
              "\n",
              "    [theme=dark] .colab-df-convert:hover {\n",
              "      background-color: #434B5C;\n",
              "      box-shadow: 0px 1px 3px 1px rgba(0, 0, 0, 0.15);\n",
              "      filter: drop-shadow(0px 1px 2px rgba(0, 0, 0, 0.3));\n",
              "      fill: #FFFFFF;\n",
              "    }\n",
              "  </style>\n",
              "\n",
              "      <script>\n",
              "        const buttonEl =\n",
              "          document.querySelector('#df-8f6eb7f9-0cde-456d-a08a-b7d901d2cf8b button.colab-df-convert');\n",
              "        buttonEl.style.display =\n",
              "          google.colab.kernel.accessAllowed ? 'block' : 'none';\n",
              "\n",
              "        async function convertToInteractive(key) {\n",
              "          const element = document.querySelector('#df-8f6eb7f9-0cde-456d-a08a-b7d901d2cf8b');\n",
              "          const dataTable =\n",
              "            await google.colab.kernel.invokeFunction('convertToInteractive',\n",
              "                                                     [key], {});\n",
              "          if (!dataTable) return;\n",
              "\n",
              "          const docLinkHtml = 'Like what you see? Visit the ' +\n",
              "            '<a target=\"_blank\" href=https://colab.research.google.com/notebooks/data_table.ipynb>data table notebook</a>'\n",
              "            + ' to learn more about interactive tables.';\n",
              "          element.innerHTML = '';\n",
              "          dataTable['output_type'] = 'display_data';\n",
              "          await google.colab.output.renderOutput(dataTable, element);\n",
              "          const docLink = document.createElement('div');\n",
              "          docLink.innerHTML = docLinkHtml;\n",
              "          element.appendChild(docLink);\n",
              "        }\n",
              "      </script>\n",
              "    </div>\n",
              "  </div>\n",
              "  "
            ]
          },
          "metadata": {},
          "execution_count": 103
        }
      ]
    },
    {
      "cell_type": "code",
      "source": [
        "test_pred9 = model9.predict(X_test)\n",
        "print(test_pred9[:5])\n",
        "\n",
        "test_pred_categorical9 = [1 if pred > 0.5 else 0 for pred in test_pred9]\n",
        "print(test_pred_categorical9[:5])"
      ],
      "metadata": {
        "colab": {
          "base_uri": "https://localhost:8080/"
        },
        "id": "RNNfpgwQrjPC",
        "outputId": "483b438d-8734-48df-e2b2-ca67758e85d8"
      },
      "execution_count": null,
      "outputs": [
        {
          "output_type": "stream",
          "name": "stdout",
          "text": [
            "4/4 [==============================] - 0s 3ms/step\n",
            "[[0.24877411]\n",
            " [0.6047975 ]\n",
            " [0.6996074 ]\n",
            " [0.07891393]\n",
            " [0.15986964]]\n",
            "[0, 1, 1, 0, 0]\n"
          ]
        }
      ]
    },
    {
      "cell_type": "markdown",
      "source": [
        "## Creating the submission data"
      ],
      "metadata": {
        "id": "U9mEE45Apuzt"
      }
    },
    {
      "cell_type": "code",
      "source": [
        "# create data frame for submission\n",
        "df_test = pd.DataFrame(diabetes_test['id'])\n",
        "df_test['prediction'] = test_pred_categorical9"
      ],
      "metadata": {
        "id": "-PbIiS4DMEO7"
      },
      "execution_count": null,
      "outputs": []
    },
    {
      "cell_type": "code",
      "source": [
        "# save data frame to .csv file\n",
        "df_test.to_csv('/content/drive/MyDrive/AppliedAI/Assessment 4/diabetes_prediction2.csv', index=False)"
      ],
      "metadata": {
        "id": "8S52VhYVg0IN"
      },
      "execution_count": null,
      "outputs": []
    },
    {
      "cell_type": "code",
      "source": [
        "import json\n",
        "\n",
        "import pandas as pd\n",
        "\n",
        "test_file_path = '/content/drive/MyDrive/AppliedAI/Assessment 4/diabetes_prediction2.csv'\n",
        "df_test = pd.read_csv(test_file_path)\n",
        "df_test = df_test[[\"id\", \"prediction\"]]\n",
        "\n",
        "data = []\n",
        "for index, row in df_test.iterrows():\n",
        "    data.append({'id': int(row['id']), 'prediction': int(row['prediction'])})\n",
        "\n",
        "print(data[0:5])\n",
        "\n",
        "submission_file_path = \"submission.json\"\n",
        "with open(submission_file_path, 'w') as fp:\n",
        "    fp.write('\\n'.join(json.dumps(i) for i in data))"
      ],
      "metadata": {
        "colab": {
          "base_uri": "https://localhost:8080/"
        },
        "id": "JbOQf1kSMP7z",
        "outputId": "54679c87-3423-404c-bed7-b22b9df6bb2b"
      },
      "execution_count": null,
      "outputs": [
        {
          "output_type": "stream",
          "name": "stdout",
          "text": [
            "[{'id': 1, 'prediction': 0}, {'id': 2, 'prediction': 1}, {'id': 3, 'prediction': 1}, {'id': 4, 'prediction': 0}, {'id': 5, 'prediction': 0}]\n"
          ]
        }
      ]
    },
    {
      "cell_type": "code",
      "source": [],
      "metadata": {
        "id": "jwLypj39nBfH"
      },
      "execution_count": null,
      "outputs": []
    }
  ]
}